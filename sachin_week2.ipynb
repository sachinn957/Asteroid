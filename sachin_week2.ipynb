{
  "cells": [
    {
      "cell_type": "code",
      "execution_count": null,
      "metadata": {
        "colab": {
          "base_uri": "https://localhost:8080/"
        },
        "id": "OBtvXRIWUuoo",
        "outputId": "56747ccf-b7da-4ae6-cc0d-b828f8ad52cd"
      },
      "outputs": [
        {
          "output_type": "stream",
          "name": "stdout",
          "text": [
            "Mounted at /content/drive\n"
          ]
        }
      ],
      "source": [
        "from google.colab import drive\n",
        "drive.mount('/content/drive')\n"
      ]
    },
    {
      "cell_type": "code",
      "execution_count": null,
      "metadata": {
        "id": "ov7yBEE7VNTe"
      },
      "outputs": [],
      "source": [
        "import numpy as np\n",
        "import pandas as pd\n",
        "import matplotlib.pyplot as plt\n",
        "%matplotlib inline\n",
        "import seaborn as sns\n",
        "import warnings\n",
        "warnings.simplefilter(action=\"ignore\", category=FutureWarning)"
      ]
    },
    {
      "cell_type": "code",
      "execution_count": null,
      "metadata": {
        "id": "RvjEodeeUyQf",
        "colab": {
          "base_uri": "https://localhost:8080/",
          "height": 334
        },
        "outputId": "6c2567d1-e43d-41a6-d5a5-92d2f3bd9030"
      },
      "outputs": [
        {
          "output_type": "stream",
          "name": "stderr",
          "text": [
            "/usr/local/lib/python3.7/dist-packages/IPython/core/interactiveshell.py:3326: DtypeWarning: Columns (0,10,15,16,23,24) have mixed types.Specify dtype option on import or set low_memory=False.\n",
            "  exec(code_obj, self.user_global_ns, self.user_ns)\n"
          ]
        },
        {
          "output_type": "execute_result",
          "data": {
            "text/plain": [
              "      name         a         e          i          om           w         q  \\\n",
              "0    Ceres  2.769165  0.076009  10.594067   80.305532   73.597694  2.558684   \n",
              "1   Pallas  2.772466  0.230337  34.836234  173.080063  310.048857  2.133865   \n",
              "2     Juno  2.669150  0.256942  12.988919  169.852760  248.138626  1.983332   \n",
              "3    Vesta  2.361418  0.088721   7.141771  103.810804  150.728541  2.151909   \n",
              "4  Astraea  2.574249  0.191095   5.366988  141.576605  358.687607  2.082324   \n",
              "\n",
              "         ad     per_y  data_arc  ...     UB  IR  spec_B spec_T     G     moid  \\\n",
              "0  2.979647  4.608202    8822.0  ...  0.426 NaN       C      G  0.12  1.59478   \n",
              "1  3.411067  4.616444   72318.0  ...  0.284 NaN       B      B  0.11  1.23324   \n",
              "2  3.354967  4.360814   72684.0  ...  0.433 NaN      Sk      S  0.32  1.03454   \n",
              "3  2.570926  3.628837   24288.0  ...  0.492 NaN       V      V  0.32  1.13948   \n",
              "4  3.066174  4.130323   63507.0  ...  0.411 NaN       S      S   NaN  1.09589   \n",
              "\n",
              "  class         n          per          ma  \n",
              "0   MBA  0.213885  1683.145708   77.372096  \n",
              "1   MBA  0.213503  1686.155999   59.699133  \n",
              "2   MBA  0.226019  1592.787285   34.925016  \n",
              "3   MBA  0.271609  1325.432765   95.861936  \n",
              "4   MBA  0.238632  1508.600458  282.366289  \n",
              "\n",
              "[5 rows x 31 columns]"
            ],
            "text/html": [
              "\n",
              "  <div id=\"df-ad4e869f-a82e-4032-a741-2cb99ac120ee\">\n",
              "    <div class=\"colab-df-container\">\n",
              "      <div>\n",
              "<style scoped>\n",
              "    .dataframe tbody tr th:only-of-type {\n",
              "        vertical-align: middle;\n",
              "    }\n",
              "\n",
              "    .dataframe tbody tr th {\n",
              "        vertical-align: top;\n",
              "    }\n",
              "\n",
              "    .dataframe thead th {\n",
              "        text-align: right;\n",
              "    }\n",
              "</style>\n",
              "<table border=\"1\" class=\"dataframe\">\n",
              "  <thead>\n",
              "    <tr style=\"text-align: right;\">\n",
              "      <th></th>\n",
              "      <th>name</th>\n",
              "      <th>a</th>\n",
              "      <th>e</th>\n",
              "      <th>i</th>\n",
              "      <th>om</th>\n",
              "      <th>w</th>\n",
              "      <th>q</th>\n",
              "      <th>ad</th>\n",
              "      <th>per_y</th>\n",
              "      <th>data_arc</th>\n",
              "      <th>...</th>\n",
              "      <th>UB</th>\n",
              "      <th>IR</th>\n",
              "      <th>spec_B</th>\n",
              "      <th>spec_T</th>\n",
              "      <th>G</th>\n",
              "      <th>moid</th>\n",
              "      <th>class</th>\n",
              "      <th>n</th>\n",
              "      <th>per</th>\n",
              "      <th>ma</th>\n",
              "    </tr>\n",
              "  </thead>\n",
              "  <tbody>\n",
              "    <tr>\n",
              "      <th>0</th>\n",
              "      <td>Ceres</td>\n",
              "      <td>2.769165</td>\n",
              "      <td>0.076009</td>\n",
              "      <td>10.594067</td>\n",
              "      <td>80.305532</td>\n",
              "      <td>73.597694</td>\n",
              "      <td>2.558684</td>\n",
              "      <td>2.979647</td>\n",
              "      <td>4.608202</td>\n",
              "      <td>8822.0</td>\n",
              "      <td>...</td>\n",
              "      <td>0.426</td>\n",
              "      <td>NaN</td>\n",
              "      <td>C</td>\n",
              "      <td>G</td>\n",
              "      <td>0.12</td>\n",
              "      <td>1.59478</td>\n",
              "      <td>MBA</td>\n",
              "      <td>0.213885</td>\n",
              "      <td>1683.145708</td>\n",
              "      <td>77.372096</td>\n",
              "    </tr>\n",
              "    <tr>\n",
              "      <th>1</th>\n",
              "      <td>Pallas</td>\n",
              "      <td>2.772466</td>\n",
              "      <td>0.230337</td>\n",
              "      <td>34.836234</td>\n",
              "      <td>173.080063</td>\n",
              "      <td>310.048857</td>\n",
              "      <td>2.133865</td>\n",
              "      <td>3.411067</td>\n",
              "      <td>4.616444</td>\n",
              "      <td>72318.0</td>\n",
              "      <td>...</td>\n",
              "      <td>0.284</td>\n",
              "      <td>NaN</td>\n",
              "      <td>B</td>\n",
              "      <td>B</td>\n",
              "      <td>0.11</td>\n",
              "      <td>1.23324</td>\n",
              "      <td>MBA</td>\n",
              "      <td>0.213503</td>\n",
              "      <td>1686.155999</td>\n",
              "      <td>59.699133</td>\n",
              "    </tr>\n",
              "    <tr>\n",
              "      <th>2</th>\n",
              "      <td>Juno</td>\n",
              "      <td>2.669150</td>\n",
              "      <td>0.256942</td>\n",
              "      <td>12.988919</td>\n",
              "      <td>169.852760</td>\n",
              "      <td>248.138626</td>\n",
              "      <td>1.983332</td>\n",
              "      <td>3.354967</td>\n",
              "      <td>4.360814</td>\n",
              "      <td>72684.0</td>\n",
              "      <td>...</td>\n",
              "      <td>0.433</td>\n",
              "      <td>NaN</td>\n",
              "      <td>Sk</td>\n",
              "      <td>S</td>\n",
              "      <td>0.32</td>\n",
              "      <td>1.03454</td>\n",
              "      <td>MBA</td>\n",
              "      <td>0.226019</td>\n",
              "      <td>1592.787285</td>\n",
              "      <td>34.925016</td>\n",
              "    </tr>\n",
              "    <tr>\n",
              "      <th>3</th>\n",
              "      <td>Vesta</td>\n",
              "      <td>2.361418</td>\n",
              "      <td>0.088721</td>\n",
              "      <td>7.141771</td>\n",
              "      <td>103.810804</td>\n",
              "      <td>150.728541</td>\n",
              "      <td>2.151909</td>\n",
              "      <td>2.570926</td>\n",
              "      <td>3.628837</td>\n",
              "      <td>24288.0</td>\n",
              "      <td>...</td>\n",
              "      <td>0.492</td>\n",
              "      <td>NaN</td>\n",
              "      <td>V</td>\n",
              "      <td>V</td>\n",
              "      <td>0.32</td>\n",
              "      <td>1.13948</td>\n",
              "      <td>MBA</td>\n",
              "      <td>0.271609</td>\n",
              "      <td>1325.432765</td>\n",
              "      <td>95.861936</td>\n",
              "    </tr>\n",
              "    <tr>\n",
              "      <th>4</th>\n",
              "      <td>Astraea</td>\n",
              "      <td>2.574249</td>\n",
              "      <td>0.191095</td>\n",
              "      <td>5.366988</td>\n",
              "      <td>141.576605</td>\n",
              "      <td>358.687607</td>\n",
              "      <td>2.082324</td>\n",
              "      <td>3.066174</td>\n",
              "      <td>4.130323</td>\n",
              "      <td>63507.0</td>\n",
              "      <td>...</td>\n",
              "      <td>0.411</td>\n",
              "      <td>NaN</td>\n",
              "      <td>S</td>\n",
              "      <td>S</td>\n",
              "      <td>NaN</td>\n",
              "      <td>1.09589</td>\n",
              "      <td>MBA</td>\n",
              "      <td>0.238632</td>\n",
              "      <td>1508.600458</td>\n",
              "      <td>282.366289</td>\n",
              "    </tr>\n",
              "  </tbody>\n",
              "</table>\n",
              "<p>5 rows × 31 columns</p>\n",
              "</div>\n",
              "      <button class=\"colab-df-convert\" onclick=\"convertToInteractive('df-ad4e869f-a82e-4032-a741-2cb99ac120ee')\"\n",
              "              title=\"Convert this dataframe to an interactive table.\"\n",
              "              style=\"display:none;\">\n",
              "        \n",
              "  <svg xmlns=\"http://www.w3.org/2000/svg\" height=\"24px\"viewBox=\"0 0 24 24\"\n",
              "       width=\"24px\">\n",
              "    <path d=\"M0 0h24v24H0V0z\" fill=\"none\"/>\n",
              "    <path d=\"M18.56 5.44l.94 2.06.94-2.06 2.06-.94-2.06-.94-.94-2.06-.94 2.06-2.06.94zm-11 1L8.5 8.5l.94-2.06 2.06-.94-2.06-.94L8.5 2.5l-.94 2.06-2.06.94zm10 10l.94 2.06.94-2.06 2.06-.94-2.06-.94-.94-2.06-.94 2.06-2.06.94z\"/><path d=\"M17.41 7.96l-1.37-1.37c-.4-.4-.92-.59-1.43-.59-.52 0-1.04.2-1.43.59L10.3 9.45l-7.72 7.72c-.78.78-.78 2.05 0 2.83L4 21.41c.39.39.9.59 1.41.59.51 0 1.02-.2 1.41-.59l7.78-7.78 2.81-2.81c.8-.78.8-2.07 0-2.86zM5.41 20L4 18.59l7.72-7.72 1.47 1.35L5.41 20z\"/>\n",
              "  </svg>\n",
              "      </button>\n",
              "      \n",
              "  <style>\n",
              "    .colab-df-container {\n",
              "      display:flex;\n",
              "      flex-wrap:wrap;\n",
              "      gap: 12px;\n",
              "    }\n",
              "\n",
              "    .colab-df-convert {\n",
              "      background-color: #E8F0FE;\n",
              "      border: none;\n",
              "      border-radius: 50%;\n",
              "      cursor: pointer;\n",
              "      display: none;\n",
              "      fill: #1967D2;\n",
              "      height: 32px;\n",
              "      padding: 0 0 0 0;\n",
              "      width: 32px;\n",
              "    }\n",
              "\n",
              "    .colab-df-convert:hover {\n",
              "      background-color: #E2EBFA;\n",
              "      box-shadow: 0px 1px 2px rgba(60, 64, 67, 0.3), 0px 1px 3px 1px rgba(60, 64, 67, 0.15);\n",
              "      fill: #174EA6;\n",
              "    }\n",
              "\n",
              "    [theme=dark] .colab-df-convert {\n",
              "      background-color: #3B4455;\n",
              "      fill: #D2E3FC;\n",
              "    }\n",
              "\n",
              "    [theme=dark] .colab-df-convert:hover {\n",
              "      background-color: #434B5C;\n",
              "      box-shadow: 0px 1px 3px 1px rgba(0, 0, 0, 0.15);\n",
              "      filter: drop-shadow(0px 1px 2px rgba(0, 0, 0, 0.3));\n",
              "      fill: #FFFFFF;\n",
              "    }\n",
              "  </style>\n",
              "\n",
              "      <script>\n",
              "        const buttonEl =\n",
              "          document.querySelector('#df-ad4e869f-a82e-4032-a741-2cb99ac120ee button.colab-df-convert');\n",
              "        buttonEl.style.display =\n",
              "          google.colab.kernel.accessAllowed ? 'block' : 'none';\n",
              "\n",
              "        async function convertToInteractive(key) {\n",
              "          const element = document.querySelector('#df-ad4e869f-a82e-4032-a741-2cb99ac120ee');\n",
              "          const dataTable =\n",
              "            await google.colab.kernel.invokeFunction('convertToInteractive',\n",
              "                                                     [key], {});\n",
              "          if (!dataTable) return;\n",
              "\n",
              "          const docLinkHtml = 'Like what you see? Visit the ' +\n",
              "            '<a target=\"_blank\" href=https://colab.research.google.com/notebooks/data_table.ipynb>data table notebook</a>'\n",
              "            + ' to learn more about interactive tables.';\n",
              "          element.innerHTML = '';\n",
              "          dataTable['output_type'] = 'display_data';\n",
              "          await google.colab.output.renderOutput(dataTable, element);\n",
              "          const docLink = document.createElement('div');\n",
              "          docLink.innerHTML = docLinkHtml;\n",
              "          element.appendChild(docLink);\n",
              "        }\n",
              "      </script>\n",
              "    </div>\n",
              "  </div>\n",
              "  "
            ]
          },
          "metadata": {},
          "execution_count": 3
        }
      ],
      "source": [
        "df = pd.read_csv('/content/drive/My Drive/Asteroid_Updated.csv')\n",
        "df.head()"
      ]
    },
    {
      "cell_type": "code",
      "execution_count": null,
      "metadata": {
        "colab": {
          "base_uri": "https://localhost:8080/"
        },
        "id": "QHek8va8FH-w",
        "outputId": "beedee34-22ab-46a8-a0a8-2ab360c57df2"
      },
      "outputs": [
        {
          "output_type": "stream",
          "name": "stdout",
          "text": [
            "name              122512\n",
            "a                      0\n",
            "e                      0\n",
            "i                      0\n",
            "om                     0\n",
            "w                      0\n",
            "q                      0\n",
            "ad                     0\n",
            "per_y                  0\n",
            "data_arc             138\n",
            "condition_code         0\n",
            "n_obs_used             0\n",
            "H                    747\n",
            "neo                    0\n",
            "pha                    0\n",
            "diameter               0\n",
            "extent            137620\n",
            "albedo              1230\n",
            "rot_per           126448\n",
            "GM                137622\n",
            "BV                136631\n",
            "UB                136671\n",
            "IR                137635\n",
            "spec_B            136266\n",
            "spec_T            136671\n",
            "G                 137517\n",
            "moid                   0\n",
            "class                  0\n",
            "n                      0\n",
            "per                    0\n",
            "ma                     0\n",
            "dtype: int64 \n",
            "\n",
            "<class 'pandas.core.frame.DataFrame'>\n",
            "Int64Index: 137636 entries, 0 to 810375\n",
            "Data columns (total 31 columns):\n",
            " #   Column          Non-Null Count   Dtype  \n",
            "---  ------          --------------   -----  \n",
            " 0   name            15124 non-null   object \n",
            " 1   a               137636 non-null  float64\n",
            " 2   e               137636 non-null  float64\n",
            " 3   i               137636 non-null  float64\n",
            " 4   om              137636 non-null  float64\n",
            " 5   w               137636 non-null  float64\n",
            " 6   q               137636 non-null  float64\n",
            " 7   ad              137636 non-null  float64\n",
            " 8   per_y           137636 non-null  float64\n",
            " 9   data_arc        137498 non-null  float64\n",
            " 10  condition_code  137636 non-null  object \n",
            " 11  n_obs_used      137636 non-null  int64  \n",
            " 12  H               136889 non-null  float64\n",
            " 13  neo             137636 non-null  object \n",
            " 14  pha             137636 non-null  object \n",
            " 15  diameter        137636 non-null  object \n",
            " 16  extent          16 non-null      object \n",
            " 17  albedo          136406 non-null  float64\n",
            " 18  rot_per         11188 non-null   float64\n",
            " 19  GM              14 non-null      float64\n",
            " 20  BV              1005 non-null    float64\n",
            " 21  UB              965 non-null     float64\n",
            " 22  IR              1 non-null       float64\n",
            " 23  spec_B          1370 non-null    object \n",
            " 24  spec_T          965 non-null     object \n",
            " 25  G               119 non-null     float64\n",
            " 26  moid            137636 non-null  float64\n",
            " 27  class           137636 non-null  object \n",
            " 28  n               137636 non-null  float64\n",
            " 29  per             137636 non-null  float64\n",
            " 30  ma              137636 non-null  float64\n",
            "dtypes: float64(21), int64(1), object(9)\n",
            "memory usage: 33.6+ MB\n"
          ]
        },
        {
          "output_type": "stream",
          "name": "stderr",
          "text": [
            "/usr/local/lib/python3.7/dist-packages/pandas/core/generic.py:5516: SettingWithCopyWarning: \n",
            "A value is trying to be set on a copy of a slice from a DataFrame.\n",
            "Try using .loc[row_indexer,col_indexer] = value instead\n",
            "\n",
            "See the caveats in the documentation: https://pandas.pydata.org/pandas-docs/stable/user_guide/indexing.html#returning-a-view-versus-a-copy\n",
            "  self[name] = value\n"
          ]
        }
      ],
      "source": [
        "df2=df[~df['diameter'].isna()]\n",
        "test_data = df[df['diameter'].isna()]\n",
        "df2\n",
        "\n",
        "print(df2.isnull().sum(),'\\n')\n",
        "df2.info()\n",
        "\n",
        "df2.diameter = df2.diameter.astype(float)\n",
        "df2.condition_code = df2.condition_code.astype(float)"
      ]
    },
    {
      "cell_type": "code",
      "source": [
        "df2.describe()"
      ],
      "metadata": {
        "colab": {
          "base_uri": "https://localhost:8080/",
          "height": 394
        },
        "id": "UvvgN0rcqDlE",
        "outputId": "124b352e-c10f-4087-dd2a-8550cff04833"
      },
      "execution_count": null,
      "outputs": [
        {
          "output_type": "execute_result",
          "data": {
            "text/plain": [
              "                   a              e              i             om  \\\n",
              "count  137636.000000  137636.000000  137636.000000  137636.000000   \n",
              "mean        2.814613       0.145485      10.349182     169.827629   \n",
              "std         1.522740       0.077573       6.835111     102.713052   \n",
              "min         0.626226       0.000489       0.021855       0.000738   \n",
              "25%         2.536714       0.089623       5.120506      82.334880   \n",
              "50%         2.750859       0.138543       9.389963     160.438430   \n",
              "75%         3.092537       0.191141      13.738588     256.268387   \n",
              "max       389.145964       0.984348     170.323647     359.990858   \n",
              "\n",
              "                   w              q             ad          per_y  \\\n",
              "count  137636.000000  137636.000000  137636.000000  137636.000000   \n",
              "mean      181.904551       2.402609       3.226618       4.884248   \n",
              "std       103.556464       0.516169       2.896374      25.532565   \n",
              "min         0.004466       0.081882       0.999956       0.495569   \n",
              "25%        91.947943       2.068948       2.864438       4.040317   \n",
              "50%       183.669900       2.363897       3.167516       4.562581   \n",
              "75%       271.762261       2.685811       3.468608       5.438518   \n",
              "max       359.995174      40.465671     772.201080    7676.742943   \n",
              "\n",
              "            data_arc  condition_code  ...       rot_per            GM  \\\n",
              "count  137498.000000   137636.000000  ...  11188.000000  1.400000e+01   \n",
              "mean     8969.818601        0.485207  ...     23.566011  7.821928e+00   \n",
              "std      6165.176190        1.966078  ...     74.829904  1.678880e+01   \n",
              "min         1.000000        0.000000  ...      0.029952  2.100000e-09   \n",
              "25%      6291.000000        0.000000  ...      4.670000  1.022225e-03   \n",
              "50%      7572.000000        0.000000  ...      7.560000  6.192500e-01   \n",
              "75%      9731.000000        0.000000  ...     14.579500  6.500000e+00   \n",
              "max     72684.000000        9.000000  ...   1880.000000  6.262840e+01   \n",
              "\n",
              "                BV          UB    IR           G           moid  \\\n",
              "count  1005.000000  965.000000  1.00  119.000000  137636.000000   \n",
              "mean      0.768844    0.364108 -0.33    0.178739       1.420145   \n",
              "std       0.088327    0.095707   NaN    0.134603       0.512241   \n",
              "min       0.580000    0.120000 -0.33   -0.250000       0.000166   \n",
              "25%       0.700000    0.289000 -0.33    0.100000       1.082523   \n",
              "50%       0.743000    0.360000 -0.33    0.190000       1.384935   \n",
              "75%       0.850000    0.439000 -0.33    0.250000       1.699385   \n",
              "max       1.077000    0.655000 -0.33    0.600000      39.507000   \n",
              "\n",
              "                   n           per             ma  \n",
              "count  137636.000000  1.376360e+05  137636.000000  \n",
              "mean        0.219640  1.783972e+03     183.116785  \n",
              "std         0.056980  9.325769e+03     103.411497  \n",
              "min         0.000128  1.810067e+02       0.000517  \n",
              "25%         0.181231  1.475726e+03      94.301261  \n",
              "50%         0.216024  1.666483e+03     186.826667  \n",
              "75%         0.243948  1.986419e+03     271.468299  \n",
              "max         1.988877  2.803930e+06     359.999979  \n",
              "\n",
              "[8 rows x 24 columns]"
            ],
            "text/html": [
              "\n",
              "  <div id=\"df-fcb3ded8-2903-4d56-8035-96ab31b85f34\">\n",
              "    <div class=\"colab-df-container\">\n",
              "      <div>\n",
              "<style scoped>\n",
              "    .dataframe tbody tr th:only-of-type {\n",
              "        vertical-align: middle;\n",
              "    }\n",
              "\n",
              "    .dataframe tbody tr th {\n",
              "        vertical-align: top;\n",
              "    }\n",
              "\n",
              "    .dataframe thead th {\n",
              "        text-align: right;\n",
              "    }\n",
              "</style>\n",
              "<table border=\"1\" class=\"dataframe\">\n",
              "  <thead>\n",
              "    <tr style=\"text-align: right;\">\n",
              "      <th></th>\n",
              "      <th>a</th>\n",
              "      <th>e</th>\n",
              "      <th>i</th>\n",
              "      <th>om</th>\n",
              "      <th>w</th>\n",
              "      <th>q</th>\n",
              "      <th>ad</th>\n",
              "      <th>per_y</th>\n",
              "      <th>data_arc</th>\n",
              "      <th>condition_code</th>\n",
              "      <th>...</th>\n",
              "      <th>rot_per</th>\n",
              "      <th>GM</th>\n",
              "      <th>BV</th>\n",
              "      <th>UB</th>\n",
              "      <th>IR</th>\n",
              "      <th>G</th>\n",
              "      <th>moid</th>\n",
              "      <th>n</th>\n",
              "      <th>per</th>\n",
              "      <th>ma</th>\n",
              "    </tr>\n",
              "  </thead>\n",
              "  <tbody>\n",
              "    <tr>\n",
              "      <th>count</th>\n",
              "      <td>137636.000000</td>\n",
              "      <td>137636.000000</td>\n",
              "      <td>137636.000000</td>\n",
              "      <td>137636.000000</td>\n",
              "      <td>137636.000000</td>\n",
              "      <td>137636.000000</td>\n",
              "      <td>137636.000000</td>\n",
              "      <td>137636.000000</td>\n",
              "      <td>137498.000000</td>\n",
              "      <td>137636.000000</td>\n",
              "      <td>...</td>\n",
              "      <td>11188.000000</td>\n",
              "      <td>1.400000e+01</td>\n",
              "      <td>1005.000000</td>\n",
              "      <td>965.000000</td>\n",
              "      <td>1.00</td>\n",
              "      <td>119.000000</td>\n",
              "      <td>137636.000000</td>\n",
              "      <td>137636.000000</td>\n",
              "      <td>1.376360e+05</td>\n",
              "      <td>137636.000000</td>\n",
              "    </tr>\n",
              "    <tr>\n",
              "      <th>mean</th>\n",
              "      <td>2.814613</td>\n",
              "      <td>0.145485</td>\n",
              "      <td>10.349182</td>\n",
              "      <td>169.827629</td>\n",
              "      <td>181.904551</td>\n",
              "      <td>2.402609</td>\n",
              "      <td>3.226618</td>\n",
              "      <td>4.884248</td>\n",
              "      <td>8969.818601</td>\n",
              "      <td>0.485207</td>\n",
              "      <td>...</td>\n",
              "      <td>23.566011</td>\n",
              "      <td>7.821928e+00</td>\n",
              "      <td>0.768844</td>\n",
              "      <td>0.364108</td>\n",
              "      <td>-0.33</td>\n",
              "      <td>0.178739</td>\n",
              "      <td>1.420145</td>\n",
              "      <td>0.219640</td>\n",
              "      <td>1.783972e+03</td>\n",
              "      <td>183.116785</td>\n",
              "    </tr>\n",
              "    <tr>\n",
              "      <th>std</th>\n",
              "      <td>1.522740</td>\n",
              "      <td>0.077573</td>\n",
              "      <td>6.835111</td>\n",
              "      <td>102.713052</td>\n",
              "      <td>103.556464</td>\n",
              "      <td>0.516169</td>\n",
              "      <td>2.896374</td>\n",
              "      <td>25.532565</td>\n",
              "      <td>6165.176190</td>\n",
              "      <td>1.966078</td>\n",
              "      <td>...</td>\n",
              "      <td>74.829904</td>\n",
              "      <td>1.678880e+01</td>\n",
              "      <td>0.088327</td>\n",
              "      <td>0.095707</td>\n",
              "      <td>NaN</td>\n",
              "      <td>0.134603</td>\n",
              "      <td>0.512241</td>\n",
              "      <td>0.056980</td>\n",
              "      <td>9.325769e+03</td>\n",
              "      <td>103.411497</td>\n",
              "    </tr>\n",
              "    <tr>\n",
              "      <th>min</th>\n",
              "      <td>0.626226</td>\n",
              "      <td>0.000489</td>\n",
              "      <td>0.021855</td>\n",
              "      <td>0.000738</td>\n",
              "      <td>0.004466</td>\n",
              "      <td>0.081882</td>\n",
              "      <td>0.999956</td>\n",
              "      <td>0.495569</td>\n",
              "      <td>1.000000</td>\n",
              "      <td>0.000000</td>\n",
              "      <td>...</td>\n",
              "      <td>0.029952</td>\n",
              "      <td>2.100000e-09</td>\n",
              "      <td>0.580000</td>\n",
              "      <td>0.120000</td>\n",
              "      <td>-0.33</td>\n",
              "      <td>-0.250000</td>\n",
              "      <td>0.000166</td>\n",
              "      <td>0.000128</td>\n",
              "      <td>1.810067e+02</td>\n",
              "      <td>0.000517</td>\n",
              "    </tr>\n",
              "    <tr>\n",
              "      <th>25%</th>\n",
              "      <td>2.536714</td>\n",
              "      <td>0.089623</td>\n",
              "      <td>5.120506</td>\n",
              "      <td>82.334880</td>\n",
              "      <td>91.947943</td>\n",
              "      <td>2.068948</td>\n",
              "      <td>2.864438</td>\n",
              "      <td>4.040317</td>\n",
              "      <td>6291.000000</td>\n",
              "      <td>0.000000</td>\n",
              "      <td>...</td>\n",
              "      <td>4.670000</td>\n",
              "      <td>1.022225e-03</td>\n",
              "      <td>0.700000</td>\n",
              "      <td>0.289000</td>\n",
              "      <td>-0.33</td>\n",
              "      <td>0.100000</td>\n",
              "      <td>1.082523</td>\n",
              "      <td>0.181231</td>\n",
              "      <td>1.475726e+03</td>\n",
              "      <td>94.301261</td>\n",
              "    </tr>\n",
              "    <tr>\n",
              "      <th>50%</th>\n",
              "      <td>2.750859</td>\n",
              "      <td>0.138543</td>\n",
              "      <td>9.389963</td>\n",
              "      <td>160.438430</td>\n",
              "      <td>183.669900</td>\n",
              "      <td>2.363897</td>\n",
              "      <td>3.167516</td>\n",
              "      <td>4.562581</td>\n",
              "      <td>7572.000000</td>\n",
              "      <td>0.000000</td>\n",
              "      <td>...</td>\n",
              "      <td>7.560000</td>\n",
              "      <td>6.192500e-01</td>\n",
              "      <td>0.743000</td>\n",
              "      <td>0.360000</td>\n",
              "      <td>-0.33</td>\n",
              "      <td>0.190000</td>\n",
              "      <td>1.384935</td>\n",
              "      <td>0.216024</td>\n",
              "      <td>1.666483e+03</td>\n",
              "      <td>186.826667</td>\n",
              "    </tr>\n",
              "    <tr>\n",
              "      <th>75%</th>\n",
              "      <td>3.092537</td>\n",
              "      <td>0.191141</td>\n",
              "      <td>13.738588</td>\n",
              "      <td>256.268387</td>\n",
              "      <td>271.762261</td>\n",
              "      <td>2.685811</td>\n",
              "      <td>3.468608</td>\n",
              "      <td>5.438518</td>\n",
              "      <td>9731.000000</td>\n",
              "      <td>0.000000</td>\n",
              "      <td>...</td>\n",
              "      <td>14.579500</td>\n",
              "      <td>6.500000e+00</td>\n",
              "      <td>0.850000</td>\n",
              "      <td>0.439000</td>\n",
              "      <td>-0.33</td>\n",
              "      <td>0.250000</td>\n",
              "      <td>1.699385</td>\n",
              "      <td>0.243948</td>\n",
              "      <td>1.986419e+03</td>\n",
              "      <td>271.468299</td>\n",
              "    </tr>\n",
              "    <tr>\n",
              "      <th>max</th>\n",
              "      <td>389.145964</td>\n",
              "      <td>0.984348</td>\n",
              "      <td>170.323647</td>\n",
              "      <td>359.990858</td>\n",
              "      <td>359.995174</td>\n",
              "      <td>40.465671</td>\n",
              "      <td>772.201080</td>\n",
              "      <td>7676.742943</td>\n",
              "      <td>72684.000000</td>\n",
              "      <td>9.000000</td>\n",
              "      <td>...</td>\n",
              "      <td>1880.000000</td>\n",
              "      <td>6.262840e+01</td>\n",
              "      <td>1.077000</td>\n",
              "      <td>0.655000</td>\n",
              "      <td>-0.33</td>\n",
              "      <td>0.600000</td>\n",
              "      <td>39.507000</td>\n",
              "      <td>1.988877</td>\n",
              "      <td>2.803930e+06</td>\n",
              "      <td>359.999979</td>\n",
              "    </tr>\n",
              "  </tbody>\n",
              "</table>\n",
              "<p>8 rows × 24 columns</p>\n",
              "</div>\n",
              "      <button class=\"colab-df-convert\" onclick=\"convertToInteractive('df-fcb3ded8-2903-4d56-8035-96ab31b85f34')\"\n",
              "              title=\"Convert this dataframe to an interactive table.\"\n",
              "              style=\"display:none;\">\n",
              "        \n",
              "  <svg xmlns=\"http://www.w3.org/2000/svg\" height=\"24px\"viewBox=\"0 0 24 24\"\n",
              "       width=\"24px\">\n",
              "    <path d=\"M0 0h24v24H0V0z\" fill=\"none\"/>\n",
              "    <path d=\"M18.56 5.44l.94 2.06.94-2.06 2.06-.94-2.06-.94-.94-2.06-.94 2.06-2.06.94zm-11 1L8.5 8.5l.94-2.06 2.06-.94-2.06-.94L8.5 2.5l-.94 2.06-2.06.94zm10 10l.94 2.06.94-2.06 2.06-.94-2.06-.94-.94-2.06-.94 2.06-2.06.94z\"/><path d=\"M17.41 7.96l-1.37-1.37c-.4-.4-.92-.59-1.43-.59-.52 0-1.04.2-1.43.59L10.3 9.45l-7.72 7.72c-.78.78-.78 2.05 0 2.83L4 21.41c.39.39.9.59 1.41.59.51 0 1.02-.2 1.41-.59l7.78-7.78 2.81-2.81c.8-.78.8-2.07 0-2.86zM5.41 20L4 18.59l7.72-7.72 1.47 1.35L5.41 20z\"/>\n",
              "  </svg>\n",
              "      </button>\n",
              "      \n",
              "  <style>\n",
              "    .colab-df-container {\n",
              "      display:flex;\n",
              "      flex-wrap:wrap;\n",
              "      gap: 12px;\n",
              "    }\n",
              "\n",
              "    .colab-df-convert {\n",
              "      background-color: #E8F0FE;\n",
              "      border: none;\n",
              "      border-radius: 50%;\n",
              "      cursor: pointer;\n",
              "      display: none;\n",
              "      fill: #1967D2;\n",
              "      height: 32px;\n",
              "      padding: 0 0 0 0;\n",
              "      width: 32px;\n",
              "    }\n",
              "\n",
              "    .colab-df-convert:hover {\n",
              "      background-color: #E2EBFA;\n",
              "      box-shadow: 0px 1px 2px rgba(60, 64, 67, 0.3), 0px 1px 3px 1px rgba(60, 64, 67, 0.15);\n",
              "      fill: #174EA6;\n",
              "    }\n",
              "\n",
              "    [theme=dark] .colab-df-convert {\n",
              "      background-color: #3B4455;\n",
              "      fill: #D2E3FC;\n",
              "    }\n",
              "\n",
              "    [theme=dark] .colab-df-convert:hover {\n",
              "      background-color: #434B5C;\n",
              "      box-shadow: 0px 1px 3px 1px rgba(0, 0, 0, 0.15);\n",
              "      filter: drop-shadow(0px 1px 2px rgba(0, 0, 0, 0.3));\n",
              "      fill: #FFFFFF;\n",
              "    }\n",
              "  </style>\n",
              "\n",
              "      <script>\n",
              "        const buttonEl =\n",
              "          document.querySelector('#df-fcb3ded8-2903-4d56-8035-96ab31b85f34 button.colab-df-convert');\n",
              "        buttonEl.style.display =\n",
              "          google.colab.kernel.accessAllowed ? 'block' : 'none';\n",
              "\n",
              "        async function convertToInteractive(key) {\n",
              "          const element = document.querySelector('#df-fcb3ded8-2903-4d56-8035-96ab31b85f34');\n",
              "          const dataTable =\n",
              "            await google.colab.kernel.invokeFunction('convertToInteractive',\n",
              "                                                     [key], {});\n",
              "          if (!dataTable) return;\n",
              "\n",
              "          const docLinkHtml = 'Like what you see? Visit the ' +\n",
              "            '<a target=\"_blank\" href=https://colab.research.google.com/notebooks/data_table.ipynb>data table notebook</a>'\n",
              "            + ' to learn more about interactive tables.';\n",
              "          element.innerHTML = '';\n",
              "          dataTable['output_type'] = 'display_data';\n",
              "          await google.colab.output.renderOutput(dataTable, element);\n",
              "          const docLink = document.createElement('div');\n",
              "          docLink.innerHTML = docLinkHtml;\n",
              "          element.appendChild(docLink);\n",
              "        }\n",
              "      </script>\n",
              "    </div>\n",
              "  </div>\n",
              "  "
            ]
          },
          "metadata": {},
          "execution_count": 8
        }
      ]
    },
    {
      "cell_type": "code",
      "execution_count": null,
      "metadata": {
        "id": "v8hbAJ-42OeP",
        "colab": {
          "base_uri": "https://localhost:8080/",
          "height": 302
        },
        "outputId": "334dbae6-ee88-4327-b330-4f1c309da322"
      },
      "outputs": [
        {
          "output_type": "execute_result",
          "data": {
            "text/plain": [
              "Text(0.5, 1.0, 'Scatter plt between Diameter of asteroids and Semi major axis')"
            ]
          },
          "metadata": {},
          "execution_count": 7
        },
        {
          "output_type": "display_data",
          "data": {
            "text/plain": [
              "<Figure size 432x288 with 1 Axes>"
            ],
            "image/png": "[encoded data removed]"
          },
          "metadata": {
            "needs_background": "light"
          }
        }
      ],
      "source": [
        "sns.boxplot(data=df2, y=df2['a'])\n",
        "plt.title(\"Boxplot of semi major axis\")\n",
        "\n",
        "plt.scatter(df2['a'],df2['diameter'])\n",
        "plt.xlabel(\"Semi major axis\")\n",
        "plt.ylabel(\"Diameter of asteroids\")\n",
        "plt.title(\"Scatter plt between Diameter of asteroids and Semi major axis\")"
      ]
    },
    {
      "cell_type": "code",
      "execution_count": null,
      "metadata": {
        "id": "kuu2jhvA2Ot6",
        "colab": {
          "base_uri": "https://localhost:8080/",
          "height": 302
        },
        "outputId": "c68a677c-d870-4701-eff4-aedc28ffdaec"
      },
      "outputs": [
        {
          "output_type": "execute_result",
          "data": {
            "text/plain": [
              "Text(0.5, 1.0, 'Boxplot of eccentricity')"
            ]
          },
          "metadata": {},
          "execution_count": 39
        },
        {
          "output_type": "display_data",
          "data": {
            "text/plain": [
              "<Figure size 432x288 with 1 Axes>"
            ],
            "image/png": "[encoded data removed]"
          },
          "metadata": {
            "needs_background": "light"
          }
        }
      ],
      "source": [
        "sns.distplot([df2], x = df2['e'])\n",
        "plt.xlabel(\"Eccentricity\")\n",
        "plt.title(\"Distribution of eccentricity\")\n",
        "\n",
        "sns.boxplot(data=df2,y=df2['e'])\n",
        "plt.title(\"Boxplot of eccentricity\")"
      ]
    },
    {
      "cell_type": "code",
      "execution_count": null,
      "metadata": {
        "id": "7L3kL0893UFU"
      },
      "outputs": [],
      "source": [
        "plt.scatter(df2['e'],df2.diameter)\n",
        "plt.xlabel(\"Eccentricity\")\n",
        "plt.ylabel(\"Diameter of asteroids\")\n",
        "plt.title(\"Scatter plot between eccentricity and diameter of asteroid\")"
      ]
    },
    {
      "cell_type": "code",
      "execution_count": null,
      "metadata": {
        "id": "lRufhICt3ULN",
        "colab": {
          "base_uri": "https://localhost:8080/",
          "height": 382
        },
        "outputId": "f28bfd21-1875-4789-f8d6-c17227b97416"
      },
      "outputs": [
        {
          "output_type": "stream",
          "name": "stdout",
          "text": [
            "minimum value of inclination is 0.02185489628573509\n",
            "50 percentile of inclination is 9.38996344892033\n",
            "95 percentile of inclination is 19.46060807095649\n",
            "99 percentile of inclination is 29.002069816760045\n",
            "maximum value of inclination is 170.3236472007492\n"
          ]
        },
        {
          "output_type": "display_data",
          "data": {
            "text/plain": [
              "<Figure size 432x288 with 1 Axes>"
            ],
            "image/png": "[encoded data removed]"
          },
          "metadata": {
            "needs_background": "light"
          }
        }
      ],
      "source": [
        "sns.distplot([df2], x=df2['i'])\n",
        "plt.xlabel(\"Inclination with respect to x-y elliptical plane\")\n",
        "plt.title(\"Distribution\")\n",
        "\n",
        "print(\"minimum value of inclination is {}\".format(min(df2['i'])))\n",
        "print(\"50 percentile of inclination is {}\".format(np.percentile(df2['i'], 50))) \n",
        "print(\"95 percentile of inclination is {}\".format(np.percentile(df2['i'], 90))) \n",
        "print(\"99 percentile of inclination is {}\".format(np.percentile(df2['i'], 99))) \n",
        "print(\"maximum value of inclination is {}\".format(max(df2['i']))) \n"
      ]
    },
    {
      "cell_type": "code",
      "source": [
        "sns.distplot([df2], x=df2['i'])"
      ],
      "metadata": {
        "colab": {
          "base_uri": "https://localhost:8080/",
          "height": 282
        },
        "id": "cfC_267CqckJ",
        "outputId": "08d6c9cc-e8a3-40a0-c068-495ed73f96a4"
      },
      "execution_count": null,
      "outputs": [
        {
          "output_type": "execute_result",
          "data": {
            "text/plain": [
              "<matplotlib.axes._subplots.AxesSubplot at 0x7f7f719b0dd0>"
            ]
          },
          "metadata": {},
          "execution_count": 18
        },
        {
          "output_type": "display_data",
          "data": {
            "text/plain": [
              "<Figure size 432x288 with 1 Axes>"
            ],
            "image/png": "[encoded data removed]"
          },
          "metadata": {
            "needs_background": "light"
          }
        }
      ]
    },
    {
      "cell_type": "code",
      "execution_count": null,
      "metadata": {
        "id": "BG3hKGjg3URH",
        "colab": {
          "base_uri": "https://localhost:8080/",
          "height": 312
        },
        "outputId": "a2e89307-5795-40db-bb75-07d3e6ee43ca"
      },
      "outputs": [
        {
          "output_type": "execute_result",
          "data": {
            "text/plain": [
              "Text(0.5, 1.0, 'Scatter plot between Inclination and diameter of asteroid')"
            ]
          },
          "metadata": {},
          "execution_count": 19
        },
        {
          "output_type": "display_data",
          "data": {
            "text/plain": [
              "<Figure size 432x288 with 1 Axes>"
            ],
            "image/png": "[encoded data removed]"
          },
          "metadata": {
            "needs_background": "light"
          }
        }
      ],
      "source": [
        "plt.scatter(df2['i'],df2.diameter)\n",
        "plt.xlabel(\"Inclination with respect to x-y plane \")\n",
        "plt.ylabel(\"Diameter of asteroids\")\n",
        "plt.title(\"Scatter plot between Inclination and diameter of asteroid\")"
      ]
    },
    {
      "cell_type": "code",
      "execution_count": null,
      "metadata": {
        "id": "8-S9QXjJ3UW9",
        "colab": {
          "base_uri": "https://localhost:8080/",
          "height": 382
        },
        "outputId": "8c95ac92-4e92-48db-9be8-98162f16f76a"
      },
      "outputs": [
        {
          "output_type": "stream",
          "name": "stdout",
          "text": [
            "minimum value of longitude of the ascending node is 0.0007381194225785\n",
            "50 percentile of longitude of the ascending node is 160.4384304493951\n",
            "95 percentile of longitude of the ascending node is 321.2174492545553\n",
            "99 percentile of longitude of the ascending node is 356.4063159846065\n",
            "maximum value of longitude of the ascending node is 359.9908583489855\n"
          ]
        },
        {
          "output_type": "display_data",
          "data": {
            "text/plain": [
              "<Figure size 432x288 with 1 Axes>"
            ],
            "image/png": "[encoded data removed]"
          },
          "metadata": {
            "needs_background": "light"
          }
        }
      ],
      "source": [
        "sns.distplot([df2],x=df2['om'])\n",
        "plt.xlabel(\"Longitude of the ascending node\")\n",
        "plt.title(\"Distribution of longitude of the ascending node\")\n",
        "\n",
        "print(\"minimum value of longitude of the ascending node is {}\".format(min(df2['om'])))\n",
        "print(\"50 percentile of longitude of the ascending node is {}\".format(np.percentile(df2['om'], 50))) \n",
        "print(\"95 percentile of longitude of the ascending node is {}\".format(np.percentile(df2['om'], 90))) \n",
        "print(\"99 percentile of longitude of the ascending node is {}\".format(np.percentile(df2['om'], 99))) \n",
        "print(\"maximum value of longitude of the ascending node is {}\".format(max(df2['om'])))"
      ]
    },
    {
      "cell_type": "code",
      "execution_count": null,
      "metadata": {
        "id": "RsHaVLg54yyi",
        "colab": {
          "base_uri": "https://localhost:8080/",
          "height": 312
        },
        "outputId": "039d9a22-2f33-4da1-b4e9-4109c497408a"
      },
      "outputs": [
        {
          "output_type": "execute_result",
          "data": {
            "text/plain": [
              "Text(0.5, 1.0, 'Scatter plot between ascending node and diameter of asteroid')"
            ]
          },
          "metadata": {},
          "execution_count": 22
        },
        {
          "output_type": "display_data",
          "data": {
            "text/plain": [
              "<Figure size 432x288 with 1 Axes>"
            ],
            "image/png": "[encoded data removed]"
          },
          "metadata": {
            "needs_background": "light"
          }
        }
      ],
      "source": [
        "plt.scatter(df2['om'],df2.diameter)\n",
        "plt.xlabel(\"Ascending node\")\n",
        "plt.ylabel(\"Diameter of asteroids\")\n",
        "plt.title(\"Scatter plot between ascending node and diameter of asteroid\")"
      ]
    },
    {
      "cell_type": "code",
      "execution_count": null,
      "metadata": {
        "id": "wGA9EgXD4zCL",
        "colab": {
          "base_uri": "https://localhost:8080/",
          "height": 382
        },
        "outputId": "3890b833-8586-4a45-8812-6c11072f729a"
      },
      "outputs": [
        {
          "output_type": "stream",
          "name": "stdout",
          "text": [
            "minimum value of argument of perihelion is 0.00446626727791945\n",
            "50 percentile of argument of perihelion is 183.66990007288655\n",
            "95 percentile of argument of perihelion is 323.75648909330215\n",
            "99 percentile of argument of perihelion is 356.24534282802796\n",
            "maximum value of argument of perihelion is 359.9951738471951\n"
          ]
        },
        {
          "output_type": "display_data",
          "data": {
            "text/plain": [
              "<Figure size 432x288 with 1 Axes>"
            ],
            "image/png": "[encoded data removed]"
          },
          "metadata": {
            "needs_background": "light"
          }
        }
      ],
      "source": [
        "sns.distplot([df2],x=df2['w'])\n",
        "plt.xlabel(\"Argument of perihelion\")\n",
        "plt.title(\"Distribution of argument of perihelion\")\n",
        "\n",
        "print(\"minimum value of argument of perihelion is {}\".format(min(df2['w']))) \n",
        "print(\"50 percentile of argument of perihelion is {}\".format(np.percentile(df2['w'], 50))) \n",
        "print(\"95 percentile of argument of perihelion is {}\".format(np.percentile(df2['w'], 90))) \n",
        "print(\"99 percentile of argument of perihelion is {}\".format(np.percentile(df2['w'], 99))) \n",
        "print(\"maximum value of argument of perihelion is {}\".format(max(df2['w']))) "
      ]
    },
    {
      "cell_type": "code",
      "execution_count": null,
      "metadata": {
        "id": "zSpMWly34zGO",
        "colab": {
          "base_uri": "https://localhost:8080/",
          "height": 312
        },
        "outputId": "2663e50e-f891-4c84-96f7-c963cfb3846d"
      },
      "outputs": [
        {
          "output_type": "execute_result",
          "data": {
            "text/plain": [
              "Text(0.5, 1.0, 'Scatter plot between argument of perihelion and diameter of asteroid')"
            ]
          },
          "metadata": {},
          "execution_count": 29
        },
        {
          "output_type": "display_data",
          "data": {
            "text/plain": [
              "<Figure size 432x288 with 1 Axes>"
            ],
            "image/png": "[encoded data removed]"
          },
          "metadata": {
            "needs_background": "light"
          }
        }
      ],
      "source": [
        "plt.scatter(df2['w'],df2.diameter)\n",
        "plt.xlabel(\"Argument of Perihelion\")\n",
        "plt.ylabel(\"Diameter of asteroids\")\n",
        "plt.title(\"Scatter plot between argument of perihelion and diameter of asteroid\")"
      ]
    },
    {
      "cell_type": "code",
      "execution_count": null,
      "metadata": {
        "id": "uzaOwhhO4zIm",
        "colab": {
          "base_uri": "https://localhost:8080/",
          "height": 382
        },
        "outputId": "9e75dc4e-9b5d-494a-c9a7-b6a64d53c630"
      },
      "outputs": [
        {
          "output_type": "stream",
          "name": "stdout",
          "text": [
            "Minimum value of perihelion distance is 0.08188215046210022\n",
            "50 percentile of perihelion distance is 2.3638969534102987\n",
            "95 percentile of perihelion distance is 2.8839498252960682\n",
            "99 percentile of perihelion distance is 4.719896155379083\n",
            "Maximum value of perihelion distance is 40.46567138768128\n"
          ]
        },
        {
          "output_type": "display_data",
          "data": {
            "text/plain": [
              "<Figure size 432x288 with 1 Axes>"
            ],
            "image/png": "[encoded data removed]"
          },
          "metadata": {
            "needs_background": "light"
          }
        }
      ],
      "source": [
        "sns.distplot([df2],x=df2['q'])\n",
        "plt.xlabel(\"Perihelion Distance\")\n",
        "plt.title(\"Distribution of perihelion distance\")\n",
        "\n",
        "print(\"Minimum value of perihelion distance is {}\".format(min(df2['q'])))\n",
        "print(\"50 percentile of perihelion distance is {}\".format(np.percentile(df2['q'], 50))) \n",
        "print(\"95 percentile of perihelion distance is {}\".format(np.percentile(df2['q'], 90))) \n",
        "print(\"99 percentile of perihelion distance is {}\".format(np.percentile(df2['q'], 99))) \n",
        "print(\"Maximum value of perihelion distance is {}\".format(max(df2['q']))) "
      ]
    },
    {
      "cell_type": "code",
      "execution_count": null,
      "metadata": {
        "id": "zDocZWep4zNH",
        "colab": {
          "base_uri": "https://localhost:8080/",
          "height": 312
        },
        "outputId": "d9764770-9317-4343-a201-004b6b6ae572"
      },
      "outputs": [
        {
          "output_type": "execute_result",
          "data": {
            "text/plain": [
              "Text(0.5, 1.0, 'Scatter plot between perihelion distance and diameter of asteroid')"
            ]
          },
          "metadata": {},
          "execution_count": 34
        },
        {
          "output_type": "display_data",
          "data": {
            "text/plain": [
              "<Figure size 432x288 with 1 Axes>"
            ],
            "image/png": "[encoded data removed]"
          },
          "metadata": {
            "needs_background": "light"
          }
        }
      ],
      "source": [
        "plt.scatter(df2['q'],df2.diameter)\n",
        "plt.xlabel(\"Perihelion distance\")\n",
        "plt.ylabel(\"Diameter of asteroids\")\n",
        "plt.title(\"Scatter plot between perihelion distance and diameter of asteroid\")"
      ]
    },
    {
      "cell_type": "code",
      "execution_count": null,
      "metadata": {
        "id": "iVve4PJI4zPZ",
        "colab": {
          "base_uri": "https://localhost:8080/"
        },
        "outputId": "d32691a6-2c14-42a2-b9a0-7ec0b78b14c6"
      },
      "outputs": [
        {
          "output_type": "execute_result",
          "data": {
            "text/plain": [
              "0         0.0\n",
              "1         0.0\n",
              "2         0.0\n",
              "3         0.0\n",
              "4         0.0\n",
              "         ... \n",
              "797860    1.0\n",
              "798077    2.0\n",
              "798189    1.0\n",
              "799752    2.0\n",
              "810375    3.0\n",
              "Name: condition_code, Length: 137636, dtype: float64"
            ]
          },
          "metadata": {},
          "execution_count": 35
        }
      ],
      "source": [
        "df2.condition_code"
      ]
    },
    {
      "cell_type": "code",
      "execution_count": null,
      "metadata": {
        "id": "wccCQyLD40M2",
        "colab": {
          "base_uri": "https://localhost:8080/",
          "height": 313
        },
        "outputId": "9f08b5d8-d8f5-4665-9838-e539b3f06106"
      },
      "outputs": [
        {
          "output_type": "execute_result",
          "data": {
            "text/plain": [
              "Text(0.5, 1.0, 'Box plot of asteroid diameters for different condition code')"
            ]
          },
          "metadata": {},
          "execution_count": 36
        },
        {
          "output_type": "display_data",
          "data": {
            "text/plain": [
              "<Figure size 432x288 with 1 Axes>"
            ],
            "image/png": "[encoded data removed]"
          },
          "metadata": {
            "needs_background": "light"
          }
        }
      ],
      "source": [
        "sns.boxplot(data=df2, x = df2['condition_code'], y = df2['diameter'])\n",
        "plt.ylim((0,50))\n",
        "plt.title(\"Box plot of asteroid diameters for different condition code\")"
      ]
    },
    {
      "cell_type": "code",
      "execution_count": null,
      "metadata": {
        "id": "rhthJAG4Dwlk",
        "colab": {
          "base_uri": "https://localhost:8080/",
          "height": 312
        },
        "outputId": "ef531f80-162e-44e1-aba1-fd5b676b799a"
      },
      "outputs": [
        {
          "output_type": "execute_result",
          "data": {
            "text/plain": [
              "Text(0.5, 1.0, 'Distribution of no of observation used')"
            ]
          },
          "metadata": {},
          "execution_count": 32
        },
        {
          "output_type": "display_data",
          "data": {
            "text/plain": [
              "<Figure size 432x288 with 1 Axes>"
            ],
            "image/png": "[encoded data removed]"
          },
          "metadata": {
            "needs_background": "light"
          }
        }
      ],
      "source": [
        "sns.distplot([df2],x=df2['n_obs_used'])\n",
        "plt.xlabel(\"No of observation used\")\n",
        "plt.title(\"Distribution of no of observation used\")"
      ]
    },
    {
      "cell_type": "code",
      "execution_count": null,
      "metadata": {
        "id": "q1kQtYITDwfR",
        "colab": {
          "base_uri": "https://localhost:8080/",
          "height": 312
        },
        "outputId": "d76e2014-374a-4d8f-a99a-abb27931f979"
      },
      "outputs": [
        {
          "output_type": "execute_result",
          "data": {
            "text/plain": [
              "Text(0.5, 1.0, 'Scatter plot between number of observation used and diameter of asteroid')"
            ]
          },
          "metadata": {},
          "execution_count": 40
        },
        {
          "output_type": "display_data",
          "data": {
            "text/plain": [
              "<Figure size 432x288 with 1 Axes>"
            ],
            "image/png": "[encoded data removed]"
          },
          "metadata": {
            "needs_background": "light"
          }
        }
      ],
      "source": [
        "plt.scatter(df2['n_obs_used'],df2.diameter)\n",
        "plt.xlabel(\"Number of observation used\")\n",
        "plt.ylabel(\"Diameter of asteroids\")\n",
        "plt.title(\"Scatter plot between number of observation used and diameter of asteroid\")"
      ]
    },
    {
      "cell_type": "code",
      "execution_count": null,
      "metadata": {
        "id": "oIw7CycDDwZU",
        "colab": {
          "base_uri": "https://localhost:8080/",
          "height": 330
        },
        "outputId": "2fa8c2a5-378b-468f-e40f-0bc9196b1c67"
      },
      "outputs": [
        {
          "output_type": "stream",
          "name": "stderr",
          "text": [
            "WARNING:matplotlib.legend:No handles with labels found to put in legend.\n"
          ]
        },
        {
          "output_type": "execute_result",
          "data": {
            "text/plain": [
              "<matplotlib.legend.Legend at 0x7f7f70b10bd0>"
            ]
          },
          "metadata": {},
          "execution_count": 41
        },
        {
          "output_type": "display_data",
          "data": {
            "text/plain": [
              "<Figure size 432x288 with 1 Axes>"
            ],
            "image/png": "[encoded data removed]"
          },
          "metadata": {
            "needs_background": "light"
          }
        }
      ],
      "source": [
        "sns.boxplot(data=df2,x='pha',y='diameter')\n",
        "plt.title(\"Boxplot of asteroid diameter for pha and non-pha\")\n",
        "plt.ylim((0,100))\n",
        "plt.legend()"
      ]
    },
    {
      "cell_type": "code",
      "execution_count": null,
      "metadata": {
        "id": "H7txU_gjDwTG",
        "colab": {
          "base_uri": "https://localhost:8080/"
        },
        "outputId": "a6d05f95-6a26-4ff8-85b3-94753bccccea"
      },
      "outputs": [
        {
          "output_type": "execute_result",
          "data": {
            "text/plain": [
              "MBA    126390\n",
              "OMB      7510\n",
              "TJN      1874\n",
              "IMB       588\n",
              "APO       486\n",
              "MCA       355\n",
              "AMO       269\n",
              "ATE        95\n",
              "CEN        49\n",
              "TNO        13\n",
              "AST         7\n",
              "Name: class, dtype: int64"
            ]
          },
          "metadata": {},
          "execution_count": 42
        }
      ],
      "source": [
        "df2['class'].value_counts()"
      ]
    },
    {
      "cell_type": "code",
      "execution_count": null,
      "metadata": {
        "id": "8Ckr1anKKEvO",
        "colab": {
          "base_uri": "https://localhost:8080/",
          "height": 334
        },
        "outputId": "0c97cd9b-f9a7-440f-c0de-ef8f56b80e65"
      },
      "outputs": [
        {
          "output_type": "display_data",
          "data": {
            "text/plain": [
              "<Figure size 720x360 with 1 Axes>"
            ],
            "image/png": "[encoded data removed]"
          },
          "metadata": {
            "needs_background": "light"
          }
        }
      ],
      "source": [
        "plt.figure(figsize=(10,5))\n",
        "sns.boxplot(x='class', y='diameter', data=df2)\n",
        "plt.yscale('log')"
      ]
    },
    {
      "cell_type": "code",
      "execution_count": null,
      "metadata": {
        "id": "KKHQ4g5yDwAM",
        "colab": {
          "base_uri": "https://localhost:8080/",
          "height": 351
        },
        "outputId": "50b87813-8075-41c4-f566-1fc04aa5af8b"
      },
      "outputs": [
        {
          "output_type": "display_data",
          "data": {
            "text/plain": [
              "<Figure size 720x360 with 1 Axes>"
            ],
            "image/png": "[encoded data removed]"
          },
          "metadata": {
            "needs_background": "light"
          }
        }
      ],
      "source": [
        "plt.figure(figsize=(10,5))\n",
        "sns.boxplot(x='condition_code', y='diameter', data=df2)\n",
        "plt.title('Diameter by Condition Code')\n",
        "plt.yscale('log')"
      ]
    },
    {
      "cell_type": "code",
      "execution_count": null,
      "metadata": {
        "id": "gf6l8VHUKBoL"
      },
      "outputs": [],
      "source": []
    },
    {
      "cell_type": "code",
      "execution_count": null,
      "metadata": {
        "id": "d0F0WR8gKBtR"
      },
      "outputs": [],
      "source": []
    },
    {
      "cell_type": "code",
      "execution_count": null,
      "metadata": {
        "id": "NlyzD3YfKBy9"
      },
      "outputs": [],
      "source": []
    },
    {
      "cell_type": "code",
      "execution_count": null,
      "metadata": {
        "id": "ATsuNPP0W4ig"
      },
      "outputs": [],
      "source": [
        "plt.figure(figsize=(20,10))\n",
        "sns.set(font_scale=1.4)\n",
        "sns.heatmap(df2.corr(),annot=True, cmap='inferno', fmt='.2f', annot_kws={'size':14})"
      ]
    },
    {
      "cell_type": "code",
      "execution_count": null,
      "metadata": {
        "colab": {
          "base_uri": "https://localhost:8080/",
          "height": 394
        },
        "id": "DT5Z-wpKKlzI",
        "outputId": "6867b70d-b103-4ece-b2ff-fc3802d02f39"
      },
      "outputs": [
        {
          "output_type": "execute_result",
          "data": {
            "text/plain": [
              "                   a              e              i             om  \\\n",
              "count  137636.000000  137636.000000  137636.000000  137636.000000   \n",
              "mean        2.814613       0.145485      10.349182     169.827629   \n",
              "std         1.522740       0.077573       6.835111     102.713052   \n",
              "min         0.626226       0.000489       0.021855       0.000738   \n",
              "25%         2.536714       0.089623       5.120506      82.334880   \n",
              "50%         2.750859       0.138543       9.389963     160.438430   \n",
              "75%         3.092537       0.191141      13.738588     256.268387   \n",
              "max       389.145964       0.984348     170.323647     359.990858   \n",
              "\n",
              "                   w              q             ad          per_y  \\\n",
              "count  137636.000000  137636.000000  137636.000000  137636.000000   \n",
              "mean      181.904551       2.402609       3.226618       4.884248   \n",
              "std       103.556464       0.516169       2.896374      25.532565   \n",
              "min         0.004466       0.081882       0.999956       0.495569   \n",
              "25%        91.947943       2.068948       2.864438       4.040317   \n",
              "50%       183.669900       2.363897       3.167516       4.562581   \n",
              "75%       271.762261       2.685811       3.468608       5.438518   \n",
              "max       359.995174      40.465671     772.201080    7676.742943   \n",
              "\n",
              "            data_arc  condition_code  ...       rot_per            GM  \\\n",
              "count  137498.000000   137636.000000  ...  11188.000000  1.400000e+01   \n",
              "mean     8969.818601        0.485207  ...     23.566011  7.821928e+00   \n",
              "std      6165.176190        1.966078  ...     74.829904  1.678880e+01   \n",
              "min         1.000000        0.000000  ...      0.029952  2.100000e-09   \n",
              "25%      6291.000000        0.000000  ...      4.670000  1.022225e-03   \n",
              "50%      7572.000000        0.000000  ...      7.560000  6.192500e-01   \n",
              "75%      9731.000000        0.000000  ...     14.579500  6.500000e+00   \n",
              "max     72684.000000        9.000000  ...   1880.000000  6.262840e+01   \n",
              "\n",
              "                BV          UB    IR           G           moid  \\\n",
              "count  1005.000000  965.000000  1.00  119.000000  137636.000000   \n",
              "mean      0.768844    0.364108 -0.33    0.178739       1.420145   \n",
              "std       0.088327    0.095707   NaN    0.134603       0.512241   \n",
              "min       0.580000    0.120000 -0.33   -0.250000       0.000166   \n",
              "25%       0.700000    0.289000 -0.33    0.100000       1.082523   \n",
              "50%       0.743000    0.360000 -0.33    0.190000       1.384935   \n",
              "75%       0.850000    0.439000 -0.33    0.250000       1.699385   \n",
              "max       1.077000    0.655000 -0.33    0.600000      39.507000   \n",
              "\n",
              "                   n           per             ma  \n",
              "count  137636.000000  1.376360e+05  137636.000000  \n",
              "mean        0.219640  1.783972e+03     183.116785  \n",
              "std         0.056980  9.325769e+03     103.411497  \n",
              "min         0.000128  1.810067e+02       0.000517  \n",
              "25%         0.181231  1.475726e+03      94.301261  \n",
              "50%         0.216024  1.666483e+03     186.826667  \n",
              "75%         0.243948  1.986419e+03     271.468299  \n",
              "max         1.988877  2.803930e+06     359.999979  \n",
              "\n",
              "[8 rows x 24 columns]"
            ],
            "text/html": [
              "\n",
              "  <div id=\"df-0e77692f-6e15-47db-b545-834ab252729d\">\n",
              "    <div class=\"colab-df-container\">\n",
              "      <div>\n",
              "<style scoped>\n",
              "    .dataframe tbody tr th:only-of-type {\n",
              "        vertical-align: middle;\n",
              "    }\n",
              "\n",
              "    .dataframe tbody tr th {\n",
              "        vertical-align: top;\n",
              "    }\n",
              "\n",
              "    .dataframe thead th {\n",
              "        text-align: right;\n",
              "    }\n",
              "</style>\n",
              "<table border=\"1\" class=\"dataframe\">\n",
              "  <thead>\n",
              "    <tr style=\"text-align: right;\">\n",
              "      <th></th>\n",
              "      <th>a</th>\n",
              "      <th>e</th>\n",
              "      <th>i</th>\n",
              "      <th>om</th>\n",
              "      <th>w</th>\n",
              "      <th>q</th>\n",
              "      <th>ad</th>\n",
              "      <th>per_y</th>\n",
              "      <th>data_arc</th>\n",
              "      <th>condition_code</th>\n",
              "      <th>...</th>\n",
              "      <th>rot_per</th>\n",
              "      <th>GM</th>\n",
              "      <th>BV</th>\n",
              "      <th>UB</th>\n",
              "      <th>IR</th>\n",
              "      <th>G</th>\n",
              "      <th>moid</th>\n",
              "      <th>n</th>\n",
              "      <th>per</th>\n",
              "      <th>ma</th>\n",
              "    </tr>\n",
              "  </thead>\n",
              "  <tbody>\n",
              "    <tr>\n",
              "      <th>count</th>\n",
              "      <td>137636.000000</td>\n",
              "      <td>137636.000000</td>\n",
              "      <td>137636.000000</td>\n",
              "      <td>137636.000000</td>\n",
              "      <td>137636.000000</td>\n",
              "      <td>137636.000000</td>\n",
              "      <td>137636.000000</td>\n",
              "      <td>137636.000000</td>\n",
              "      <td>137498.000000</td>\n",
              "      <td>137636.000000</td>\n",
              "      <td>...</td>\n",
              "      <td>11188.000000</td>\n",
              "      <td>1.400000e+01</td>\n",
              "      <td>1005.000000</td>\n",
              "      <td>965.000000</td>\n",
              "      <td>1.00</td>\n",
              "      <td>119.000000</td>\n",
              "      <td>137636.000000</td>\n",
              "      <td>137636.000000</td>\n",
              "      <td>1.376360e+05</td>\n",
              "      <td>137636.000000</td>\n",
              "    </tr>\n",
              "    <tr>\n",
              "      <th>mean</th>\n",
              "      <td>2.814613</td>\n",
              "      <td>0.145485</td>\n",
              "      <td>10.349182</td>\n",
              "      <td>169.827629</td>\n",
              "      <td>181.904551</td>\n",
              "      <td>2.402609</td>\n",
              "      <td>3.226618</td>\n",
              "      <td>4.884248</td>\n",
              "      <td>8969.818601</td>\n",
              "      <td>0.485207</td>\n",
              "      <td>...</td>\n",
              "      <td>23.566011</td>\n",
              "      <td>7.821928e+00</td>\n",
              "      <td>0.768844</td>\n",
              "      <td>0.364108</td>\n",
              "      <td>-0.33</td>\n",
              "      <td>0.178739</td>\n",
              "      <td>1.420145</td>\n",
              "      <td>0.219640</td>\n",
              "      <td>1.783972e+03</td>\n",
              "      <td>183.116785</td>\n",
              "    </tr>\n",
              "    <tr>\n",
              "      <th>std</th>\n",
              "      <td>1.522740</td>\n",
              "      <td>0.077573</td>\n",
              "      <td>6.835111</td>\n",
              "      <td>102.713052</td>\n",
              "      <td>103.556464</td>\n",
              "      <td>0.516169</td>\n",
              "      <td>2.896374</td>\n",
              "      <td>25.532565</td>\n",
              "      <td>6165.176190</td>\n",
              "      <td>1.966078</td>\n",
              "      <td>...</td>\n",
              "      <td>74.829904</td>\n",
              "      <td>1.678880e+01</td>\n",
              "      <td>0.088327</td>\n",
              "      <td>0.095707</td>\n",
              "      <td>NaN</td>\n",
              "      <td>0.134603</td>\n",
              "      <td>0.512241</td>\n",
              "      <td>0.056980</td>\n",
              "      <td>9.325769e+03</td>\n",
              "      <td>103.411497</td>\n",
              "    </tr>\n",
              "    <tr>\n",
              "      <th>min</th>\n",
              "      <td>0.626226</td>\n",
              "      <td>0.000489</td>\n",
              "      <td>0.021855</td>\n",
              "      <td>0.000738</td>\n",
              "      <td>0.004466</td>\n",
              "      <td>0.081882</td>\n",
              "      <td>0.999956</td>\n",
              "      <td>0.495569</td>\n",
              "      <td>1.000000</td>\n",
              "      <td>0.000000</td>\n",
              "      <td>...</td>\n",
              "      <td>0.029952</td>\n",
              "      <td>2.100000e-09</td>\n",
              "      <td>0.580000</td>\n",
              "      <td>0.120000</td>\n",
              "      <td>-0.33</td>\n",
              "      <td>-0.250000</td>\n",
              "      <td>0.000166</td>\n",
              "      <td>0.000128</td>\n",
              "      <td>1.810067e+02</td>\n",
              "      <td>0.000517</td>\n",
              "    </tr>\n",
              "    <tr>\n",
              "      <th>25%</th>\n",
              "      <td>2.536714</td>\n",
              "      <td>0.089623</td>\n",
              "      <td>5.120506</td>\n",
              "      <td>82.334880</td>\n",
              "      <td>91.947943</td>\n",
              "      <td>2.068948</td>\n",
              "      <td>2.864438</td>\n",
              "      <td>4.040317</td>\n",
              "      <td>6291.000000</td>\n",
              "      <td>0.000000</td>\n",
              "      <td>...</td>\n",
              "      <td>4.670000</td>\n",
              "      <td>1.022225e-03</td>\n",
              "      <td>0.700000</td>\n",
              "      <td>0.289000</td>\n",
              "      <td>-0.33</td>\n",
              "      <td>0.100000</td>\n",
              "      <td>1.082523</td>\n",
              "      <td>0.181231</td>\n",
              "      <td>1.475726e+03</td>\n",
              "      <td>94.301261</td>\n",
              "    </tr>\n",
              "    <tr>\n",
              "      <th>50%</th>\n",
              "      <td>2.750859</td>\n",
              "      <td>0.138543</td>\n",
              "      <td>9.389963</td>\n",
              "      <td>160.438430</td>\n",
              "      <td>183.669900</td>\n",
              "      <td>2.363897</td>\n",
              "      <td>3.167516</td>\n",
              "      <td>4.562581</td>\n",
              "      <td>7572.000000</td>\n",
              "      <td>0.000000</td>\n",
              "      <td>...</td>\n",
              "      <td>7.560000</td>\n",
              "      <td>6.192500e-01</td>\n",
              "      <td>0.743000</td>\n",
              "      <td>0.360000</td>\n",
              "      <td>-0.33</td>\n",
              "      <td>0.190000</td>\n",
              "      <td>1.384935</td>\n",
              "      <td>0.216024</td>\n",
              "      <td>1.666483e+03</td>\n",
              "      <td>186.826667</td>\n",
              "    </tr>\n",
              "    <tr>\n",
              "      <th>75%</th>\n",
              "      <td>3.092537</td>\n",
              "      <td>0.191141</td>\n",
              "      <td>13.738588</td>\n",
              "      <td>256.268387</td>\n",
              "      <td>271.762261</td>\n",
              "      <td>2.685811</td>\n",
              "      <td>3.468608</td>\n",
              "      <td>5.438518</td>\n",
              "      <td>9731.000000</td>\n",
              "      <td>0.000000</td>\n",
              "      <td>...</td>\n",
              "      <td>14.579500</td>\n",
              "      <td>6.500000e+00</td>\n",
              "      <td>0.850000</td>\n",
              "      <td>0.439000</td>\n",
              "      <td>-0.33</td>\n",
              "      <td>0.250000</td>\n",
              "      <td>1.699385</td>\n",
              "      <td>0.243948</td>\n",
              "      <td>1.986419e+03</td>\n",
              "      <td>271.468299</td>\n",
              "    </tr>\n",
              "    <tr>\n",
              "      <th>max</th>\n",
              "      <td>389.145964</td>\n",
              "      <td>0.984348</td>\n",
              "      <td>170.323647</td>\n",
              "      <td>359.990858</td>\n",
              "      <td>359.995174</td>\n",
              "      <td>40.465671</td>\n",
              "      <td>772.201080</td>\n",
              "      <td>7676.742943</td>\n",
              "      <td>72684.000000</td>\n",
              "      <td>9.000000</td>\n",
              "      <td>...</td>\n",
              "      <td>1880.000000</td>\n",
              "      <td>6.262840e+01</td>\n",
              "      <td>1.077000</td>\n",
              "      <td>0.655000</td>\n",
              "      <td>-0.33</td>\n",
              "      <td>0.600000</td>\n",
              "      <td>39.507000</td>\n",
              "      <td>1.988877</td>\n",
              "      <td>2.803930e+06</td>\n",
              "      <td>359.999979</td>\n",
              "    </tr>\n",
              "  </tbody>\n",
              "</table>\n",
              "<p>8 rows × 24 columns</p>\n",
              "</div>\n",
              "      <button class=\"colab-df-convert\" onclick=\"convertToInteractive('df-0e77692f-6e15-47db-b545-834ab252729d')\"\n",
              "              title=\"Convert this dataframe to an interactive table.\"\n",
              "              style=\"display:none;\">\n",
              "        \n",
              "  <svg xmlns=\"http://www.w3.org/2000/svg\" height=\"24px\"viewBox=\"0 0 24 24\"\n",
              "       width=\"24px\">\n",
              "    <path d=\"M0 0h24v24H0V0z\" fill=\"none\"/>\n",
              "    <path d=\"M18.56 5.44l.94 2.06.94-2.06 2.06-.94-2.06-.94-.94-2.06-.94 2.06-2.06.94zm-11 1L8.5 8.5l.94-2.06 2.06-.94-2.06-.94L8.5 2.5l-.94 2.06-2.06.94zm10 10l.94 2.06.94-2.06 2.06-.94-2.06-.94-.94-2.06-.94 2.06-2.06.94z\"/><path d=\"M17.41 7.96l-1.37-1.37c-.4-.4-.92-.59-1.43-.59-.52 0-1.04.2-1.43.59L10.3 9.45l-7.72 7.72c-.78.78-.78 2.05 0 2.83L4 21.41c.39.39.9.59 1.41.59.51 0 1.02-.2 1.41-.59l7.78-7.78 2.81-2.81c.8-.78.8-2.07 0-2.86zM5.41 20L4 18.59l7.72-7.72 1.47 1.35L5.41 20z\"/>\n",
              "  </svg>\n",
              "      </button>\n",
              "      \n",
              "  <style>\n",
              "    .colab-df-container {\n",
              "      display:flex;\n",
              "      flex-wrap:wrap;\n",
              "      gap: 12px;\n",
              "    }\n",
              "\n",
              "    .colab-df-convert {\n",
              "      background-color: #E8F0FE;\n",
              "      border: none;\n",
              "      border-radius: 50%;\n",
              "      cursor: pointer;\n",
              "      display: none;\n",
              "      fill: #1967D2;\n",
              "      height: 32px;\n",
              "      padding: 0 0 0 0;\n",
              "      width: 32px;\n",
              "    }\n",
              "\n",
              "    .colab-df-convert:hover {\n",
              "      background-color: #E2EBFA;\n",
              "      box-shadow: 0px 1px 2px rgba(60, 64, 67, 0.3), 0px 1px 3px 1px rgba(60, 64, 67, 0.15);\n",
              "      fill: #174EA6;\n",
              "    }\n",
              "\n",
              "    [theme=dark] .colab-df-convert {\n",
              "      background-color: #3B4455;\n",
              "      fill: #D2E3FC;\n",
              "    }\n",
              "\n",
              "    [theme=dark] .colab-df-convert:hover {\n",
              "      background-color: #434B5C;\n",
              "      box-shadow: 0px 1px 3px 1px rgba(0, 0, 0, 0.15);\n",
              "      filter: drop-shadow(0px 1px 2px rgba(0, 0, 0, 0.3));\n",
              "      fill: #FFFFFF;\n",
              "    }\n",
              "  </style>\n",
              "\n",
              "      <script>\n",
              "        const buttonEl =\n",
              "          document.querySelector('#df-0e77692f-6e15-47db-b545-834ab252729d button.colab-df-convert');\n",
              "        buttonEl.style.display =\n",
              "          google.colab.kernel.accessAllowed ? 'block' : 'none';\n",
              "\n",
              "        async function convertToInteractive(key) {\n",
              "          const element = document.querySelector('#df-0e77692f-6e15-47db-b545-834ab252729d');\n",
              "          const dataTable =\n",
              "            await google.colab.kernel.invokeFunction('convertToInteractive',\n",
              "                                                     [key], {});\n",
              "          if (!dataTable) return;\n",
              "\n",
              "          const docLinkHtml = 'Like what you see? Visit the ' +\n",
              "            '<a target=\"_blank\" href=https://colab.research.google.com/notebooks/data_table.ipynb>data table notebook</a>'\n",
              "            + ' to learn more about interactive tables.';\n",
              "          element.innerHTML = '';\n",
              "          dataTable['output_type'] = 'display_data';\n",
              "          await google.colab.output.renderOutput(dataTable, element);\n",
              "          const docLink = document.createElement('div');\n",
              "          docLink.innerHTML = docLinkHtml;\n",
              "          element.appendChild(docLink);\n",
              "        }\n",
              "      </script>\n",
              "    </div>\n",
              "  </div>\n",
              "  "
            ]
          },
          "metadata": {},
          "execution_count": 6
        }
      ],
      "source": [
        "df2.describe()"
      ]
    },
    {
      "cell_type": "code",
      "execution_count": null,
      "metadata": {
        "colab": {
          "base_uri": "https://localhost:8080/"
        },
        "id": "OnvxuNw9KxT6",
        "outputId": "a11c2621-0fad-438c-af67-a8b1b1f4cb8a"
      },
      "outputs": [
        {
          "output_type": "execute_result",
          "data": {
            "text/plain": [
              "count    137636.000000\n",
              "mean          5.483228\n",
              "std           9.385735\n",
              "min           0.002500\n",
              "25%           2.770000\n",
              "50%           3.956000\n",
              "75%           5.742000\n",
              "max         939.400000\n",
              "Name: diameter, dtype: float64"
            ]
          },
          "metadata": {},
          "execution_count": 7
        }
      ],
      "source": [
        "df2[\"diameter\"].describe()"
      ]
    },
    {
      "cell_type": "code",
      "execution_count": null,
      "metadata": {
        "colab": {
          "base_uri": "https://localhost:8080/",
          "height": 229
        },
        "id": "VrVb2pmTLU7_",
        "outputId": "992649d8-a66b-4ff0-dceb-51a085a71e97"
      },
      "outputs": [
        {
          "output_type": "display_data",
          "data": {
            "text/plain": [
              "<Figure size 1800x216 with 1 Axes>"
            ],
            "image/png": "[encoded data removed]"
          },
          "metadata": {
            "needs_background": "light"
          }
        }
      ],
      "source": [
        "plt.figure(figsize=(25,3))\n",
        "sns.boxplot( x='diameter', data=df2)\n",
        "plt.xscale('log')"
      ]
    },
    {
      "cell_type": "markdown",
      "metadata": {
        "id": "brAKN0UYWCbh"
      },
      "source": []
    },
    {
      "cell_type": "code",
      "execution_count": null,
      "metadata": {
        "id": "VA3_2SZSU5um",
        "colab": {
          "base_uri": "https://localhost:8080/",
          "height": 488
        },
        "outputId": "f5e55354-199b-4cd4-eb9d-2af382e64d66"
      },
      "outputs": [
        {
          "output_type": "execute_result",
          "data": {
            "text/plain": [
              "               a         e          i          om           w         q  \\\n",
              "0       2.769165  0.076009  10.594067   80.305532   73.597694  2.558684   \n",
              "1       2.772466  0.230337  34.836234  173.080063  310.048857  2.133865   \n",
              "2       2.669150  0.256942  12.988919  169.852760  248.138626  1.983332   \n",
              "3       2.361418  0.088721   7.141771  103.810804  150.728541  2.151909   \n",
              "4       2.574249  0.191095   5.366988  141.576605  358.687607  2.082324   \n",
              "...          ...       ...        ...         ...         ...       ...   \n",
              "797860  3.171225  0.159119  27.098625  309.036573   19.746812  2.666623   \n",
              "798077  2.548410  0.076071  11.593237  246.298656  170.090810  2.354549   \n",
              "798189  3.146246  0.220559  17.966646  137.981403  180.898833  2.452313   \n",
              "799752  3.051336  0.287449  14.456779  343.917822  342.614839  2.174231   \n",
              "810375  2.417477  0.109001   4.525668  148.244819   31.949854  2.153970   \n",
              "\n",
              "              ad     per_y  data_arc  condition_code  ...      H  neo pha  \\\n",
              "0       2.979647  4.608202    8822.0             0.0  ...   3.34    N   N   \n",
              "1       3.411067  4.616444   72318.0             0.0  ...   4.13    N   N   \n",
              "2       3.354967  4.360814   72684.0             0.0  ...   5.33    N   N   \n",
              "3       2.570926  3.628837   24288.0             0.0  ...   3.20    N   N   \n",
              "4       3.066174  4.130323   63507.0             0.0  ...   6.85    N   N   \n",
              "...          ...       ...       ...             ...  ...    ...  ...  ..   \n",
              "797860  3.675826  5.647402    2373.0             1.0  ...  16.20    N   N   \n",
              "798077  2.742270  4.068291    3297.0             2.0  ...  17.30    N   N   \n",
              "798189  3.840180  5.580811    2839.0             1.0  ...  16.80    N   N   \n",
              "799752  3.928440  5.330196    2208.0             2.0  ...  17.20    N   N   \n",
              "810375  2.680984  3.758822    3458.0             3.0  ...  18.40    N   N   \n",
              "\n",
              "       diameter  albedo     moid  class         n          per          ma  \n",
              "0       939.400  0.0900  1.59478    MBA  0.213885  1683.145708   77.372096  \n",
              "1       545.000  0.1010  1.23324    MBA  0.213503  1686.155999   59.699133  \n",
              "2       246.596  0.2140  1.03454    MBA  0.226019  1592.787285   34.925016  \n",
              "3       525.400  0.4228  1.13948    MBA  0.271609  1325.432765   95.861936  \n",
              "4       106.699  0.2740  1.09589    MBA  0.238632  1508.600458  282.366289  \n",
              "...         ...     ...      ...    ...       ...          ...         ...  \n",
              "797860    3.793  0.0210  1.66301    MBA  0.174527  2062.713583  164.999439  \n",
              "798077    2.696  0.0610  1.36733    MBA  0.242270  1485.943371  145.319581  \n",
              "798189    2.917     NaN  1.43837    MBA  0.176610  2038.391053  174.609920  \n",
              "799752    3.271  0.0720  1.16684    MBA  0.184914  1946.853973  175.708508  \n",
              "810375    1.600  0.0230  1.15942    MBA  0.262217  1372.909600  170.888415  \n",
              "\n",
              "[137636 rows x 21 columns]"
            ],
            "text/html": [
              "\n",
              "  <div id=\"df-e69debf5-25f5-4690-93aa-c4681b77b6bc\">\n",
              "    <div class=\"colab-df-container\">\n",
              "      <div>\n",
              "<style scoped>\n",
              "    .dataframe tbody tr th:only-of-type {\n",
              "        vertical-align: middle;\n",
              "    }\n",
              "\n",
              "    .dataframe tbody tr th {\n",
              "        vertical-align: top;\n",
              "    }\n",
              "\n",
              "    .dataframe thead th {\n",
              "        text-align: right;\n",
              "    }\n",
              "</style>\n",
              "<table border=\"1\" class=\"dataframe\">\n",
              "  <thead>\n",
              "    <tr style=\"text-align: right;\">\n",
              "      <th></th>\n",
              "      <th>a</th>\n",
              "      <th>e</th>\n",
              "      <th>i</th>\n",
              "      <th>om</th>\n",
              "      <th>w</th>\n",
              "      <th>q</th>\n",
              "      <th>ad</th>\n",
              "      <th>per_y</th>\n",
              "      <th>data_arc</th>\n",
              "      <th>condition_code</th>\n",
              "      <th>...</th>\n",
              "      <th>H</th>\n",
              "      <th>neo</th>\n",
              "      <th>pha</th>\n",
              "      <th>diameter</th>\n",
              "      <th>albedo</th>\n",
              "      <th>moid</th>\n",
              "      <th>class</th>\n",
              "      <th>n</th>\n",
              "      <th>per</th>\n",
              "      <th>ma</th>\n",
              "    </tr>\n",
              "  </thead>\n",
              "  <tbody>\n",
              "    <tr>\n",
              "      <th>0</th>\n",
              "      <td>2.769165</td>\n",
              "      <td>0.076009</td>\n",
              "      <td>10.594067</td>\n",
              "      <td>80.305532</td>\n",
              "      <td>73.597694</td>\n",
              "      <td>2.558684</td>\n",
              "      <td>2.979647</td>\n",
              "      <td>4.608202</td>\n",
              "      <td>8822.0</td>\n",
              "      <td>0.0</td>\n",
              "      <td>...</td>\n",
              "      <td>3.34</td>\n",
              "      <td>N</td>\n",
              "      <td>N</td>\n",
              "      <td>939.400</td>\n",
              "      <td>0.0900</td>\n",
              "      <td>1.59478</td>\n",
              "      <td>MBA</td>\n",
              "      <td>0.213885</td>\n",
              "      <td>1683.145708</td>\n",
              "      <td>77.372096</td>\n",
              "    </tr>\n",
              "    <tr>\n",
              "      <th>1</th>\n",
              "      <td>2.772466</td>\n",
              "      <td>0.230337</td>\n",
              "      <td>34.836234</td>\n",
              "      <td>173.080063</td>\n",
              "      <td>310.048857</td>\n",
              "      <td>2.133865</td>\n",
              "      <td>3.411067</td>\n",
              "      <td>4.616444</td>\n",
              "      <td>72318.0</td>\n",
              "      <td>0.0</td>\n",
              "      <td>...</td>\n",
              "      <td>4.13</td>\n",
              "      <td>N</td>\n",
              "      <td>N</td>\n",
              "      <td>545.000</td>\n",
              "      <td>0.1010</td>\n",
              "      <td>1.23324</td>\n",
              "      <td>MBA</td>\n",
              "      <td>0.213503</td>\n",
              "      <td>1686.155999</td>\n",
              "      <td>59.699133</td>\n",
              "    </tr>\n",
              "    <tr>\n",
              "      <th>2</th>\n",
              "      <td>2.669150</td>\n",
              "      <td>0.256942</td>\n",
              "      <td>12.988919</td>\n",
              "      <td>169.852760</td>\n",
              "      <td>248.138626</td>\n",
              "      <td>1.983332</td>\n",
              "      <td>3.354967</td>\n",
              "      <td>4.360814</td>\n",
              "      <td>72684.0</td>\n",
              "      <td>0.0</td>\n",
              "      <td>...</td>\n",
              "      <td>5.33</td>\n",
              "      <td>N</td>\n",
              "      <td>N</td>\n",
              "      <td>246.596</td>\n",
              "      <td>0.2140</td>\n",
              "      <td>1.03454</td>\n",
              "      <td>MBA</td>\n",
              "      <td>0.226019</td>\n",
              "      <td>1592.787285</td>\n",
              "      <td>34.925016</td>\n",
              "    </tr>\n",
              "    <tr>\n",
              "      <th>3</th>\n",
              "      <td>2.361418</td>\n",
              "      <td>0.088721</td>\n",
              "      <td>7.141771</td>\n",
              "      <td>103.810804</td>\n",
              "      <td>150.728541</td>\n",
              "      <td>2.151909</td>\n",
              "      <td>2.570926</td>\n",
              "      <td>3.628837</td>\n",
              "      <td>24288.0</td>\n",
              "      <td>0.0</td>\n",
              "      <td>...</td>\n",
              "      <td>3.20</td>\n",
              "      <td>N</td>\n",
              "      <td>N</td>\n",
              "      <td>525.400</td>\n",
              "      <td>0.4228</td>\n",
              "      <td>1.13948</td>\n",
              "      <td>MBA</td>\n",
              "      <td>0.271609</td>\n",
              "      <td>1325.432765</td>\n",
              "      <td>95.861936</td>\n",
              "    </tr>\n",
              "    <tr>\n",
              "      <th>4</th>\n",
              "      <td>2.574249</td>\n",
              "      <td>0.191095</td>\n",
              "      <td>5.366988</td>\n",
              "      <td>141.576605</td>\n",
              "      <td>358.687607</td>\n",
              "      <td>2.082324</td>\n",
              "      <td>3.066174</td>\n",
              "      <td>4.130323</td>\n",
              "      <td>63507.0</td>\n",
              "      <td>0.0</td>\n",
              "      <td>...</td>\n",
              "      <td>6.85</td>\n",
              "      <td>N</td>\n",
              "      <td>N</td>\n",
              "      <td>106.699</td>\n",
              "      <td>0.2740</td>\n",
              "      <td>1.09589</td>\n",
              "      <td>MBA</td>\n",
              "      <td>0.238632</td>\n",
              "      <td>1508.600458</td>\n",
              "      <td>282.366289</td>\n",
              "    </tr>\n",
              "    <tr>\n",
              "      <th>...</th>\n",
              "      <td>...</td>\n",
              "      <td>...</td>\n",
              "      <td>...</td>\n",
              "      <td>...</td>\n",
              "      <td>...</td>\n",
              "      <td>...</td>\n",
              "      <td>...</td>\n",
              "      <td>...</td>\n",
              "      <td>...</td>\n",
              "      <td>...</td>\n",
              "      <td>...</td>\n",
              "      <td>...</td>\n",
              "      <td>...</td>\n",
              "      <td>...</td>\n",
              "      <td>...</td>\n",
              "      <td>...</td>\n",
              "      <td>...</td>\n",
              "      <td>...</td>\n",
              "      <td>...</td>\n",
              "      <td>...</td>\n",
              "      <td>...</td>\n",
              "    </tr>\n",
              "    <tr>\n",
              "      <th>797860</th>\n",
              "      <td>3.171225</td>\n",
              "      <td>0.159119</td>\n",
              "      <td>27.098625</td>\n",
              "      <td>309.036573</td>\n",
              "      <td>19.746812</td>\n",
              "      <td>2.666623</td>\n",
              "      <td>3.675826</td>\n",
              "      <td>5.647402</td>\n",
              "      <td>2373.0</td>\n",
              "      <td>1.0</td>\n",
              "      <td>...</td>\n",
              "      <td>16.20</td>\n",
              "      <td>N</td>\n",
              "      <td>N</td>\n",
              "      <td>3.793</td>\n",
              "      <td>0.0210</td>\n",
              "      <td>1.66301</td>\n",
              "      <td>MBA</td>\n",
              "      <td>0.174527</td>\n",
              "      <td>2062.713583</td>\n",
              "      <td>164.999439</td>\n",
              "    </tr>\n",
              "    <tr>\n",
              "      <th>798077</th>\n",
              "      <td>2.548410</td>\n",
              "      <td>0.076071</td>\n",
              "      <td>11.593237</td>\n",
              "      <td>246.298656</td>\n",
              "      <td>170.090810</td>\n",
              "      <td>2.354549</td>\n",
              "      <td>2.742270</td>\n",
              "      <td>4.068291</td>\n",
              "      <td>3297.0</td>\n",
              "      <td>2.0</td>\n",
              "      <td>...</td>\n",
              "      <td>17.30</td>\n",
              "      <td>N</td>\n",
              "      <td>N</td>\n",
              "      <td>2.696</td>\n",
              "      <td>0.0610</td>\n",
              "      <td>1.36733</td>\n",
              "      <td>MBA</td>\n",
              "      <td>0.242270</td>\n",
              "      <td>1485.943371</td>\n",
              "      <td>145.319581</td>\n",
              "    </tr>\n",
              "    <tr>\n",
              "      <th>798189</th>\n",
              "      <td>3.146246</td>\n",
              "      <td>0.220559</td>\n",
              "      <td>17.966646</td>\n",
              "      <td>137.981403</td>\n",
              "      <td>180.898833</td>\n",
              "      <td>2.452313</td>\n",
              "      <td>3.840180</td>\n",
              "      <td>5.580811</td>\n",
              "      <td>2839.0</td>\n",
              "      <td>1.0</td>\n",
              "      <td>...</td>\n",
              "      <td>16.80</td>\n",
              "      <td>N</td>\n",
              "      <td>N</td>\n",
              "      <td>2.917</td>\n",
              "      <td>NaN</td>\n",
              "      <td>1.43837</td>\n",
              "      <td>MBA</td>\n",
              "      <td>0.176610</td>\n",
              "      <td>2038.391053</td>\n",
              "      <td>174.609920</td>\n",
              "    </tr>\n",
              "    <tr>\n",
              "      <th>799752</th>\n",
              "      <td>3.051336</td>\n",
              "      <td>0.287449</td>\n",
              "      <td>14.456779</td>\n",
              "      <td>343.917822</td>\n",
              "      <td>342.614839</td>\n",
              "      <td>2.174231</td>\n",
              "      <td>3.928440</td>\n",
              "      <td>5.330196</td>\n",
              "      <td>2208.0</td>\n",
              "      <td>2.0</td>\n",
              "      <td>...</td>\n",
              "      <td>17.20</td>\n",
              "      <td>N</td>\n",
              "      <td>N</td>\n",
              "      <td>3.271</td>\n",
              "      <td>0.0720</td>\n",
              "      <td>1.16684</td>\n",
              "      <td>MBA</td>\n",
              "      <td>0.184914</td>\n",
              "      <td>1946.853973</td>\n",
              "      <td>175.708508</td>\n",
              "    </tr>\n",
              "    <tr>\n",
              "      <th>810375</th>\n",
              "      <td>2.417477</td>\n",
              "      <td>0.109001</td>\n",
              "      <td>4.525668</td>\n",
              "      <td>148.244819</td>\n",
              "      <td>31.949854</td>\n",
              "      <td>2.153970</td>\n",
              "      <td>2.680984</td>\n",
              "      <td>3.758822</td>\n",
              "      <td>3458.0</td>\n",
              "      <td>3.0</td>\n",
              "      <td>...</td>\n",
              "      <td>18.40</td>\n",
              "      <td>N</td>\n",
              "      <td>N</td>\n",
              "      <td>1.600</td>\n",
              "      <td>0.0230</td>\n",
              "      <td>1.15942</td>\n",
              "      <td>MBA</td>\n",
              "      <td>0.262217</td>\n",
              "      <td>1372.909600</td>\n",
              "      <td>170.888415</td>\n",
              "    </tr>\n",
              "  </tbody>\n",
              "</table>\n",
              "<p>137636 rows × 21 columns</p>\n",
              "</div>\n",
              "      <button class=\"colab-df-convert\" onclick=\"convertToInteractive('df-e69debf5-25f5-4690-93aa-c4681b77b6bc')\"\n",
              "              title=\"Convert this dataframe to an interactive table.\"\n",
              "              style=\"display:none;\">\n",
              "        \n",
              "  <svg xmlns=\"http://www.w3.org/2000/svg\" height=\"24px\"viewBox=\"0 0 24 24\"\n",
              "       width=\"24px\">\n",
              "    <path d=\"M0 0h24v24H0V0z\" fill=\"none\"/>\n",
              "    <path d=\"M18.56 5.44l.94 2.06.94-2.06 2.06-.94-2.06-.94-.94-2.06-.94 2.06-2.06.94zm-11 1L8.5 8.5l.94-2.06 2.06-.94-2.06-.94L8.5 2.5l-.94 2.06-2.06.94zm10 10l.94 2.06.94-2.06 2.06-.94-2.06-.94-.94-2.06-.94 2.06-2.06.94z\"/><path d=\"M17.41 7.96l-1.37-1.37c-.4-.4-.92-.59-1.43-.59-.52 0-1.04.2-1.43.59L10.3 9.45l-7.72 7.72c-.78.78-.78 2.05 0 2.83L4 21.41c.39.39.9.59 1.41.59.51 0 1.02-.2 1.41-.59l7.78-7.78 2.81-2.81c.8-.78.8-2.07 0-2.86zM5.41 20L4 18.59l7.72-7.72 1.47 1.35L5.41 20z\"/>\n",
              "  </svg>\n",
              "      </button>\n",
              "      \n",
              "  <style>\n",
              "    .colab-df-container {\n",
              "      display:flex;\n",
              "      flex-wrap:wrap;\n",
              "      gap: 12px;\n",
              "    }\n",
              "\n",
              "    .colab-df-convert {\n",
              "      background-color: #E8F0FE;\n",
              "      border: none;\n",
              "      border-radius: 50%;\n",
              "      cursor: pointer;\n",
              "      display: none;\n",
              "      fill: #1967D2;\n",
              "      height: 32px;\n",
              "      padding: 0 0 0 0;\n",
              "      width: 32px;\n",
              "    }\n",
              "\n",
              "    .colab-df-convert:hover {\n",
              "      background-color: #E2EBFA;\n",
              "      box-shadow: 0px 1px 2px rgba(60, 64, 67, 0.3), 0px 1px 3px 1px rgba(60, 64, 67, 0.15);\n",
              "      fill: #174EA6;\n",
              "    }\n",
              "\n",
              "    [theme=dark] .colab-df-convert {\n",
              "      background-color: #3B4455;\n",
              "      fill: #D2E3FC;\n",
              "    }\n",
              "\n",
              "    [theme=dark] .colab-df-convert:hover {\n",
              "      background-color: #434B5C;\n",
              "      box-shadow: 0px 1px 3px 1px rgba(0, 0, 0, 0.15);\n",
              "      filter: drop-shadow(0px 1px 2px rgba(0, 0, 0, 0.3));\n",
              "      fill: #FFFFFF;\n",
              "    }\n",
              "  </style>\n",
              "\n",
              "      <script>\n",
              "        const buttonEl =\n",
              "          document.querySelector('#df-e69debf5-25f5-4690-93aa-c4681b77b6bc button.colab-df-convert');\n",
              "        buttonEl.style.display =\n",
              "          google.colab.kernel.accessAllowed ? 'block' : 'none';\n",
              "\n",
              "        async function convertToInteractive(key) {\n",
              "          const element = document.querySelector('#df-e69debf5-25f5-4690-93aa-c4681b77b6bc');\n",
              "          const dataTable =\n",
              "            await google.colab.kernel.invokeFunction('convertToInteractive',\n",
              "                                                     [key], {});\n",
              "          if (!dataTable) return;\n",
              "\n",
              "          const docLinkHtml = 'Like what you see? Visit the ' +\n",
              "            '<a target=\"_blank\" href=https://colab.research.google.com/notebooks/data_table.ipynb>data table notebook</a>'\n",
              "            + ' to learn more about interactive tables.';\n",
              "          element.innerHTML = '';\n",
              "          dataTable['output_type'] = 'display_data';\n",
              "          await google.colab.output.renderOutput(dataTable, element);\n",
              "          const docLink = document.createElement('div');\n",
              "          docLink.innerHTML = docLinkHtml;\n",
              "          element.appendChild(docLink);\n",
              "        }\n",
              "      </script>\n",
              "    </div>\n",
              "  </div>\n",
              "  "
            ]
          },
          "metadata": {},
          "execution_count": 10
        }
      ],
      "source": [
        "df3=df2.drop(['extent','rot_per','spec_T','spec_B','G','IR','UB','BV','GM','name'],axis=1)\n",
        "df3"
      ]
    },
    {
      "cell_type": "code",
      "execution_count": null,
      "metadata": {
        "id": "biLXLyFKsZ5e"
      },
      "outputs": [],
      "source": [
        "# sns.pairplot(df3)"
      ]
    },
    {
      "cell_type": "code",
      "execution_count": null,
      "metadata": {
        "colab": {
          "base_uri": "https://localhost:8080/"
        },
        "id": "8NGttGs2U56w",
        "outputId": "c106092d-8d01-4ca0-f1ab-d86dcc50048c"
      },
      "outputs": [
        {
          "output_type": "execute_result",
          "data": {
            "text/plain": [
              "a                    0\n",
              "e                    0\n",
              "i                    0\n",
              "om                   0\n",
              "w                    0\n",
              "q                    0\n",
              "ad                   0\n",
              "per_y                0\n",
              "data_arc           138\n",
              "condition_code       0\n",
              "n_obs_used           0\n",
              "H                  747\n",
              "neo                  0\n",
              "pha                  0\n",
              "diameter             0\n",
              "albedo            1230\n",
              "moid                 0\n",
              "class                0\n",
              "n                    0\n",
              "per                  0\n",
              "ma                   0\n",
              "dtype: int64"
            ]
          },
          "metadata": {},
          "execution_count": 11
        }
      ],
      "source": [
        "df3.isnull().sum()"
      ]
    },
    {
      "cell_type": "code",
      "execution_count": null,
      "metadata": {
        "id": "YTR52mJ3wlEP"
      },
      "outputs": [],
      "source": [
        "df3[\"albedo\"].fillna(df[\"albedo\"].mean(),inplace=True)\n",
        "df3[\"H\"].fillna(df[\"H\"].mean(),inplace=True)\n",
        "df3[\"data_arc\"].fillna(df[\"data_arc\"].mean(),inplace=True)"
      ]
    },
    {
      "cell_type": "code",
      "execution_count": null,
      "metadata": {
        "colab": {
          "base_uri": "https://localhost:8080/"
        },
        "id": "oAAKcAxWxtnW",
        "outputId": "d6ec7e41-2dae-491c-c2ca-2c58d266a450"
      },
      "outputs": [
        {
          "output_type": "stream",
          "name": "stdout",
          "text": [
            "<class 'pandas.core.frame.DataFrame'>\n",
            "Int64Index: 137636 entries, 0 to 810375\n",
            "Data columns (total 21 columns):\n",
            " #   Column          Non-Null Count   Dtype  \n",
            "---  ------          --------------   -----  \n",
            " 0   a               137636 non-null  float64\n",
            " 1   e               137636 non-null  float64\n",
            " 2   i               137636 non-null  float64\n",
            " 3   om              137636 non-null  float64\n",
            " 4   w               137636 non-null  float64\n",
            " 5   q               137636 non-null  float64\n",
            " 6   ad              137636 non-null  float64\n",
            " 7   per_y           137636 non-null  float64\n",
            " 8   data_arc        137636 non-null  float64\n",
            " 9   condition_code  137636 non-null  float64\n",
            " 10  n_obs_used      137636 non-null  int64  \n",
            " 11  H               137636 non-null  float64\n",
            " 12  neo             137636 non-null  object \n",
            " 13  pha             137636 non-null  object \n",
            " 14  diameter        137636 non-null  float64\n",
            " 15  albedo          137636 non-null  float64\n",
            " 16  moid            137636 non-null  float64\n",
            " 17  class           137636 non-null  object \n",
            " 18  n               137636 non-null  float64\n",
            " 19  per             137636 non-null  float64\n",
            " 20  ma              137636 non-null  float64\n",
            "dtypes: float64(17), int64(1), object(3)\n",
            "memory usage: 23.1+ MB\n"
          ]
        }
      ],
      "source": [
        "df3.info()"
      ]
    },
    {
      "cell_type": "code",
      "execution_count": null,
      "metadata": {
        "id": "mb6h4WPs0hgV"
      },
      "outputs": [],
      "source": [
        "categorical_column = ['neo','pha', 'class','condition_code']\n",
        "\n",
        "for i in categorical_column:\n",
        "  x = pd.get_dummies(df3[i],drop_first = True)\n",
        "  df3 = pd.concat([df3,x],axis=1)\n",
        "\n",
        "df3.drop(categorical_column,axis=1, inplace = True)"
      ]
    },
    {
      "cell_type": "code",
      "execution_count": null,
      "metadata": {
        "colab": {
          "base_uri": "https://localhost:8080/"
        },
        "id": "THaUWI_sFTgs",
        "outputId": "b4bfbde5-d9ca-4907-d2ca-01a77f88aff9"
      },
      "outputs": [
        {
          "output_type": "execute_result",
          "data": {
            "text/plain": [
              "Index([         'a',          'e',          'i',         'om',          'w',\n",
              "                'q',         'ad',      'per_y',   'data_arc', 'n_obs_used',\n",
              "                'H',   'diameter',     'albedo',       'moid',          'n',\n",
              "              'per',         'ma',          'Y',          'Y',        'APO',\n",
              "              'AST',        'ATE',        'CEN',        'IMB',        'MBA',\n",
              "              'MCA',        'OMB',        'TJN',        'TNO',          1.0,\n",
              "                2.0,          3.0,          4.0,          5.0,          6.0,\n",
              "                7.0,          8.0,          9.0],\n",
              "      dtype='object')"
            ]
          },
          "metadata": {},
          "execution_count": 15
        }
      ],
      "source": [
        "df3.columns\n",
        "# unique=[]\n",
        "# for i in df3.columns:\n",
        "#   if i not in unique:\n",
        "#     unique.append(i)\n",
        "# len(unique)"
      ]
    },
    {
      "cell_type": "markdown",
      "metadata": {
        "id": "UNpqSvfXg-b0"
      },
      "source": [
        "Model Selection\n"
      ]
    },
    {
      "cell_type": "code",
      "execution_count": null,
      "metadata": {
        "id": "YbcN27sjyOVz"
      },
      "outputs": [],
      "source": [
        "X = df3.drop(\"diameter\",axis=1)\n",
        "y = df3[\"diameter\"]\n",
        "\n",
        "from sklearn.model_selection import train_test_split\n",
        "X_train, X_test, y_train, y_test = train_test_split(X, y, test_size = 0.3, random_state = 1)"
      ]
    },
    {
      "cell_type": "code",
      "execution_count": null,
      "metadata": {
        "colab": {
          "base_uri": "https://localhost:8080/"
        },
        "id": "iD5hHcCDLPC2",
        "outputId": "deebeaba-7980-49d1-d340-6560cf8b0021"
      },
      "outputs": [
        {
          "output_type": "stream",
          "name": "stdout",
          "text": [
            "<class 'pandas.core.frame.DataFrame'>\n",
            "Int64Index: 41291 entries, 432430 to 109086\n",
            "Data columns (total 37 columns):\n",
            " #   Column      Non-Null Count  Dtype  \n",
            "---  ------      --------------  -----  \n",
            " 0   a           41291 non-null  float64\n",
            " 1   e           41291 non-null  float64\n",
            " 2   i           41291 non-null  float64\n",
            " 3   om          41291 non-null  float64\n",
            " 4   w           41291 non-null  float64\n",
            " 5   q           41291 non-null  float64\n",
            " 6   ad          41291 non-null  float64\n",
            " 7   per_y       41291 non-null  float64\n",
            " 8   data_arc    41291 non-null  float64\n",
            " 9   n_obs_used  41291 non-null  int64  \n",
            " 10  H           41291 non-null  float64\n",
            " 11  albedo      41291 non-null  float64\n",
            " 12  moid        41291 non-null  float64\n",
            " 13  n           41291 non-null  float64\n",
            " 14  per         41291 non-null  float64\n",
            " 15  ma          41291 non-null  float64\n",
            " 16  Y           41291 non-null  uint8  \n",
            " 17  Y           41291 non-null  uint8  \n",
            " 18  APO         41291 non-null  uint8  \n",
            " 19  AST         41291 non-null  uint8  \n",
            " 20  ATE         41291 non-null  uint8  \n",
            " 21  CEN         41291 non-null  uint8  \n",
            " 22  IMB         41291 non-null  uint8  \n",
            " 23  MBA         41291 non-null  uint8  \n",
            " 24  MCA         41291 non-null  uint8  \n",
            " 25  OMB         41291 non-null  uint8  \n",
            " 26  TJN         41291 non-null  uint8  \n",
            " 27  TNO         41291 non-null  uint8  \n",
            " 28  1.0         41291 non-null  uint8  \n",
            " 29  2.0         41291 non-null  uint8  \n",
            " 30  3.0         41291 non-null  uint8  \n",
            " 31  4.0         41291 non-null  uint8  \n",
            " 32  5.0         41291 non-null  uint8  \n",
            " 33  6.0         41291 non-null  uint8  \n",
            " 34  7.0         41291 non-null  uint8  \n",
            " 35  8.0         41291 non-null  uint8  \n",
            " 36  9.0         41291 non-null  uint8  \n",
            "dtypes: float64(15), int64(1), uint8(21)\n",
            "memory usage: 6.2 MB\n"
          ]
        }
      ],
      "source": [
        "X_test.info()"
      ]
    },
    {
      "cell_type": "code",
      "execution_count": null,
      "metadata": {
        "id": "LdpgQzS9zqbt"
      },
      "outputs": [],
      "source": [
        "X_train = np.asarray(X_train).astype('float32')\n",
        "X_test = np.asarray(X_test).astype('float32')\n",
        "y_train = np.asarray(y_train).astype('float32')\n",
        "y_test = np.asarray(y_test).astype('float32')"
      ]
    },
    {
      "cell_type": "code",
      "execution_count": null,
      "metadata": {
        "id": "yJAeJTEiE5pB"
      },
      "outputs": [],
      "source": [
        "from sklearn.metrics import mean_squared_error"
      ]
    },
    {
      "cell_type": "code",
      "execution_count": null,
      "metadata": {
        "id": "dXXaUVJuL8wd"
      },
      "outputs": [],
      "source": [
        "from sklearn.neighbors import KNeighborsRegressor\n",
        "\n",
        "train_accuracy=[]\n",
        "test_accuracy=[]\n",
        "\n",
        "k_n=[1,3,5,10,15,25]\n",
        "\n",
        "for i in k_n :\n",
        "  neigh = KNeighborsRegressor(n_neighbors=i)\n",
        "  neigh.fit(X_train, y_train)\n",
        "  y_train_pred = neigh.predict(X_train)\n",
        "  train_accuracy.append(mean_squared_error(y_train,y_train_pred))\n",
        "  y_test_pred = neigh.predict(X_test)\n",
        "  test_accuracy.append(mean_squared_error(y_test,y_test_pred))"
      ]
    },
    {
      "cell_type": "code",
      "execution_count": null,
      "metadata": {
        "id": "SFdSpz2PKAwG"
      },
      "outputs": [],
      "source": [
        "from sklearn.linear_model import LinearRegression\n",
        "\n",
        "lr = LinearRegression()\n",
        "lr.fit(X_train,y_train)\n",
        "y_pred=lr.predict(X_train)\n",
        "train_error_linear = mean_squared_error(y_train,y_pred)\n",
        "y_test_pred=lr.predict(X_test)\n",
        "test_error_linear = mean_squared_error(y_test,y_test_pred)\n",
        "\n",
        "test_error_linear"
      ]
    },
    {
      "cell_type": "code",
      "execution_count": null,
      "metadata": {
        "id": "MOPmFNimKAnY"
      },
      "outputs": [],
      "source": [
        "from sklearn.ensemble import RandomForestRegressor\n",
        "\n",
        "train_accuracy_rf=[]\n",
        "test_accuracy_rf=[]\n",
        "k=[10,20,40,60,100]\n",
        "for i in k :\n",
        "  rf = RandomForestRegressor(n_estimators=i)\n",
        "  rf.fit(X_train,y_train)\n",
        "  y_train_pred = rf.predict(X_train)\n",
        "  train_accuracy_rf.append(mean_squared_error(y_train,y_train_pred))\n",
        "  y_test_pred=rf.predict(X_test)\n",
        "  test_accuracy_rf.append(mean_squared_error(y_test,y_test_pred)) "
      ]
    },
    {
      "cell_type": "code",
      "execution_count": null,
      "metadata": {
        "id": "v3o3qvBXKAew"
      },
      "outputs": [],
      "source": []
    },
    {
      "cell_type": "code",
      "execution_count": null,
      "metadata": {
        "id": "Mw5S8qr2KAWq"
      },
      "outputs": [],
      "source": []
    },
    {
      "cell_type": "code",
      "execution_count": null,
      "metadata": {
        "id": "pCCdDEypKAOI"
      },
      "outputs": [],
      "source": []
    },
    {
      "cell_type": "code",
      "execution_count": null,
      "metadata": {
        "id": "_GFzmLS3KAGQ"
      },
      "outputs": [],
      "source": []
    },
    {
      "cell_type": "code",
      "execution_count": null,
      "metadata": {
        "id": "7dBvZk6RjC1x"
      },
      "outputs": [],
      "source": [
        "# eval_set=[(X_test, y_test)]\n",
        "\n",
        "# import xgboost as xgb\n",
        "# from xgboost.sklearn import XGBClassifier\n",
        "# from sklearn.metrics import accuracy_score\n",
        "# xgbc=xgb.XGBRegressor(learning_rate =0.1,\n",
        "#                       n_estimators=1000,max_depth=5,min_child_weight=1\n",
        "#                       ,gamma=0,subsample=0.8,colsample_bytree=0.8,\n",
        "#                       objective='reg:linear',nthread=4,\n",
        "#                       scale_pos_weight=1,seed=27)\n",
        "\n",
        "# xgbc.fit(X_train, y_train, eval_metric='auc', eval_set=eval_set, early_stopping_rounds=50, verbose=True)\n",
        "# predictions = xgbc.predict(X_test)\n",
        "# accuracy_score(y_test,predictions)  "
      ]
    },
    {
      "cell_type": "code",
      "execution_count": null,
      "metadata": {
        "id": "QY4-6r49hE7o"
      },
      "outputs": [],
      "source": [
        "from keras.wrappers.scikit_learn import KerasRegressor\n",
        "from keras.models import Sequential\n",
        "from keras.layers import Activation, Dense\n",
        "from sklearn.model_selection import GridSearchCV"
      ]
    },
    {
      "cell_type": "code",
      "execution_count": null,
      "metadata": {
        "id": "uNDWnlOmhHs3",
        "colab": {
          "base_uri": "https://localhost:8080/"
        },
        "outputId": "48fd9ce2-3ac2-4b04-fb76-bc75d289a9f8"
      },
      "outputs": [
        {
          "output_type": "stream",
          "name": "stderr",
          "text": [
            "/usr/local/lib/python3.7/dist-packages/ipykernel_launcher.py:15: DeprecationWarning: KerasRegressor is deprecated, use Sci-Keras (https://github.com/adriangb/scikeras) instead. See https://www.adriangb.com/scikeras/stable/migration.html for help migrating.\n",
            "  from ipykernel import kernelapp as app\n"
          ]
        }
      ],
      "source": [
        "def ANN(layers, activation):\n",
        "  model = Sequential()\n",
        "  for i, nodes in enumerate(layers):\n",
        "    if i==0:\n",
        "      model.add(Dense(nodes, input_dim = X_train.shape[1]))\n",
        "      model.add(Activation(activation))\n",
        "    else:\n",
        "      model.add(Dense(nodes))\n",
        "      model.add(Activation(activation))\n",
        "  model.add(Dense(1))\n",
        "\n",
        "  model.compile(optimizer = 'adam', loss = 'mse', metrics = ['mse'])\n",
        "  return model\n",
        "\n",
        "model = KerasRegressor(build_fn = ANN, verbose = 0 )"
      ]
    },
    {
      "cell_type": "code",
      "execution_count": null,
      "metadata": {
        "id": "RDDYk5ibn9SI"
      },
      "outputs": [],
      "source": [
        "layers = [[35],[35,20]]\n",
        "activations = ['sigmoid', 'relu']\n",
        "param_grid = dict(layers = layers, activation = activations, batch_size = [128, 256], epochs = [30])\n",
        "grid = GridSearchCV(estimator = model, param_grid = param_grid)"
      ]
    },
    {
      "cell_type": "code",
      "source": [
        "grid_result = grid.fit(X_train, y_train)"
      ],
      "metadata": {
        "id": "qui69kLwL0vM"
      },
      "execution_count": null,
      "outputs": []
    },
    {
      "cell_type": "code",
      "source": [],
      "metadata": {
        "id": "c_esZb-XL1qs"
      },
      "execution_count": null,
      "outputs": []
    },
    {
      "cell_type": "code",
      "source": [],
      "metadata": {
        "id": "kLLGt_A2L172"
      },
      "execution_count": null,
      "outputs": []
    },
    {
      "cell_type": "code",
      "execution_count": null,
      "metadata": {
        "id": "Mu7tyOs785zO"
      },
      "outputs": [],
      "source": [
        "# import torch\n",
        "# import torch.nn as nn\n",
        "# import torch.nn.functional as f\n",
        "# from sklearn.preprocessing import StandardScaler\n",
        "# from sklearn.model_selection import train_test_split"
      ]
    },
    {
      "cell_type": "code",
      "execution_count": null,
      "metadata": {
        "id": "lwliKfqMz33B"
      },
      "outputs": [],
      "source": [
        "# sc = StandardScaler()\n",
        "# X_train = sc.fit_transform(X_train)\n",
        "# X_test = sc.transform(X_test)\n",
        "\n",
        "\n",
        "# X_train = torch.from_numpy(X_train.astype(np.float32))\n",
        "# X_test = torch.from_numpy(X_test.astype(np.float32))\n",
        "# y_train = torch.from_numpy(y_train.astype(np.float32))\n",
        "# y_test = torch.from_numpy(y_test.astype(np.float32))"
      ]
    },
    {
      "cell_type": "code",
      "execution_count": null,
      "metadata": {
        "id": "VI1vHLvI1CgP"
      },
      "outputs": [],
      "source": []
    },
    {
      "cell_type": "code",
      "execution_count": null,
      "metadata": {
        "id": "VpXps5mayzKJ"
      },
      "outputs": [],
      "source": [
        "# import tensorflow as tf\n",
        "\n",
        "# X_train = tf.convert_to_tensor(X_train, dtype=tf.float64)\n",
        "# X_test = tf.convert_to_tensor(X_test, dtype=tf.float64)\n",
        "# y_train = tf.convert_to_tensor(y_train, dtype=tf.float64)\n",
        "# y_test = tf.convert_to_tensor(y_test, dtype=tf.float64)\n",
        "\n",
        "# from tensorflow.keras.models import Sequential\n",
        "# from tensorflow.keras.layers import Dense\n",
        "# from tensorflow.keras.layers import LeakyReLU, PReLU, ELU, ReLU\n",
        "# from tensorflow.keras.layers import Dropout\n",
        "\n",
        "# regressor = Sequential()\n",
        "\n",
        "# regressor.add(Dense(units = 51, activation = 'relu'))\n",
        "# regressor.add(Dense(units = 51, activation = 'relu'))\n",
        "# regressor.add(Dense(units = 37, activation = 'relu'))\n",
        "# regressor.add(Dense(1, activation = 'relu'))\n",
        "\n",
        "# opt = tf.keras.optimizers.SGD(learning_rate=0.1)\n",
        "\n",
        "# regressor.compile(\n",
        "#     optimizer = opt,\n",
        "#     loss = 'mse',\n",
        "#     # metrics = [tf.keras.metrics.MeanSquaredError()])\n",
        "#     metrics = ['accuracy'])\n",
        "\n",
        "# model_history = regressor.fit(X_train, y_train, validation_split = 0.33, batch_size = 10, epochs = 10)\n",
        "\n",
        "# model_history.history.keys()\n",
        "\n",
        "# plt.plot(model_history.history['accuracy'])\n",
        "# plt.plot(model_history.history['accuracy'])\n",
        "# plt.title('model_accuracy')\n",
        "# plt.ylabel('accuracy')\n",
        "# plt.xlabel('epoch')\n",
        "# plt.legend(['train','test'], loc = 'upper left')\n",
        "# plt.show()"
      ]
    },
    {
      "cell_type": "code",
      "execution_count": null,
      "metadata": {
        "id": "UObdPx0Sy5fQ"
      },
      "outputs": [],
      "source": [
        "# n_samples, n_features = X_train.shape\n",
        "# n_features"
      ]
    },
    {
      "cell_type": "code",
      "execution_count": null,
      "metadata": {
        "id": "623O7bxQzV2_"
      },
      "outputs": [],
      "source": [
        "# class ANN_Model(nn.Module):\n",
        "#   def __init__(self, input_features = n_features, hidden1 = 47, hidden2 = 30, out_features = 1):\n",
        "#     super().__init__()\n",
        "#     self.f_connected1 = nn.Linear(input_features, hidden1)\n",
        "#     self.f_connected2 = nn.Linear(hidden1, hidden2)\\\n",
        "#     self.out = nn.Linear(hidden2, out_features)\n",
        "\n",
        "#   def forward(self,x):\n",
        "#     x = f.relu(self.f_connected1(x))\n",
        "#     x = f.relu(self.f_connected2(x))\n",
        "#     x = self.out(x)\n",
        "#     return x\n",
        "\n",
        "# model = ANN_Model()"
      ]
    },
    {
      "cell_type": "code",
      "execution_count": null,
      "metadata": {
        "id": "jCV55Soz0NfL"
      },
      "outputs": [],
      "source": [
        "# model.parameters"
      ]
    },
    {
      "cell_type": "code",
      "execution_count": null,
      "metadata": {
        "id": "Ezqguzmp1aJe"
      },
      "outputs": [],
      "source": [
        "# loss_f = nn.MSELoss()\n",
        "# optimizer = torch.optim.Adam(model.parameters(),lr = 0.01)"
      ]
    },
    {
      "cell_type": "code",
      "execution_count": null,
      "metadata": {
        "id": "8qZ9fs39BoJM"
      },
      "outputs": [],
      "source": [
        "# epochs = 50\n",
        "# final_losses = []\n",
        "# for i in range(epochs):\n",
        "#   y_pred = model.forward(X_train)\n",
        "#   loss = loss_f(y_pred, y_train)\n",
        "#   if ((i+1)%10==0):\n",
        "#     print(f'Epoch number: {i+1} and the loss: {loss.item()}')\n",
        "#   optimizer.zero_grad()\n",
        "#   final_losses.append(loss)\n",
        "#   loss.backward()\n",
        "#   optimizer.step()\n"
      ]
    },
    {
      "cell_type": "code",
      "execution_count": null,
      "metadata": {
        "id": "RJDU4sr2CNTK"
      },
      "outputs": [],
      "source": [
        "# plt.plot(range(epochs), final_losses)\n",
        "# plt.xlabel(\"Epoch\")\n",
        "# plt.ylabel(\"Loss\")"
      ]
    },
    {
      "cell_type": "code",
      "execution_count": null,
      "metadata": {
        "id": "mbwkSB9sRpKs"
      },
      "outputs": [],
      "source": []
    }
  ],
  "metadata": {
    "colab": {
      "collapsed_sections": [],
      "provenance": []
    },
    "gpuClass": "standard",
    "kernelspec": {
      "display_name": "Python 3",
      "name": "python3"
    },
    "language_info": {
      "name": "python"
    },
    "accelerator": "GPU"
  },
  "nbformat": 4,
  "nbformat_minor": 0
}