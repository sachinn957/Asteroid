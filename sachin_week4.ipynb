{
  "cells": [
    {
      "cell_type": "code",
      "execution_count": 1,
      "metadata": {
        "colab": {
          "base_uri": "https://localhost:8080/"
        },
        "id": "OBtvXRIWUuoo",
        "outputId": "c8d74468-322d-4036-bb1a-b3af8272287c"
      },
      "outputs": [
        {
          "output_type": "stream",
          "name": "stdout",
          "text": [
            "Mounted at /content/drive\n"
          ]
        }
      ],
      "source": [
        "from google.colab import drive\n",
        "drive.mount('/content/drive')"
      ]
    },
    {
      "cell_type": "code",
      "execution_count": 2,
      "metadata": {
        "id": "ov7yBEE7VNTe"
      },
      "outputs": [],
      "source": [
        "import numpy as np\n",
        "import pandas as pd\n",
        "import matplotlib.pyplot as plt\n",
        "%matplotlib inline\n",
        "import seaborn as sns\n",
        "import warnings\n",
        "warnings.simplefilter(action=\"ignore\", category=FutureWarning)"
      ]
    },
    {
      "cell_type": "code",
      "execution_count": 3,
      "metadata": {
        "id": "RvjEodeeUyQf",
        "colab": {
          "base_uri": "https://localhost:8080/",
          "height": 334
        },
        "outputId": "1b054ebe-0b55-458e-d0d3-3b9b6cef84e2"
      },
      "outputs": [
        {
          "output_type": "stream",
          "name": "stderr",
          "text": [
            "/usr/local/lib/python3.7/dist-packages/IPython/core/interactiveshell.py:3326: DtypeWarning: Columns (0,10,15,16,23,24) have mixed types.Specify dtype option on import or set low_memory=False.\n",
            "  exec(code_obj, self.user_global_ns, self.user_ns)\n"
          ]
        },
        {
          "output_type": "execute_result",
          "data": {
            "text/plain": [
              "      name         a         e          i          om           w         q  \\\n",
              "0    Ceres  2.769165  0.076009  10.594067   80.305532   73.597694  2.558684   \n",
              "1   Pallas  2.772466  0.230337  34.836234  173.080063  310.048857  2.133865   \n",
              "2     Juno  2.669150  0.256942  12.988919  169.852760  248.138626  1.983332   \n",
              "3    Vesta  2.361418  0.088721   7.141771  103.810804  150.728541  2.151909   \n",
              "4  Astraea  2.574249  0.191095   5.366988  141.576605  358.687607  2.082324   \n",
              "\n",
              "         ad     per_y  data_arc  ...     UB  IR  spec_B spec_T     G     moid  \\\n",
              "0  2.979647  4.608202    8822.0  ...  0.426 NaN       C      G  0.12  1.59478   \n",
              "1  3.411067  4.616444   72318.0  ...  0.284 NaN       B      B  0.11  1.23324   \n",
              "2  3.354967  4.360814   72684.0  ...  0.433 NaN      Sk      S  0.32  1.03454   \n",
              "3  2.570926  3.628837   24288.0  ...  0.492 NaN       V      V  0.32  1.13948   \n",
              "4  3.066174  4.130323   63507.0  ...  0.411 NaN       S      S   NaN  1.09589   \n",
              "\n",
              "  class         n          per          ma  \n",
              "0   MBA  0.213885  1683.145708   77.372096  \n",
              "1   MBA  0.213503  1686.155999   59.699133  \n",
              "2   MBA  0.226019  1592.787285   34.925016  \n",
              "3   MBA  0.271609  1325.432765   95.861936  \n",
              "4   MBA  0.238632  1508.600458  282.366289  \n",
              "\n",
              "[5 rows x 31 columns]"
            ],
            "text/html": [
              "\n",
              "  <div id=\"df-36b5af78-9fed-4839-ab98-5ba6784c6396\">\n",
              "    <div class=\"colab-df-container\">\n",
              "      <div>\n",
              "<style scoped>\n",
              "    .dataframe tbody tr th:only-of-type {\n",
              "        vertical-align: middle;\n",
              "    }\n",
              "\n",
              "    .dataframe tbody tr th {\n",
              "        vertical-align: top;\n",
              "    }\n",
              "\n",
              "    .dataframe thead th {\n",
              "        text-align: right;\n",
              "    }\n",
              "</style>\n",
              "<table border=\"1\" class=\"dataframe\">\n",
              "  <thead>\n",
              "    <tr style=\"text-align: right;\">\n",
              "      <th></th>\n",
              "      <th>name</th>\n",
              "      <th>a</th>\n",
              "      <th>e</th>\n",
              "      <th>i</th>\n",
              "      <th>om</th>\n",
              "      <th>w</th>\n",
              "      <th>q</th>\n",
              "      <th>ad</th>\n",
              "      <th>per_y</th>\n",
              "      <th>data_arc</th>\n",
              "      <th>...</th>\n",
              "      <th>UB</th>\n",
              "      <th>IR</th>\n",
              "      <th>spec_B</th>\n",
              "      <th>spec_T</th>\n",
              "      <th>G</th>\n",
              "      <th>moid</th>\n",
              "      <th>class</th>\n",
              "      <th>n</th>\n",
              "      <th>per</th>\n",
              "      <th>ma</th>\n",
              "    </tr>\n",
              "  </thead>\n",
              "  <tbody>\n",
              "    <tr>\n",
              "      <th>0</th>\n",
              "      <td>Ceres</td>\n",
              "      <td>2.769165</td>\n",
              "      <td>0.076009</td>\n",
              "      <td>10.594067</td>\n",
              "      <td>80.305532</td>\n",
              "      <td>73.597694</td>\n",
              "      <td>2.558684</td>\n",
              "      <td>2.979647</td>\n",
              "      <td>4.608202</td>\n",
              "      <td>8822.0</td>\n",
              "      <td>...</td>\n",
              "      <td>0.426</td>\n",
              "      <td>NaN</td>\n",
              "      <td>C</td>\n",
              "      <td>G</td>\n",
              "      <td>0.12</td>\n",
              "      <td>1.59478</td>\n",
              "      <td>MBA</td>\n",
              "      <td>0.213885</td>\n",
              "      <td>1683.145708</td>\n",
              "      <td>77.372096</td>\n",
              "    </tr>\n",
              "    <tr>\n",
              "      <th>1</th>\n",
              "      <td>Pallas</td>\n",
              "      <td>2.772466</td>\n",
              "      <td>0.230337</td>\n",
              "      <td>34.836234</td>\n",
              "      <td>173.080063</td>\n",
              "      <td>310.048857</td>\n",
              "      <td>2.133865</td>\n",
              "      <td>3.411067</td>\n",
              "      <td>4.616444</td>\n",
              "      <td>72318.0</td>\n",
              "      <td>...</td>\n",
              "      <td>0.284</td>\n",
              "      <td>NaN</td>\n",
              "      <td>B</td>\n",
              "      <td>B</td>\n",
              "      <td>0.11</td>\n",
              "      <td>1.23324</td>\n",
              "      <td>MBA</td>\n",
              "      <td>0.213503</td>\n",
              "      <td>1686.155999</td>\n",
              "      <td>59.699133</td>\n",
              "    </tr>\n",
              "    <tr>\n",
              "      <th>2</th>\n",
              "      <td>Juno</td>\n",
              "      <td>2.669150</td>\n",
              "      <td>0.256942</td>\n",
              "      <td>12.988919</td>\n",
              "      <td>169.852760</td>\n",
              "      <td>248.138626</td>\n",
              "      <td>1.983332</td>\n",
              "      <td>3.354967</td>\n",
              "      <td>4.360814</td>\n",
              "      <td>72684.0</td>\n",
              "      <td>...</td>\n",
              "      <td>0.433</td>\n",
              "      <td>NaN</td>\n",
              "      <td>Sk</td>\n",
              "      <td>S</td>\n",
              "      <td>0.32</td>\n",
              "      <td>1.03454</td>\n",
              "      <td>MBA</td>\n",
              "      <td>0.226019</td>\n",
              "      <td>1592.787285</td>\n",
              "      <td>34.925016</td>\n",
              "    </tr>\n",
              "    <tr>\n",
              "      <th>3</th>\n",
              "      <td>Vesta</td>\n",
              "      <td>2.361418</td>\n",
              "      <td>0.088721</td>\n",
              "      <td>7.141771</td>\n",
              "      <td>103.810804</td>\n",
              "      <td>150.728541</td>\n",
              "      <td>2.151909</td>\n",
              "      <td>2.570926</td>\n",
              "      <td>3.628837</td>\n",
              "      <td>24288.0</td>\n",
              "      <td>...</td>\n",
              "      <td>0.492</td>\n",
              "      <td>NaN</td>\n",
              "      <td>V</td>\n",
              "      <td>V</td>\n",
              "      <td>0.32</td>\n",
              "      <td>1.13948</td>\n",
              "      <td>MBA</td>\n",
              "      <td>0.271609</td>\n",
              "      <td>1325.432765</td>\n",
              "      <td>95.861936</td>\n",
              "    </tr>\n",
              "    <tr>\n",
              "      <th>4</th>\n",
              "      <td>Astraea</td>\n",
              "      <td>2.574249</td>\n",
              "      <td>0.191095</td>\n",
              "      <td>5.366988</td>\n",
              "      <td>141.576605</td>\n",
              "      <td>358.687607</td>\n",
              "      <td>2.082324</td>\n",
              "      <td>3.066174</td>\n",
              "      <td>4.130323</td>\n",
              "      <td>63507.0</td>\n",
              "      <td>...</td>\n",
              "      <td>0.411</td>\n",
              "      <td>NaN</td>\n",
              "      <td>S</td>\n",
              "      <td>S</td>\n",
              "      <td>NaN</td>\n",
              "      <td>1.09589</td>\n",
              "      <td>MBA</td>\n",
              "      <td>0.238632</td>\n",
              "      <td>1508.600458</td>\n",
              "      <td>282.366289</td>\n",
              "    </tr>\n",
              "  </tbody>\n",
              "</table>\n",
              "<p>5 rows × 31 columns</p>\n",
              "</div>\n",
              "      <button class=\"colab-df-convert\" onclick=\"convertToInteractive('df-36b5af78-9fed-4839-ab98-5ba6784c6396')\"\n",
              "              title=\"Convert this dataframe to an interactive table.\"\n",
              "              style=\"display:none;\">\n",
              "        \n",
              "  <svg xmlns=\"http://www.w3.org/2000/svg\" height=\"24px\"viewBox=\"0 0 24 24\"\n",
              "       width=\"24px\">\n",
              "    <path d=\"M0 0h24v24H0V0z\" fill=\"none\"/>\n",
              "    <path d=\"M18.56 5.44l.94 2.06.94-2.06 2.06-.94-2.06-.94-.94-2.06-.94 2.06-2.06.94zm-11 1L8.5 8.5l.94-2.06 2.06-.94-2.06-.94L8.5 2.5l-.94 2.06-2.06.94zm10 10l.94 2.06.94-2.06 2.06-.94-2.06-.94-.94-2.06-.94 2.06-2.06.94z\"/><path d=\"M17.41 7.96l-1.37-1.37c-.4-.4-.92-.59-1.43-.59-.52 0-1.04.2-1.43.59L10.3 9.45l-7.72 7.72c-.78.78-.78 2.05 0 2.83L4 21.41c.39.39.9.59 1.41.59.51 0 1.02-.2 1.41-.59l7.78-7.78 2.81-2.81c.8-.78.8-2.07 0-2.86zM5.41 20L4 18.59l7.72-7.72 1.47 1.35L5.41 20z\"/>\n",
              "  </svg>\n",
              "      </button>\n",
              "      \n",
              "  <style>\n",
              "    .colab-df-container {\n",
              "      display:flex;\n",
              "      flex-wrap:wrap;\n",
              "      gap: 12px;\n",
              "    }\n",
              "\n",
              "    .colab-df-convert {\n",
              "      background-color: #E8F0FE;\n",
              "      border: none;\n",
              "      border-radius: 50%;\n",
              "      cursor: pointer;\n",
              "      display: none;\n",
              "      fill: #1967D2;\n",
              "      height: 32px;\n",
              "      padding: 0 0 0 0;\n",
              "      width: 32px;\n",
              "    }\n",
              "\n",
              "    .colab-df-convert:hover {\n",
              "      background-color: #E2EBFA;\n",
              "      box-shadow: 0px 1px 2px rgba(60, 64, 67, 0.3), 0px 1px 3px 1px rgba(60, 64, 67, 0.15);\n",
              "      fill: #174EA6;\n",
              "    }\n",
              "\n",
              "    [theme=dark] .colab-df-convert {\n",
              "      background-color: #3B4455;\n",
              "      fill: #D2E3FC;\n",
              "    }\n",
              "\n",
              "    [theme=dark] .colab-df-convert:hover {\n",
              "      background-color: #434B5C;\n",
              "      box-shadow: 0px 1px 3px 1px rgba(0, 0, 0, 0.15);\n",
              "      filter: drop-shadow(0px 1px 2px rgba(0, 0, 0, 0.3));\n",
              "      fill: #FFFFFF;\n",
              "    }\n",
              "  </style>\n",
              "\n",
              "      <script>\n",
              "        const buttonEl =\n",
              "          document.querySelector('#df-36b5af78-9fed-4839-ab98-5ba6784c6396 button.colab-df-convert');\n",
              "        buttonEl.style.display =\n",
              "          google.colab.kernel.accessAllowed ? 'block' : 'none';\n",
              "\n",
              "        async function convertToInteractive(key) {\n",
              "          const element = document.querySelector('#df-36b5af78-9fed-4839-ab98-5ba6784c6396');\n",
              "          const dataTable =\n",
              "            await google.colab.kernel.invokeFunction('convertToInteractive',\n",
              "                                                     [key], {});\n",
              "          if (!dataTable) return;\n",
              "\n",
              "          const docLinkHtml = 'Like what you see? Visit the ' +\n",
              "            '<a target=\"_blank\" href=https://colab.research.google.com/notebooks/data_table.ipynb>data table notebook</a>'\n",
              "            + ' to learn more about interactive tables.';\n",
              "          element.innerHTML = '';\n",
              "          dataTable['output_type'] = 'display_data';\n",
              "          await google.colab.output.renderOutput(dataTable, element);\n",
              "          const docLink = document.createElement('div');\n",
              "          docLink.innerHTML = docLinkHtml;\n",
              "          element.appendChild(docLink);\n",
              "        }\n",
              "      </script>\n",
              "    </div>\n",
              "  </div>\n",
              "  "
            ]
          },
          "metadata": {},
          "execution_count": 3
        }
      ],
      "source": [
        "df = pd.read_csv('/content/drive/My Drive/Asteroid_Updated.csv')\n",
        "df.head()"
      ]
    },
    {
      "cell_type": "code",
      "execution_count": 4,
      "metadata": {
        "colab": {
          "base_uri": "https://localhost:8080/"
        },
        "id": "QHek8va8FH-w",
        "outputId": "088b2b1c-e6fe-47fb-e497-b7f34da06cd4"
      },
      "outputs": [
        {
          "output_type": "stream",
          "name": "stdout",
          "text": [
            "name              122512\n",
            "a                      0\n",
            "e                      0\n",
            "i                      0\n",
            "om                     0\n",
            "w                      0\n",
            "q                      0\n",
            "ad                     0\n",
            "per_y                  0\n",
            "data_arc             138\n",
            "condition_code         0\n",
            "n_obs_used             0\n",
            "H                    747\n",
            "neo                    0\n",
            "pha                    0\n",
            "diameter               0\n",
            "extent            137620\n",
            "albedo              1230\n",
            "rot_per           126448\n",
            "GM                137622\n",
            "BV                136631\n",
            "UB                136671\n",
            "IR                137635\n",
            "spec_B            136266\n",
            "spec_T            136671\n",
            "G                 137517\n",
            "moid                   0\n",
            "class                  0\n",
            "n                      0\n",
            "per                    0\n",
            "ma                     0\n",
            "dtype: int64 \n",
            "\n",
            "<class 'pandas.core.frame.DataFrame'>\n",
            "Int64Index: 137636 entries, 0 to 810375\n",
            "Data columns (total 31 columns):\n",
            " #   Column          Non-Null Count   Dtype  \n",
            "---  ------          --------------   -----  \n",
            " 0   name            15124 non-null   object \n",
            " 1   a               137636 non-null  float64\n",
            " 2   e               137636 non-null  float64\n",
            " 3   i               137636 non-null  float64\n",
            " 4   om              137636 non-null  float64\n",
            " 5   w               137636 non-null  float64\n",
            " 6   q               137636 non-null  float64\n",
            " 7   ad              137636 non-null  float64\n",
            " 8   per_y           137636 non-null  float64\n",
            " 9   data_arc        137498 non-null  float64\n",
            " 10  condition_code  137636 non-null  object \n",
            " 11  n_obs_used      137636 non-null  int64  \n",
            " 12  H               136889 non-null  float64\n",
            " 13  neo             137636 non-null  object \n",
            " 14  pha             137636 non-null  object \n",
            " 15  diameter        137636 non-null  object \n",
            " 16  extent          16 non-null      object \n",
            " 17  albedo          136406 non-null  float64\n",
            " 18  rot_per         11188 non-null   float64\n",
            " 19  GM              14 non-null      float64\n",
            " 20  BV              1005 non-null    float64\n",
            " 21  UB              965 non-null     float64\n",
            " 22  IR              1 non-null       float64\n",
            " 23  spec_B          1370 non-null    object \n",
            " 24  spec_T          965 non-null     object \n",
            " 25  G               119 non-null     float64\n",
            " 26  moid            137636 non-null  float64\n",
            " 27  class           137636 non-null  object \n",
            " 28  n               137636 non-null  float64\n",
            " 29  per             137636 non-null  float64\n",
            " 30  ma              137636 non-null  float64\n",
            "dtypes: float64(21), int64(1), object(9)\n",
            "memory usage: 33.6+ MB\n"
          ]
        },
        {
          "output_type": "stream",
          "name": "stderr",
          "text": [
            "/usr/local/lib/python3.7/dist-packages/pandas/core/generic.py:5516: SettingWithCopyWarning: \n",
            "A value is trying to be set on a copy of a slice from a DataFrame.\n",
            "Try using .loc[row_indexer,col_indexer] = value instead\n",
            "\n",
            "See the caveats in the documentation: https://pandas.pydata.org/pandas-docs/stable/user_guide/indexing.html#returning-a-view-versus-a-copy\n",
            "  self[name] = value\n"
          ]
        }
      ],
      "source": [
        "df2=df[~df['diameter'].isna()]\n",
        "test_data = df[df['diameter'].isna()]\n",
        "df2\n",
        "\n",
        "print(df2.isnull().sum(),'\\n')\n",
        "df2.info()\n",
        "\n",
        "df2.diameter = df2.diameter.astype(float)\n",
        "df2.condition_code = df2.condition_code.astype(float)"
      ]
    },
    {
      "cell_type": "code",
      "source": [
        "df2.describe()"
      ],
      "metadata": {
        "colab": {
          "base_uri": "https://localhost:8080/",
          "height": 394
        },
        "id": "UvvgN0rcqDlE",
        "outputId": "c7baf255-1e77-4d8b-f760-ba3f0b1dc6ad"
      },
      "execution_count": 5,
      "outputs": [
        {
          "output_type": "execute_result",
          "data": {
            "text/plain": [
              "                   a              e              i             om  \\\n",
              "count  137636.000000  137636.000000  137636.000000  137636.000000   \n",
              "mean        2.814613       0.145485      10.349182     169.827629   \n",
              "std         1.522740       0.077573       6.835111     102.713052   \n",
              "min         0.626226       0.000489       0.021855       0.000738   \n",
              "25%         2.536714       0.089623       5.120506      82.334880   \n",
              "50%         2.750859       0.138543       9.389963     160.438430   \n",
              "75%         3.092537       0.191141      13.738588     256.268387   \n",
              "max       389.145964       0.984348     170.323647     359.990858   \n",
              "\n",
              "                   w              q             ad          per_y  \\\n",
              "count  137636.000000  137636.000000  137636.000000  137636.000000   \n",
              "mean      181.904551       2.402609       3.226618       4.884248   \n",
              "std       103.556464       0.516169       2.896374      25.532565   \n",
              "min         0.004466       0.081882       0.999956       0.495569   \n",
              "25%        91.947943       2.068948       2.864438       4.040317   \n",
              "50%       183.669900       2.363897       3.167516       4.562581   \n",
              "75%       271.762261       2.685811       3.468608       5.438518   \n",
              "max       359.995174      40.465671     772.201080    7676.742943   \n",
              "\n",
              "            data_arc  condition_code  ...       rot_per            GM  \\\n",
              "count  137498.000000   137636.000000  ...  11188.000000  1.400000e+01   \n",
              "mean     8969.818601        0.485207  ...     23.566011  7.821928e+00   \n",
              "std      6165.176190        1.966078  ...     74.829904  1.678880e+01   \n",
              "min         1.000000        0.000000  ...      0.029952  2.100000e-09   \n",
              "25%      6291.000000        0.000000  ...      4.670000  1.022225e-03   \n",
              "50%      7572.000000        0.000000  ...      7.560000  6.192500e-01   \n",
              "75%      9731.000000        0.000000  ...     14.579500  6.500000e+00   \n",
              "max     72684.000000        9.000000  ...   1880.000000  6.262840e+01   \n",
              "\n",
              "                BV          UB    IR           G           moid  \\\n",
              "count  1005.000000  965.000000  1.00  119.000000  137636.000000   \n",
              "mean      0.768844    0.364108 -0.33    0.178739       1.420145   \n",
              "std       0.088327    0.095707   NaN    0.134603       0.512241   \n",
              "min       0.580000    0.120000 -0.33   -0.250000       0.000166   \n",
              "25%       0.700000    0.289000 -0.33    0.100000       1.082523   \n",
              "50%       0.743000    0.360000 -0.33    0.190000       1.384935   \n",
              "75%       0.850000    0.439000 -0.33    0.250000       1.699385   \n",
              "max       1.077000    0.655000 -0.33    0.600000      39.507000   \n",
              "\n",
              "                   n           per             ma  \n",
              "count  137636.000000  1.376360e+05  137636.000000  \n",
              "mean        0.219640  1.783972e+03     183.116785  \n",
              "std         0.056980  9.325769e+03     103.411497  \n",
              "min         0.000128  1.810067e+02       0.000517  \n",
              "25%         0.181231  1.475726e+03      94.301261  \n",
              "50%         0.216024  1.666483e+03     186.826667  \n",
              "75%         0.243948  1.986419e+03     271.468299  \n",
              "max         1.988877  2.803930e+06     359.999979  \n",
              "\n",
              "[8 rows x 24 columns]"
            ],
            "text/html": [
              "\n",
              "  <div id=\"df-94fd115f-9bdf-410c-a6fa-299757f8e7ed\">\n",
              "    <div class=\"colab-df-container\">\n",
              "      <div>\n",
              "<style scoped>\n",
              "    .dataframe tbody tr th:only-of-type {\n",
              "        vertical-align: middle;\n",
              "    }\n",
              "\n",
              "    .dataframe tbody tr th {\n",
              "        vertical-align: top;\n",
              "    }\n",
              "\n",
              "    .dataframe thead th {\n",
              "        text-align: right;\n",
              "    }\n",
              "</style>\n",
              "<table border=\"1\" class=\"dataframe\">\n",
              "  <thead>\n",
              "    <tr style=\"text-align: right;\">\n",
              "      <th></th>\n",
              "      <th>a</th>\n",
              "      <th>e</th>\n",
              "      <th>i</th>\n",
              "      <th>om</th>\n",
              "      <th>w</th>\n",
              "      <th>q</th>\n",
              "      <th>ad</th>\n",
              "      <th>per_y</th>\n",
              "      <th>data_arc</th>\n",
              "      <th>condition_code</th>\n",
              "      <th>...</th>\n",
              "      <th>rot_per</th>\n",
              "      <th>GM</th>\n",
              "      <th>BV</th>\n",
              "      <th>UB</th>\n",
              "      <th>IR</th>\n",
              "      <th>G</th>\n",
              "      <th>moid</th>\n",
              "      <th>n</th>\n",
              "      <th>per</th>\n",
              "      <th>ma</th>\n",
              "    </tr>\n",
              "  </thead>\n",
              "  <tbody>\n",
              "    <tr>\n",
              "      <th>count</th>\n",
              "      <td>137636.000000</td>\n",
              "      <td>137636.000000</td>\n",
              "      <td>137636.000000</td>\n",
              "      <td>137636.000000</td>\n",
              "      <td>137636.000000</td>\n",
              "      <td>137636.000000</td>\n",
              "      <td>137636.000000</td>\n",
              "      <td>137636.000000</td>\n",
              "      <td>137498.000000</td>\n",
              "      <td>137636.000000</td>\n",
              "      <td>...</td>\n",
              "      <td>11188.000000</td>\n",
              "      <td>1.400000e+01</td>\n",
              "      <td>1005.000000</td>\n",
              "      <td>965.000000</td>\n",
              "      <td>1.00</td>\n",
              "      <td>119.000000</td>\n",
              "      <td>137636.000000</td>\n",
              "      <td>137636.000000</td>\n",
              "      <td>1.376360e+05</td>\n",
              "      <td>137636.000000</td>\n",
              "    </tr>\n",
              "    <tr>\n",
              "      <th>mean</th>\n",
              "      <td>2.814613</td>\n",
              "      <td>0.145485</td>\n",
              "      <td>10.349182</td>\n",
              "      <td>169.827629</td>\n",
              "      <td>181.904551</td>\n",
              "      <td>2.402609</td>\n",
              "      <td>3.226618</td>\n",
              "      <td>4.884248</td>\n",
              "      <td>8969.818601</td>\n",
              "      <td>0.485207</td>\n",
              "      <td>...</td>\n",
              "      <td>23.566011</td>\n",
              "      <td>7.821928e+00</td>\n",
              "      <td>0.768844</td>\n",
              "      <td>0.364108</td>\n",
              "      <td>-0.33</td>\n",
              "      <td>0.178739</td>\n",
              "      <td>1.420145</td>\n",
              "      <td>0.219640</td>\n",
              "      <td>1.783972e+03</td>\n",
              "      <td>183.116785</td>\n",
              "    </tr>\n",
              "    <tr>\n",
              "      <th>std</th>\n",
              "      <td>1.522740</td>\n",
              "      <td>0.077573</td>\n",
              "      <td>6.835111</td>\n",
              "      <td>102.713052</td>\n",
              "      <td>103.556464</td>\n",
              "      <td>0.516169</td>\n",
              "      <td>2.896374</td>\n",
              "      <td>25.532565</td>\n",
              "      <td>6165.176190</td>\n",
              "      <td>1.966078</td>\n",
              "      <td>...</td>\n",
              "      <td>74.829904</td>\n",
              "      <td>1.678880e+01</td>\n",
              "      <td>0.088327</td>\n",
              "      <td>0.095707</td>\n",
              "      <td>NaN</td>\n",
              "      <td>0.134603</td>\n",
              "      <td>0.512241</td>\n",
              "      <td>0.056980</td>\n",
              "      <td>9.325769e+03</td>\n",
              "      <td>103.411497</td>\n",
              "    </tr>\n",
              "    <tr>\n",
              "      <th>min</th>\n",
              "      <td>0.626226</td>\n",
              "      <td>0.000489</td>\n",
              "      <td>0.021855</td>\n",
              "      <td>0.000738</td>\n",
              "      <td>0.004466</td>\n",
              "      <td>0.081882</td>\n",
              "      <td>0.999956</td>\n",
              "      <td>0.495569</td>\n",
              "      <td>1.000000</td>\n",
              "      <td>0.000000</td>\n",
              "      <td>...</td>\n",
              "      <td>0.029952</td>\n",
              "      <td>2.100000e-09</td>\n",
              "      <td>0.580000</td>\n",
              "      <td>0.120000</td>\n",
              "      <td>-0.33</td>\n",
              "      <td>-0.250000</td>\n",
              "      <td>0.000166</td>\n",
              "      <td>0.000128</td>\n",
              "      <td>1.810067e+02</td>\n",
              "      <td>0.000517</td>\n",
              "    </tr>\n",
              "    <tr>\n",
              "      <th>25%</th>\n",
              "      <td>2.536714</td>\n",
              "      <td>0.089623</td>\n",
              "      <td>5.120506</td>\n",
              "      <td>82.334880</td>\n",
              "      <td>91.947943</td>\n",
              "      <td>2.068948</td>\n",
              "      <td>2.864438</td>\n",
              "      <td>4.040317</td>\n",
              "      <td>6291.000000</td>\n",
              "      <td>0.000000</td>\n",
              "      <td>...</td>\n",
              "      <td>4.670000</td>\n",
              "      <td>1.022225e-03</td>\n",
              "      <td>0.700000</td>\n",
              "      <td>0.289000</td>\n",
              "      <td>-0.33</td>\n",
              "      <td>0.100000</td>\n",
              "      <td>1.082523</td>\n",
              "      <td>0.181231</td>\n",
              "      <td>1.475726e+03</td>\n",
              "      <td>94.301261</td>\n",
              "    </tr>\n",
              "    <tr>\n",
              "      <th>50%</th>\n",
              "      <td>2.750859</td>\n",
              "      <td>0.138543</td>\n",
              "      <td>9.389963</td>\n",
              "      <td>160.438430</td>\n",
              "      <td>183.669900</td>\n",
              "      <td>2.363897</td>\n",
              "      <td>3.167516</td>\n",
              "      <td>4.562581</td>\n",
              "      <td>7572.000000</td>\n",
              "      <td>0.000000</td>\n",
              "      <td>...</td>\n",
              "      <td>7.560000</td>\n",
              "      <td>6.192500e-01</td>\n",
              "      <td>0.743000</td>\n",
              "      <td>0.360000</td>\n",
              "      <td>-0.33</td>\n",
              "      <td>0.190000</td>\n",
              "      <td>1.384935</td>\n",
              "      <td>0.216024</td>\n",
              "      <td>1.666483e+03</td>\n",
              "      <td>186.826667</td>\n",
              "    </tr>\n",
              "    <tr>\n",
              "      <th>75%</th>\n",
              "      <td>3.092537</td>\n",
              "      <td>0.191141</td>\n",
              "      <td>13.738588</td>\n",
              "      <td>256.268387</td>\n",
              "      <td>271.762261</td>\n",
              "      <td>2.685811</td>\n",
              "      <td>3.468608</td>\n",
              "      <td>5.438518</td>\n",
              "      <td>9731.000000</td>\n",
              "      <td>0.000000</td>\n",
              "      <td>...</td>\n",
              "      <td>14.579500</td>\n",
              "      <td>6.500000e+00</td>\n",
              "      <td>0.850000</td>\n",
              "      <td>0.439000</td>\n",
              "      <td>-0.33</td>\n",
              "      <td>0.250000</td>\n",
              "      <td>1.699385</td>\n",
              "      <td>0.243948</td>\n",
              "      <td>1.986419e+03</td>\n",
              "      <td>271.468299</td>\n",
              "    </tr>\n",
              "    <tr>\n",
              "      <th>max</th>\n",
              "      <td>389.145964</td>\n",
              "      <td>0.984348</td>\n",
              "      <td>170.323647</td>\n",
              "      <td>359.990858</td>\n",
              "      <td>359.995174</td>\n",
              "      <td>40.465671</td>\n",
              "      <td>772.201080</td>\n",
              "      <td>7676.742943</td>\n",
              "      <td>72684.000000</td>\n",
              "      <td>9.000000</td>\n",
              "      <td>...</td>\n",
              "      <td>1880.000000</td>\n",
              "      <td>6.262840e+01</td>\n",
              "      <td>1.077000</td>\n",
              "      <td>0.655000</td>\n",
              "      <td>-0.33</td>\n",
              "      <td>0.600000</td>\n",
              "      <td>39.507000</td>\n",
              "      <td>1.988877</td>\n",
              "      <td>2.803930e+06</td>\n",
              "      <td>359.999979</td>\n",
              "    </tr>\n",
              "  </tbody>\n",
              "</table>\n",
              "<p>8 rows × 24 columns</p>\n",
              "</div>\n",
              "      <button class=\"colab-df-convert\" onclick=\"convertToInteractive('df-94fd115f-9bdf-410c-a6fa-299757f8e7ed')\"\n",
              "              title=\"Convert this dataframe to an interactive table.\"\n",
              "              style=\"display:none;\">\n",
              "        \n",
              "  <svg xmlns=\"http://www.w3.org/2000/svg\" height=\"24px\"viewBox=\"0 0 24 24\"\n",
              "       width=\"24px\">\n",
              "    <path d=\"M0 0h24v24H0V0z\" fill=\"none\"/>\n",
              "    <path d=\"M18.56 5.44l.94 2.06.94-2.06 2.06-.94-2.06-.94-.94-2.06-.94 2.06-2.06.94zm-11 1L8.5 8.5l.94-2.06 2.06-.94-2.06-.94L8.5 2.5l-.94 2.06-2.06.94zm10 10l.94 2.06.94-2.06 2.06-.94-2.06-.94-.94-2.06-.94 2.06-2.06.94z\"/><path d=\"M17.41 7.96l-1.37-1.37c-.4-.4-.92-.59-1.43-.59-.52 0-1.04.2-1.43.59L10.3 9.45l-7.72 7.72c-.78.78-.78 2.05 0 2.83L4 21.41c.39.39.9.59 1.41.59.51 0 1.02-.2 1.41-.59l7.78-7.78 2.81-2.81c.8-.78.8-2.07 0-2.86zM5.41 20L4 18.59l7.72-7.72 1.47 1.35L5.41 20z\"/>\n",
              "  </svg>\n",
              "      </button>\n",
              "      \n",
              "  <style>\n",
              "    .colab-df-container {\n",
              "      display:flex;\n",
              "      flex-wrap:wrap;\n",
              "      gap: 12px;\n",
              "    }\n",
              "\n",
              "    .colab-df-convert {\n",
              "      background-color: #E8F0FE;\n",
              "      border: none;\n",
              "      border-radius: 50%;\n",
              "      cursor: pointer;\n",
              "      display: none;\n",
              "      fill: #1967D2;\n",
              "      height: 32px;\n",
              "      padding: 0 0 0 0;\n",
              "      width: 32px;\n",
              "    }\n",
              "\n",
              "    .colab-df-convert:hover {\n",
              "      background-color: #E2EBFA;\n",
              "      box-shadow: 0px 1px 2px rgba(60, 64, 67, 0.3), 0px 1px 3px 1px rgba(60, 64, 67, 0.15);\n",
              "      fill: #174EA6;\n",
              "    }\n",
              "\n",
              "    [theme=dark] .colab-df-convert {\n",
              "      background-color: #3B4455;\n",
              "      fill: #D2E3FC;\n",
              "    }\n",
              "\n",
              "    [theme=dark] .colab-df-convert:hover {\n",
              "      background-color: #434B5C;\n",
              "      box-shadow: 0px 1px 3px 1px rgba(0, 0, 0, 0.15);\n",
              "      filter: drop-shadow(0px 1px 2px rgba(0, 0, 0, 0.3));\n",
              "      fill: #FFFFFF;\n",
              "    }\n",
              "  </style>\n",
              "\n",
              "      <script>\n",
              "        const buttonEl =\n",
              "          document.querySelector('#df-94fd115f-9bdf-410c-a6fa-299757f8e7ed button.colab-df-convert');\n",
              "        buttonEl.style.display =\n",
              "          google.colab.kernel.accessAllowed ? 'block' : 'none';\n",
              "\n",
              "        async function convertToInteractive(key) {\n",
              "          const element = document.querySelector('#df-94fd115f-9bdf-410c-a6fa-299757f8e7ed');\n",
              "          const dataTable =\n",
              "            await google.colab.kernel.invokeFunction('convertToInteractive',\n",
              "                                                     [key], {});\n",
              "          if (!dataTable) return;\n",
              "\n",
              "          const docLinkHtml = 'Like what you see? Visit the ' +\n",
              "            '<a target=\"_blank\" href=https://colab.research.google.com/notebooks/data_table.ipynb>data table notebook</a>'\n",
              "            + ' to learn more about interactive tables.';\n",
              "          element.innerHTML = '';\n",
              "          dataTable['output_type'] = 'display_data';\n",
              "          await google.colab.output.renderOutput(dataTable, element);\n",
              "          const docLink = document.createElement('div');\n",
              "          docLink.innerHTML = docLinkHtml;\n",
              "          element.appendChild(docLink);\n",
              "        }\n",
              "      </script>\n",
              "    </div>\n",
              "  </div>\n",
              "  "
            ]
          },
          "metadata": {},
          "execution_count": 5
        }
      ]
    },
    {
      "cell_type": "code",
      "execution_count": 6,
      "metadata": {
        "id": "v8hbAJ-42OeP",
        "colab": {
          "base_uri": "https://localhost:8080/",
          "height": 302
        },
        "outputId": "c1ed9187-7dfd-4793-fc59-a98e3438ca8a"
      },
      "outputs": [
        {
          "output_type": "execute_result",
          "data": {
            "text/plain": [
              "Text(0.5, 1.0, 'Scatter plt between Diameter of asteroids and Semi major axis')"
            ]
          },
          "metadata": {},
          "execution_count": 6
        },
        {
          "output_type": "display_data",
          "data": {
            "text/plain": [
              "<Figure size 432x288 with 1 Axes>"
            ],
            "image/png": "[encoded data removed]"
          },
          "metadata": {
            "needs_background": "light"
          }
        }
      ],
      "source": [
        "sns.boxplot(data=df2, y=df2['a'])\n",
        "plt.title(\"Boxplot of semi major axis\")\n",
        "\n",
        "plt.scatter(df2['a'],df2['diameter'])\n",
        "plt.xlabel(\"Semi major axis\")\n",
        "plt.ylabel(\"Diameter of asteroids\")\n",
        "plt.title(\"Scatter plt between Diameter of asteroids and Semi major axis\")"
      ]
    },
    {
      "cell_type": "code",
      "execution_count": 7,
      "metadata": {
        "id": "kuu2jhvA2Ot6",
        "colab": {
          "base_uri": "https://localhost:8080/",
          "height": 302
        },
        "outputId": "41cce782-737b-41f9-cdc1-c58b5b4b4bb7"
      },
      "outputs": [
        {
          "output_type": "execute_result",
          "data": {
            "text/plain": [
              "Text(0.5, 1.0, 'Boxplot of eccentricity')"
            ]
          },
          "metadata": {},
          "execution_count": 7
        },
        {
          "output_type": "display_data",
          "data": {
            "text/plain": [
              "<Figure size 432x288 with 1 Axes>"
            ],
            "image/png": "[encoded data removed]"
          },
          "metadata": {
            "needs_background": "light"
          }
        }
      ],
      "source": [
        "sns.distplot([df2], x = df2['e'])\n",
        "plt.xlabel(\"Eccentricity\")\n",
        "plt.title(\"Distribution of eccentricity\")\n",
        "\n",
        "sns.boxplot(data=df2,y=df2['e'])\n",
        "plt.title(\"Boxplot of eccentricity\")"
      ]
    },
    {
      "cell_type": "code",
      "execution_count": 8,
      "metadata": {
        "id": "7L3kL0893UFU",
        "colab": {
          "base_uri": "https://localhost:8080/",
          "height": 312
        },
        "outputId": "70b4c74b-19bb-41de-9e04-490b0a5fe9f9"
      },
      "outputs": [
        {
          "output_type": "execute_result",
          "data": {
            "text/plain": [
              "Text(0.5, 1.0, 'Scatter plot between eccentricity and diameter of asteroid')"
            ]
          },
          "metadata": {},
          "execution_count": 8
        },
        {
          "output_type": "display_data",
          "data": {
            "text/plain": [
              "<Figure size 432x288 with 1 Axes>"
            ],
            "image/png": "[encoded data removed]"
          },
          "metadata": {
            "needs_background": "light"
          }
        }
      ],
      "source": [
        "plt.scatter(df2['e'],df2.diameter)\n",
        "plt.xlabel(\"Eccentricity\")\n",
        "plt.ylabel(\"Diameter of asteroids\")\n",
        "plt.title(\"Scatter plot between eccentricity and diameter of asteroid\")"
      ]
    },
    {
      "cell_type": "code",
      "execution_count": 12,
      "metadata": {
        "id": "lRufhICt3ULN",
        "colab": {
          "base_uri": "https://localhost:8080/",
          "height": 382
        },
        "outputId": "cb239bdf-6408-4152-f8ad-7db0c2777a1a"
      },
      "outputs": [
        {
          "output_type": "stream",
          "name": "stdout",
          "text": [
            "minimum value of inclination is 0.02185489628573509\n",
            "50 percentile of inclination is 9.38996344892033\n",
            "95 percentile of inclination is 19.46060807095649\n",
            "99 percentile of inclination is 29.002069816760045\n",
            "maximum value of inclination is 170.3236472007492\n"
          ]
        },
        {
          "output_type": "display_data",
          "data": {
            "text/plain": [
              "<Figure size 432x288 with 1 Axes>"
            ],
            "image/png": "[encoded data removed]"
          },
          "metadata": {
            "needs_background": "light"
          }
        }
      ],
      "source": [
        "sns.distplot([df2], x=df2['i'])\n",
        "plt.xlabel(\"Inclination with respect to x-y elliptical plane\")\n",
        "plt.title(\"Distribution\")\n",
        "\n",
        "print(\"minimum value of inclination is {}\".format(min(df2['i'])))\n",
        "print(\"50 percentile of inclination is {}\".format(np.percentile(df2['i'], 50))) \n",
        "print(\"95 percentile of inclination is {}\".format(np.percentile(df2['i'], 90))) \n",
        "print(\"99 percentile of inclination is {}\".format(np.percentile(df2['i'], 99))) \n",
        "print(\"maximum value of inclination is {}\".format(max(df2['i']))) \n",
        "\n",
        "df2 = df2[df2['i']<30]"
      ]
    },
    {
      "cell_type": "code",
      "source": [
        "sns.distplot([df2], x=df2['i'])"
      ],
      "metadata": {
        "colab": {
          "base_uri": "https://localhost:8080/",
          "height": 282
        },
        "id": "cfC_267CqckJ",
        "outputId": "2928ef0e-2cb1-4197-edd9-07de050367ca"
      },
      "execution_count": null,
      "outputs": [
        {
          "output_type": "execute_result",
          "data": {
            "text/plain": [
              "<matplotlib.axes._subplots.AxesSubplot at 0x7f8b9916cf50>"
            ]
          },
          "metadata": {},
          "execution_count": 10
        },
        {
          "output_type": "display_data",
          "data": {
            "text/plain": [
              "<Figure size 432x288 with 1 Axes>"
            ],
            "image/png": "[encoded data removed]"
          },
          "metadata": {
            "needs_background": "light"
          }
        }
      ]
    },
    {
      "cell_type": "code",
      "execution_count": null,
      "metadata": {
        "id": "BG3hKGjg3URH",
        "colab": {
          "base_uri": "https://localhost:8080/",
          "height": 312
        },
        "outputId": "e8f73b67-2da8-4690-f5da-7aefbd824fee"
      },
      "outputs": [
        {
          "output_type": "execute_result",
          "data": {
            "text/plain": [
              "Text(0.5, 1.0, 'Scatter plot between Inclination and diameter of asteroid')"
            ]
          },
          "metadata": {},
          "execution_count": 11
        },
        {
          "output_type": "display_data",
          "data": {
            "text/plain": [
              "<Figure size 432x288 with 1 Axes>"
            ],
            "image/png": "[encoded data removed]"
          },
          "metadata": {
            "needs_background": "light"
          }
        }
      ],
      "source": [
        "plt.scatter(df2['i'],df2.diameter)\n",
        "plt.xlabel(\"Inclination with respect to x-y plane \")\n",
        "plt.ylabel(\"Diameter of asteroids\")\n",
        "plt.title(\"Scatter plot between Inclination and diameter of asteroid\")"
      ]
    },
    {
      "cell_type": "code",
      "execution_count": null,
      "metadata": {
        "id": "8-S9QXjJ3UW9",
        "colab": {
          "base_uri": "https://localhost:8080/",
          "height": 382
        },
        "outputId": "bbd73b81-b7c1-4875-99a0-40f8d365569a"
      },
      "outputs": [
        {
          "output_type": "stream",
          "name": "stdout",
          "text": [
            "minimum value of longitude of the ascending node is 0.0007381194225785\n",
            "50 percentile of longitude of the ascending node is 160.4384304493951\n",
            "95 percentile of longitude of the ascending node is 321.2174492545553\n",
            "99 percentile of longitude of the ascending node is 356.4063159846065\n",
            "maximum value of longitude of the ascending node is 359.9908583489855\n"
          ]
        },
        {
          "output_type": "display_data",
          "data": {
            "text/plain": [
              "<Figure size 432x288 with 1 Axes>"
            ],
            "image/png": "[encoded data removed]"
          },
          "metadata": {
            "needs_background": "light"
          }
        }
      ],
      "source": [
        "sns.distplot([df2],x=df2['om'])\n",
        "plt.xlabel(\"Longitude of the ascending node\")\n",
        "plt.title(\"Distribution of longitude of the ascending node\")\n",
        "\n",
        "print(\"minimum value of longitude of the ascending node is {}\".format(min(df2['om'])))\n",
        "print(\"50 percentile of longitude of the ascending node is {}\".format(np.percentile(df2['om'], 50))) \n",
        "print(\"95 percentile of longitude of the ascending node is {}\".format(np.percentile(df2['om'], 90))) \n",
        "print(\"99 percentile of longitude of the ascending node is {}\".format(np.percentile(df2['om'], 99))) \n",
        "print(\"maximum value of longitude of the ascending node is {}\".format(max(df2['om'])))"
      ]
    },
    {
      "cell_type": "code",
      "execution_count": null,
      "metadata": {
        "id": "RsHaVLg54yyi",
        "colab": {
          "base_uri": "https://localhost:8080/",
          "height": 312
        },
        "outputId": "26c8e57d-6e79-4375-d09e-7018584dd747"
      },
      "outputs": [
        {
          "output_type": "execute_result",
          "data": {
            "text/plain": [
              "Text(0.5, 1.0, 'Scatter plot between ascending node and diameter of asteroid')"
            ]
          },
          "metadata": {},
          "execution_count": 13
        },
        {
          "output_type": "display_data",
          "data": {
            "text/plain": [
              "<Figure size 432x288 with 1 Axes>"
            ],
            "image/png": "[encoded data removed]"
          },
          "metadata": {
            "needs_background": "light"
          }
        }
      ],
      "source": [
        "plt.scatter(df2['om'],df2.diameter)\n",
        "plt.xlabel(\"Ascending node\")\n",
        "plt.ylabel(\"Diameter of asteroids\")\n",
        "plt.title(\"Scatter plot between ascending node and diameter of asteroid\")"
      ]
    },
    {
      "cell_type": "code",
      "execution_count": null,
      "metadata": {
        "id": "wGA9EgXD4zCL",
        "colab": {
          "base_uri": "https://localhost:8080/",
          "height": 382
        },
        "outputId": "a1c5eca3-7746-4dcf-a3f3-d9eb064c1589"
      },
      "outputs": [
        {
          "output_type": "stream",
          "name": "stdout",
          "text": [
            "minimum value of argument of perihelion is 0.00446626727791945\n",
            "50 percentile of argument of perihelion is 183.66990007288655\n",
            "95 percentile of argument of perihelion is 323.75648909330215\n",
            "99 percentile of argument of perihelion is 356.24534282802796\n",
            "maximum value of argument of perihelion is 359.9951738471951\n"
          ]
        },
        {
          "output_type": "display_data",
          "data": {
            "text/plain": [
              "<Figure size 432x288 with 1 Axes>"
            ],
            "image/png": "[encoded data removed]"
          },
          "metadata": {
            "needs_background": "light"
          }
        }
      ],
      "source": [
        "sns.distplot([df2],x=df2['w'])\n",
        "plt.xlabel(\"Argument of perihelion\")\n",
        "plt.title(\"Distribution of argument of perihelion\")\n",
        "\n",
        "print(\"minimum value of argument of perihelion is {}\".format(min(df2['w']))) \n",
        "print(\"50 percentile of argument of perihelion is {}\".format(np.percentile(df2['w'], 50))) \n",
        "print(\"95 percentile of argument of perihelion is {}\".format(np.percentile(df2['w'], 90))) \n",
        "print(\"99 percentile of argument of perihelion is {}\".format(np.percentile(df2['w'], 99))) \n",
        "print(\"maximum value of argument of perihelion is {}\".format(max(df2['w']))) "
      ]
    },
    {
      "cell_type": "code",
      "execution_count": null,
      "metadata": {
        "id": "zSpMWly34zGO",
        "colab": {
          "base_uri": "https://localhost:8080/",
          "height": 312
        },
        "outputId": "a41e0c38-b4a4-42cd-d22f-25364ab1ae7c"
      },
      "outputs": [
        {
          "output_type": "execute_result",
          "data": {
            "text/plain": [
              "Text(0.5, 1.0, 'Scatter plot between argument of perihelion and diameter of asteroid')"
            ]
          },
          "metadata": {},
          "execution_count": 15
        },
        {
          "output_type": "display_data",
          "data": {
            "text/plain": [
              "<Figure size 432x288 with 1 Axes>"
            ],
            "image/png": "[encoded data removed]"
          },
          "metadata": {
            "needs_background": "light"
          }
        }
      ],
      "source": [
        "plt.scatter(df2['w'],df2.diameter)\n",
        "plt.xlabel(\"Argument of Perihelion\")\n",
        "plt.ylabel(\"Diameter of asteroids\")\n",
        "plt.title(\"Scatter plot between argument of perihelion and diameter of asteroid\")"
      ]
    },
    {
      "cell_type": "code",
      "execution_count": 13,
      "metadata": {
        "id": "uzaOwhhO4zIm",
        "colab": {
          "base_uri": "https://localhost:8080/",
          "height": 382
        },
        "outputId": "062b3b01-dd40-43d5-8b45-099fd322162d"
      },
      "outputs": [
        {
          "output_type": "stream",
          "name": "stdout",
          "text": [
            "Minimum value of perihelion distance is 0.09204753842469984\n",
            "50 percentile of perihelion distance is 2.36607471925363\n",
            "95 percentile of perihelion distance is 2.88368951476623\n",
            "99 percentile of perihelion distance is 4.694108984384074\n",
            "Maximum value of perihelion distance is 40.46567138768128\n"
          ]
        },
        {
          "output_type": "display_data",
          "data": {
            "text/plain": [
              "<Figure size 432x288 with 1 Axes>"
            ],
            "image/png": "[encoded data removed]"
          },
          "metadata": {
            "needs_background": "light"
          }
        }
      ],
      "source": [
        "sns.distplot([df2],x=df2['q'])\n",
        "plt.xlabel(\"Perihelion Distance\")\n",
        "plt.title(\"Distribution of perihelion distance\")\n",
        "\n",
        "print(\"Minimum value of perihelion distance is {}\".format(min(df2['q'])))\n",
        "print(\"50 percentile of perihelion distance is {}\".format(np.percentile(df2['q'], 50))) \n",
        "print(\"95 percentile of perihelion distance is {}\".format(np.percentile(df2['q'], 90))) \n",
        "print(\"99 percentile of perihelion distance is {}\".format(np.percentile(df2['q'], 99))) \n",
        "print(\"Maximum value of perihelion distance is {}\".format(max(df2['q']))) \n",
        "\n",
        "df2 = df2[df2['q']<5]"
      ]
    },
    {
      "cell_type": "code",
      "execution_count": null,
      "metadata": {
        "id": "zDocZWep4zNH",
        "colab": {
          "base_uri": "https://localhost:8080/",
          "height": 312
        },
        "outputId": "701a55bd-c480-4d95-9487-711301e53e5f"
      },
      "outputs": [
        {
          "output_type": "execute_result",
          "data": {
            "text/plain": [
              "Text(0.5, 1.0, 'Scatter plot between perihelion distance and diameter of asteroid')"
            ]
          },
          "metadata": {},
          "execution_count": 17
        },
        {
          "output_type": "display_data",
          "data": {
            "text/plain": [
              "<Figure size 432x288 with 1 Axes>"
            ],
            "image/png": "[encoded data removed]"
          },
          "metadata": {
            "needs_background": "light"
          }
        }
      ],
      "source": [
        "plt.scatter(df2['q'],df2.diameter)\n",
        "plt.xlabel(\"Perihelion distance\")\n",
        "plt.ylabel(\"Diameter of asteroids\")\n",
        "plt.title(\"Scatter plot between perihelion distance and diameter of asteroid\")"
      ]
    },
    {
      "cell_type": "code",
      "execution_count": null,
      "metadata": {
        "id": "iVve4PJI4zPZ",
        "colab": {
          "base_uri": "https://localhost:8080/"
        },
        "outputId": "a34d7d31-1915-4d35-c44f-d98319b44d22"
      },
      "outputs": [
        {
          "output_type": "execute_result",
          "data": {
            "text/plain": [
              "0         0.0\n",
              "1         0.0\n",
              "2         0.0\n",
              "3         0.0\n",
              "4         0.0\n",
              "         ... \n",
              "797860    1.0\n",
              "798077    2.0\n",
              "798189    1.0\n",
              "799752    2.0\n",
              "810375    3.0\n",
              "Name: condition_code, Length: 137636, dtype: float64"
            ]
          },
          "metadata": {},
          "execution_count": 18
        }
      ],
      "source": [
        "df2.condition_code"
      ]
    },
    {
      "cell_type": "code",
      "execution_count": null,
      "metadata": {
        "id": "wccCQyLD40M2",
        "colab": {
          "base_uri": "https://localhost:8080/",
          "height": 313
        },
        "outputId": "1ba11641-7558-4beb-d625-2cb4c6176edf"
      },
      "outputs": [
        {
          "output_type": "execute_result",
          "data": {
            "text/plain": [
              "Text(0.5, 1.0, 'Box plot of asteroid diameters for different condition code')"
            ]
          },
          "metadata": {},
          "execution_count": 19
        },
        {
          "output_type": "display_data",
          "data": {
            "text/plain": [
              "<Figure size 432x288 with 1 Axes>"
            ],
            "image/png": "[encoded data removed]"
          },
          "metadata": {
            "needs_background": "light"
          }
        }
      ],
      "source": [
        "sns.boxplot(data=df2, x = df2['condition_code'], y = df2['diameter'])\n",
        "plt.ylim((0,50))\n",
        "plt.title(\"Box plot of asteroid diameters for different condition code\")"
      ]
    },
    {
      "cell_type": "code",
      "execution_count": null,
      "metadata": {
        "id": "rhthJAG4Dwlk",
        "colab": {
          "base_uri": "https://localhost:8080/",
          "height": 312
        },
        "outputId": "51eab68e-fce7-4616-d434-fd9e315880a9"
      },
      "outputs": [
        {
          "output_type": "execute_result",
          "data": {
            "text/plain": [
              "Text(0.5, 1.0, 'Distribution of no of observation used')"
            ]
          },
          "metadata": {},
          "execution_count": 20
        },
        {
          "output_type": "display_data",
          "data": {
            "text/plain": [
              "<Figure size 432x288 with 1 Axes>"
            ],
            "image/png": "[encoded data removed]"
          },
          "metadata": {
            "needs_background": "light"
          }
        }
      ],
      "source": [
        "sns.distplot([df2],x=df2['n_obs_used'])\n",
        "plt.xlabel(\"No of observation used\")\n",
        "plt.title(\"Distribution of no of observation used\")"
      ]
    },
    {
      "cell_type": "code",
      "execution_count": null,
      "metadata": {
        "id": "q1kQtYITDwfR",
        "colab": {
          "base_uri": "https://localhost:8080/",
          "height": 312
        },
        "outputId": "9011ed02-10f7-403f-c6b3-5e29bc0b4fbd"
      },
      "outputs": [
        {
          "output_type": "execute_result",
          "data": {
            "text/plain": [
              "Text(0.5, 1.0, 'Scatter plot between number of observation used and diameter of asteroid')"
            ]
          },
          "metadata": {},
          "execution_count": 21
        },
        {
          "output_type": "display_data",
          "data": {
            "text/plain": [
              "<Figure size 432x288 with 1 Axes>"
            ],
            "image/png": "[encoded data removed]"
          },
          "metadata": {
            "needs_background": "light"
          }
        }
      ],
      "source": [
        "plt.scatter(df2['n_obs_used'],df2.diameter)\n",
        "plt.xlabel(\"Number of observation used\")\n",
        "plt.ylabel(\"Diameter of asteroids\")\n",
        "plt.title(\"Scatter plot between number of observation used and diameter of asteroid\")"
      ]
    },
    {
      "cell_type": "code",
      "execution_count": null,
      "metadata": {
        "id": "oIw7CycDDwZU",
        "colab": {
          "base_uri": "https://localhost:8080/",
          "height": 330
        },
        "outputId": "4791c3b9-01eb-4126-9cc2-40e9b015b693"
      },
      "outputs": [
        {
          "output_type": "stream",
          "name": "stderr",
          "text": [
            "WARNING:matplotlib.legend:No handles with labels found to put in legend.\n"
          ]
        },
        {
          "output_type": "execute_result",
          "data": {
            "text/plain": [
              "<matplotlib.legend.Legend at 0x7f8b98ac0350>"
            ]
          },
          "metadata": {},
          "execution_count": 22
        },
        {
          "output_type": "display_data",
          "data": {
            "text/plain": [
              "<Figure size 432x288 with 1 Axes>"
            ],
            "image/png": "[encoded data removed]"
          },
          "metadata": {
            "needs_background": "light"
          }
        }
      ],
      "source": [
        "sns.boxplot(data=df2,x='pha',y='diameter')\n",
        "plt.title(\"Boxplot of asteroid diameter for pha and non-pha\")\n",
        "plt.ylim((0,100))\n",
        "plt.legend()"
      ]
    },
    {
      "cell_type": "code",
      "execution_count": null,
      "metadata": {
        "id": "H7txU_gjDwTG",
        "colab": {
          "base_uri": "https://localhost:8080/"
        },
        "outputId": "bbc8932f-ed02-41c5-a05c-6087409e153c"
      },
      "outputs": [
        {
          "output_type": "execute_result",
          "data": {
            "text/plain": [
              "MBA    126390\n",
              "OMB      7510\n",
              "TJN      1874\n",
              "IMB       588\n",
              "APO       486\n",
              "MCA       355\n",
              "AMO       269\n",
              "ATE        95\n",
              "CEN        49\n",
              "TNO        13\n",
              "AST         7\n",
              "Name: class, dtype: int64"
            ]
          },
          "metadata": {},
          "execution_count": 23
        }
      ],
      "source": [
        "df2['class'].value_counts()"
      ]
    },
    {
      "cell_type": "code",
      "execution_count": null,
      "metadata": {
        "id": "KKHQ4g5yDwAM",
        "colab": {
          "base_uri": "https://localhost:8080/",
          "height": 351
        },
        "outputId": "49f9abc3-411f-487f-c022-24f234bc649e"
      },
      "outputs": [
        {
          "output_type": "display_data",
          "data": {
            "text/plain": [
              "<Figure size 720x360 with 1 Axes>"
            ],
            "image/png": "[encoded data removed]"
          },
          "metadata": {
            "needs_background": "light"
          }
        }
      ],
      "source": [
        "plt.figure(figsize=(10,5))\n",
        "sns.boxplot(x='condition_code', y='diameter', data=df2)\n",
        "plt.title('Diameter by Condition Code')\n",
        "plt.yscale('log')"
      ]
    },
    {
      "cell_type": "code",
      "execution_count": null,
      "metadata": {
        "colab": {
          "base_uri": "https://localhost:8080/",
          "height": 394
        },
        "id": "DT5Z-wpKKlzI",
        "outputId": "24ea3323-7681-43c2-9073-d0066ed46cd0"
      },
      "outputs": [
        {
          "output_type": "execute_result",
          "data": {
            "text/plain": [
              "                   a              e              i             om  \\\n",
              "count  137636.000000  137636.000000  137636.000000  137636.000000   \n",
              "mean        2.814613       0.145485      10.349182     169.827629   \n",
              "std         1.522740       0.077573       6.835111     102.713052   \n",
              "min         0.626226       0.000489       0.021855       0.000738   \n",
              "25%         2.536714       0.089623       5.120506      82.334880   \n",
              "50%         2.750859       0.138543       9.389963     160.438430   \n",
              "75%         3.092537       0.191141      13.738588     256.268387   \n",
              "max       389.145964       0.984348     170.323647     359.990858   \n",
              "\n",
              "                   w              q             ad          per_y  \\\n",
              "count  137636.000000  137636.000000  137636.000000  137636.000000   \n",
              "mean      181.904551       2.402609       3.226618       4.884248   \n",
              "std       103.556464       0.516169       2.896374      25.532565   \n",
              "min         0.004466       0.081882       0.999956       0.495569   \n",
              "25%        91.947943       2.068948       2.864438       4.040317   \n",
              "50%       183.669900       2.363897       3.167516       4.562581   \n",
              "75%       271.762261       2.685811       3.468608       5.438518   \n",
              "max       359.995174      40.465671     772.201080    7676.742943   \n",
              "\n",
              "            data_arc  condition_code  ...       rot_per            GM  \\\n",
              "count  137498.000000   137636.000000  ...  11188.000000  1.400000e+01   \n",
              "mean     8969.818601        0.485207  ...     23.566011  7.821928e+00   \n",
              "std      6165.176190        1.966078  ...     74.829904  1.678880e+01   \n",
              "min         1.000000        0.000000  ...      0.029952  2.100000e-09   \n",
              "25%      6291.000000        0.000000  ...      4.670000  1.022225e-03   \n",
              "50%      7572.000000        0.000000  ...      7.560000  6.192500e-01   \n",
              "75%      9731.000000        0.000000  ...     14.579500  6.500000e+00   \n",
              "max     72684.000000        9.000000  ...   1880.000000  6.262840e+01   \n",
              "\n",
              "                BV          UB    IR           G           moid  \\\n",
              "count  1005.000000  965.000000  1.00  119.000000  137636.000000   \n",
              "mean      0.768844    0.364108 -0.33    0.178739       1.420145   \n",
              "std       0.088327    0.095707   NaN    0.134603       0.512241   \n",
              "min       0.580000    0.120000 -0.33   -0.250000       0.000166   \n",
              "25%       0.700000    0.289000 -0.33    0.100000       1.082523   \n",
              "50%       0.743000    0.360000 -0.33    0.190000       1.384935   \n",
              "75%       0.850000    0.439000 -0.33    0.250000       1.699385   \n",
              "max       1.077000    0.655000 -0.33    0.600000      39.507000   \n",
              "\n",
              "                   n           per             ma  \n",
              "count  137636.000000  1.376360e+05  137636.000000  \n",
              "mean        0.219640  1.783972e+03     183.116785  \n",
              "std         0.056980  9.325769e+03     103.411497  \n",
              "min         0.000128  1.810067e+02       0.000517  \n",
              "25%         0.181231  1.475726e+03      94.301261  \n",
              "50%         0.216024  1.666483e+03     186.826667  \n",
              "75%         0.243948  1.986419e+03     271.468299  \n",
              "max         1.988877  2.803930e+06     359.999979  \n",
              "\n",
              "[8 rows x 24 columns]"
            ],
            "text/html": [
              "\n",
              "  <div id=\"df-52d910e7-362a-4ae7-9324-6c4a3a08950a\">\n",
              "    <div class=\"colab-df-container\">\n",
              "      <div>\n",
              "<style scoped>\n",
              "    .dataframe tbody tr th:only-of-type {\n",
              "        vertical-align: middle;\n",
              "    }\n",
              "\n",
              "    .dataframe tbody tr th {\n",
              "        vertical-align: top;\n",
              "    }\n",
              "\n",
              "    .dataframe thead th {\n",
              "        text-align: right;\n",
              "    }\n",
              "</style>\n",
              "<table border=\"1\" class=\"dataframe\">\n",
              "  <thead>\n",
              "    <tr style=\"text-align: right;\">\n",
              "      <th></th>\n",
              "      <th>a</th>\n",
              "      <th>e</th>\n",
              "      <th>i</th>\n",
              "      <th>om</th>\n",
              "      <th>w</th>\n",
              "      <th>q</th>\n",
              "      <th>ad</th>\n",
              "      <th>per_y</th>\n",
              "      <th>data_arc</th>\n",
              "      <th>condition_code</th>\n",
              "      <th>...</th>\n",
              "      <th>rot_per</th>\n",
              "      <th>GM</th>\n",
              "      <th>BV</th>\n",
              "      <th>UB</th>\n",
              "      <th>IR</th>\n",
              "      <th>G</th>\n",
              "      <th>moid</th>\n",
              "      <th>n</th>\n",
              "      <th>per</th>\n",
              "      <th>ma</th>\n",
              "    </tr>\n",
              "  </thead>\n",
              "  <tbody>\n",
              "    <tr>\n",
              "      <th>count</th>\n",
              "      <td>137636.000000</td>\n",
              "      <td>137636.000000</td>\n",
              "      <td>137636.000000</td>\n",
              "      <td>137636.000000</td>\n",
              "      <td>137636.000000</td>\n",
              "      <td>137636.000000</td>\n",
              "      <td>137636.000000</td>\n",
              "      <td>137636.000000</td>\n",
              "      <td>137498.000000</td>\n",
              "      <td>137636.000000</td>\n",
              "      <td>...</td>\n",
              "      <td>11188.000000</td>\n",
              "      <td>1.400000e+01</td>\n",
              "      <td>1005.000000</td>\n",
              "      <td>965.000000</td>\n",
              "      <td>1.00</td>\n",
              "      <td>119.000000</td>\n",
              "      <td>137636.000000</td>\n",
              "      <td>137636.000000</td>\n",
              "      <td>1.376360e+05</td>\n",
              "      <td>137636.000000</td>\n",
              "    </tr>\n",
              "    <tr>\n",
              "      <th>mean</th>\n",
              "      <td>2.814613</td>\n",
              "      <td>0.145485</td>\n",
              "      <td>10.349182</td>\n",
              "      <td>169.827629</td>\n",
              "      <td>181.904551</td>\n",
              "      <td>2.402609</td>\n",
              "      <td>3.226618</td>\n",
              "      <td>4.884248</td>\n",
              "      <td>8969.818601</td>\n",
              "      <td>0.485207</td>\n",
              "      <td>...</td>\n",
              "      <td>23.566011</td>\n",
              "      <td>7.821928e+00</td>\n",
              "      <td>0.768844</td>\n",
              "      <td>0.364108</td>\n",
              "      <td>-0.33</td>\n",
              "      <td>0.178739</td>\n",
              "      <td>1.420145</td>\n",
              "      <td>0.219640</td>\n",
              "      <td>1.783972e+03</td>\n",
              "      <td>183.116785</td>\n",
              "    </tr>\n",
              "    <tr>\n",
              "      <th>std</th>\n",
              "      <td>1.522740</td>\n",
              "      <td>0.077573</td>\n",
              "      <td>6.835111</td>\n",
              "      <td>102.713052</td>\n",
              "      <td>103.556464</td>\n",
              "      <td>0.516169</td>\n",
              "      <td>2.896374</td>\n",
              "      <td>25.532565</td>\n",
              "      <td>6165.176190</td>\n",
              "      <td>1.966078</td>\n",
              "      <td>...</td>\n",
              "      <td>74.829904</td>\n",
              "      <td>1.678880e+01</td>\n",
              "      <td>0.088327</td>\n",
              "      <td>0.095707</td>\n",
              "      <td>NaN</td>\n",
              "      <td>0.134603</td>\n",
              "      <td>0.512241</td>\n",
              "      <td>0.056980</td>\n",
              "      <td>9.325769e+03</td>\n",
              "      <td>103.411497</td>\n",
              "    </tr>\n",
              "    <tr>\n",
              "      <th>min</th>\n",
              "      <td>0.626226</td>\n",
              "      <td>0.000489</td>\n",
              "      <td>0.021855</td>\n",
              "      <td>0.000738</td>\n",
              "      <td>0.004466</td>\n",
              "      <td>0.081882</td>\n",
              "      <td>0.999956</td>\n",
              "      <td>0.495569</td>\n",
              "      <td>1.000000</td>\n",
              "      <td>0.000000</td>\n",
              "      <td>...</td>\n",
              "      <td>0.029952</td>\n",
              "      <td>2.100000e-09</td>\n",
              "      <td>0.580000</td>\n",
              "      <td>0.120000</td>\n",
              "      <td>-0.33</td>\n",
              "      <td>-0.250000</td>\n",
              "      <td>0.000166</td>\n",
              "      <td>0.000128</td>\n",
              "      <td>1.810067e+02</td>\n",
              "      <td>0.000517</td>\n",
              "    </tr>\n",
              "    <tr>\n",
              "      <th>25%</th>\n",
              "      <td>2.536714</td>\n",
              "      <td>0.089623</td>\n",
              "      <td>5.120506</td>\n",
              "      <td>82.334880</td>\n",
              "      <td>91.947943</td>\n",
              "      <td>2.068948</td>\n",
              "      <td>2.864438</td>\n",
              "      <td>4.040317</td>\n",
              "      <td>6291.000000</td>\n",
              "      <td>0.000000</td>\n",
              "      <td>...</td>\n",
              "      <td>4.670000</td>\n",
              "      <td>1.022225e-03</td>\n",
              "      <td>0.700000</td>\n",
              "      <td>0.289000</td>\n",
              "      <td>-0.33</td>\n",
              "      <td>0.100000</td>\n",
              "      <td>1.082523</td>\n",
              "      <td>0.181231</td>\n",
              "      <td>1.475726e+03</td>\n",
              "      <td>94.301261</td>\n",
              "    </tr>\n",
              "    <tr>\n",
              "      <th>50%</th>\n",
              "      <td>2.750859</td>\n",
              "      <td>0.138543</td>\n",
              "      <td>9.389963</td>\n",
              "      <td>160.438430</td>\n",
              "      <td>183.669900</td>\n",
              "      <td>2.363897</td>\n",
              "      <td>3.167516</td>\n",
              "      <td>4.562581</td>\n",
              "      <td>7572.000000</td>\n",
              "      <td>0.000000</td>\n",
              "      <td>...</td>\n",
              "      <td>7.560000</td>\n",
              "      <td>6.192500e-01</td>\n",
              "      <td>0.743000</td>\n",
              "      <td>0.360000</td>\n",
              "      <td>-0.33</td>\n",
              "      <td>0.190000</td>\n",
              "      <td>1.384935</td>\n",
              "      <td>0.216024</td>\n",
              "      <td>1.666483e+03</td>\n",
              "      <td>186.826667</td>\n",
              "    </tr>\n",
              "    <tr>\n",
              "      <th>75%</th>\n",
              "      <td>3.092537</td>\n",
              "      <td>0.191141</td>\n",
              "      <td>13.738588</td>\n",
              "      <td>256.268387</td>\n",
              "      <td>271.762261</td>\n",
              "      <td>2.685811</td>\n",
              "      <td>3.468608</td>\n",
              "      <td>5.438518</td>\n",
              "      <td>9731.000000</td>\n",
              "      <td>0.000000</td>\n",
              "      <td>...</td>\n",
              "      <td>14.579500</td>\n",
              "      <td>6.500000e+00</td>\n",
              "      <td>0.850000</td>\n",
              "      <td>0.439000</td>\n",
              "      <td>-0.33</td>\n",
              "      <td>0.250000</td>\n",
              "      <td>1.699385</td>\n",
              "      <td>0.243948</td>\n",
              "      <td>1.986419e+03</td>\n",
              "      <td>271.468299</td>\n",
              "    </tr>\n",
              "    <tr>\n",
              "      <th>max</th>\n",
              "      <td>389.145964</td>\n",
              "      <td>0.984348</td>\n",
              "      <td>170.323647</td>\n",
              "      <td>359.990858</td>\n",
              "      <td>359.995174</td>\n",
              "      <td>40.465671</td>\n",
              "      <td>772.201080</td>\n",
              "      <td>7676.742943</td>\n",
              "      <td>72684.000000</td>\n",
              "      <td>9.000000</td>\n",
              "      <td>...</td>\n",
              "      <td>1880.000000</td>\n",
              "      <td>6.262840e+01</td>\n",
              "      <td>1.077000</td>\n",
              "      <td>0.655000</td>\n",
              "      <td>-0.33</td>\n",
              "      <td>0.600000</td>\n",
              "      <td>39.507000</td>\n",
              "      <td>1.988877</td>\n",
              "      <td>2.803930e+06</td>\n",
              "      <td>359.999979</td>\n",
              "    </tr>\n",
              "  </tbody>\n",
              "</table>\n",
              "<p>8 rows × 24 columns</p>\n",
              "</div>\n",
              "      <button class=\"colab-df-convert\" onclick=\"convertToInteractive('df-52d910e7-362a-4ae7-9324-6c4a3a08950a')\"\n",
              "              title=\"Convert this dataframe to an interactive table.\"\n",
              "              style=\"display:none;\">\n",
              "        \n",
              "  <svg xmlns=\"http://www.w3.org/2000/svg\" height=\"24px\"viewBox=\"0 0 24 24\"\n",
              "       width=\"24px\">\n",
              "    <path d=\"M0 0h24v24H0V0z\" fill=\"none\"/>\n",
              "    <path d=\"M18.56 5.44l.94 2.06.94-2.06 2.06-.94-2.06-.94-.94-2.06-.94 2.06-2.06.94zm-11 1L8.5 8.5l.94-2.06 2.06-.94-2.06-.94L8.5 2.5l-.94 2.06-2.06.94zm10 10l.94 2.06.94-2.06 2.06-.94-2.06-.94-.94-2.06-.94 2.06-2.06.94z\"/><path d=\"M17.41 7.96l-1.37-1.37c-.4-.4-.92-.59-1.43-.59-.52 0-1.04.2-1.43.59L10.3 9.45l-7.72 7.72c-.78.78-.78 2.05 0 2.83L4 21.41c.39.39.9.59 1.41.59.51 0 1.02-.2 1.41-.59l7.78-7.78 2.81-2.81c.8-.78.8-2.07 0-2.86zM5.41 20L4 18.59l7.72-7.72 1.47 1.35L5.41 20z\"/>\n",
              "  </svg>\n",
              "      </button>\n",
              "      \n",
              "  <style>\n",
              "    .colab-df-container {\n",
              "      display:flex;\n",
              "      flex-wrap:wrap;\n",
              "      gap: 12px;\n",
              "    }\n",
              "\n",
              "    .colab-df-convert {\n",
              "      background-color: #E8F0FE;\n",
              "      border: none;\n",
              "      border-radius: 50%;\n",
              "      cursor: pointer;\n",
              "      display: none;\n",
              "      fill: #1967D2;\n",
              "      height: 32px;\n",
              "      padding: 0 0 0 0;\n",
              "      width: 32px;\n",
              "    }\n",
              "\n",
              "    .colab-df-convert:hover {\n",
              "      background-color: #E2EBFA;\n",
              "      box-shadow: 0px 1px 2px rgba(60, 64, 67, 0.3), 0px 1px 3px 1px rgba(60, 64, 67, 0.15);\n",
              "      fill: #174EA6;\n",
              "    }\n",
              "\n",
              "    [theme=dark] .colab-df-convert {\n",
              "      background-color: #3B4455;\n",
              "      fill: #D2E3FC;\n",
              "    }\n",
              "\n",
              "    [theme=dark] .colab-df-convert:hover {\n",
              "      background-color: #434B5C;\n",
              "      box-shadow: 0px 1px 3px 1px rgba(0, 0, 0, 0.15);\n",
              "      filter: drop-shadow(0px 1px 2px rgba(0, 0, 0, 0.3));\n",
              "      fill: #FFFFFF;\n",
              "    }\n",
              "  </style>\n",
              "\n",
              "      <script>\n",
              "        const buttonEl =\n",
              "          document.querySelector('#df-52d910e7-362a-4ae7-9324-6c4a3a08950a button.colab-df-convert');\n",
              "        buttonEl.style.display =\n",
              "          google.colab.kernel.accessAllowed ? 'block' : 'none';\n",
              "\n",
              "        async function convertToInteractive(key) {\n",
              "          const element = document.querySelector('#df-52d910e7-362a-4ae7-9324-6c4a3a08950a');\n",
              "          const dataTable =\n",
              "            await google.colab.kernel.invokeFunction('convertToInteractive',\n",
              "                                                     [key], {});\n",
              "          if (!dataTable) return;\n",
              "\n",
              "          const docLinkHtml = 'Like what you see? Visit the ' +\n",
              "            '<a target=\"_blank\" href=https://colab.research.google.com/notebooks/data_table.ipynb>data table notebook</a>'\n",
              "            + ' to learn more about interactive tables.';\n",
              "          element.innerHTML = '';\n",
              "          dataTable['output_type'] = 'display_data';\n",
              "          await google.colab.output.renderOutput(dataTable, element);\n",
              "          const docLink = document.createElement('div');\n",
              "          docLink.innerHTML = docLinkHtml;\n",
              "          element.appendChild(docLink);\n",
              "        }\n",
              "      </script>\n",
              "    </div>\n",
              "  </div>\n",
              "  "
            ]
          },
          "metadata": {},
          "execution_count": 25
        }
      ],
      "source": [
        "df2.describe()"
      ]
    },
    {
      "cell_type": "code",
      "execution_count": null,
      "metadata": {
        "colab": {
          "base_uri": "https://localhost:8080/"
        },
        "id": "OnvxuNw9KxT6",
        "outputId": "510cf6a6-40a2-492e-93f1-3720f1bbe383"
      },
      "outputs": [
        {
          "output_type": "execute_result",
          "data": {
            "text/plain": [
              "count    137636.000000\n",
              "mean          5.483228\n",
              "std           9.385735\n",
              "min           0.002500\n",
              "25%           2.770000\n",
              "50%           3.956000\n",
              "75%           5.742000\n",
              "max         939.400000\n",
              "Name: diameter, dtype: float64"
            ]
          },
          "metadata": {},
          "execution_count": 26
        }
      ],
      "source": [
        "df2[\"diameter\"].describe()"
      ]
    },
    {
      "cell_type": "code",
      "execution_count": null,
      "metadata": {
        "colab": {
          "base_uri": "https://localhost:8080/",
          "height": 229
        },
        "id": "VrVb2pmTLU7_",
        "outputId": "5d2664eb-a0fb-4b25-e674-9cbd9829f956"
      },
      "outputs": [
        {
          "output_type": "display_data",
          "data": {
            "text/plain": [
              "<Figure size 1800x216 with 1 Axes>"
            ],
            "image/png": "[encoded data removed]"
          },
          "metadata": {
            "needs_background": "light"
          }
        }
      ],
      "source": [
        "plt.figure(figsize=(25,3))\n",
        "sns.boxplot( x='diameter', data=df2)\n",
        "plt.xscale('log')"
      ]
    },
    {
      "cell_type": "markdown",
      "metadata": {
        "id": "brAKN0UYWCbh"
      },
      "source": []
    },
    {
      "cell_type": "code",
      "execution_count": 14,
      "metadata": {
        "id": "VA3_2SZSU5um",
        "colab": {
          "base_uri": "https://localhost:8080/"
        },
        "outputId": "75fe6648-dc2c-4b08-9880-4b4ff1051ea0"
      },
      "outputs": [
        {
          "output_type": "execute_result",
          "data": {
            "text/plain": [
              "17"
            ]
          },
          "metadata": {},
          "execution_count": 14
        }
      ],
      "source": [
        "drop_list = ['H','albedo','name','rot_per','spec_B',\n",
        "             'BV','spec_T','UB','G',\n",
        "             'extent','GM','IR','neo','pha']\n",
        "df3 = df2.drop(drop_list, axis=1)\n",
        "\n",
        "#There were originally 31 columns, test that there are only 19.\n",
        "len(df3.columns)"
      ]
    },
    {
      "cell_type": "code",
      "execution_count": 15,
      "metadata": {
        "colab": {
          "base_uri": "https://localhost:8080/"
        },
        "id": "8NGttGs2U56w",
        "outputId": "512b9641-6ffa-486c-cf01-5ad9ccb0b658"
      },
      "outputs": [
        {
          "output_type": "execute_result",
          "data": {
            "text/plain": [
              "a                 0\n",
              "e                 0\n",
              "i                 0\n",
              "om                0\n",
              "w                 0\n",
              "q                 0\n",
              "ad                0\n",
              "per_y             0\n",
              "data_arc          0\n",
              "condition_code    0\n",
              "n_obs_used        0\n",
              "diameter          0\n",
              "moid              0\n",
              "class             0\n",
              "n                 0\n",
              "per               0\n",
              "ma                0\n",
              "dtype: int64"
            ]
          },
          "metadata": {},
          "execution_count": 15
        }
      ],
      "source": [
        "df3['data_arc'] = df3['data_arc'].fillna(df3['data_arc'].median())\n",
        "\n",
        "df3.isnull().sum()"
      ]
    },
    {
      "cell_type": "code",
      "execution_count": 17,
      "metadata": {
        "colab": {
          "base_uri": "https://localhost:8080/"
        },
        "id": "oAAKcAxWxtnW",
        "outputId": "3df0c3a9-a841-49de-b59a-50231c7d81ff"
      },
      "outputs": [
        {
          "output_type": "stream",
          "name": "stdout",
          "text": [
            "<class 'pandas.core.frame.DataFrame'>\n",
            "Int64Index: 136385 entries, 0 to 810375\n",
            "Data columns (total 17 columns):\n",
            " #   Column          Non-Null Count   Dtype  \n",
            "---  ------          --------------   -----  \n",
            " 0   a               136385 non-null  float64\n",
            " 1   e               136385 non-null  float64\n",
            " 2   i               136385 non-null  float64\n",
            " 3   om              136385 non-null  float64\n",
            " 4   w               136385 non-null  float64\n",
            " 5   q               136385 non-null  float64\n",
            " 6   ad              136385 non-null  float64\n",
            " 7   per_y           136385 non-null  float64\n",
            " 8   data_arc        136385 non-null  float64\n",
            " 9   condition_code  136385 non-null  float64\n",
            " 10  n_obs_used      136385 non-null  int64  \n",
            " 11  diameter        136385 non-null  float64\n",
            " 12  moid            136385 non-null  float64\n",
            " 13  class           136385 non-null  object \n",
            " 14  n               136385 non-null  float64\n",
            " 15  per             136385 non-null  float64\n",
            " 16  ma              136385 non-null  float64\n",
            "dtypes: float64(15), int64(1), object(1)\n",
            "memory usage: 18.7+ MB\n"
          ]
        }
      ],
      "source": [
        "df3.info()"
      ]
    },
    {
      "cell_type": "code",
      "execution_count": 18,
      "metadata": {
        "id": "mb6h4WPs0hgV"
      },
      "outputs": [],
      "source": [
        "categorical_column = ['class','condition_code']\n",
        "\n",
        "for i in categorical_column:\n",
        "  x = pd.get_dummies(df3[i],drop_first = True)\n",
        "  df3 = pd.concat([df3,x],axis=1)\n",
        "\n",
        "df3.drop(categorical_column,axis=1, inplace = True)"
      ]
    },
    {
      "cell_type": "code",
      "execution_count": 19,
      "metadata": {
        "colab": {
          "base_uri": "https://localhost:8080/"
        },
        "id": "THaUWI_sFTgs",
        "outputId": "950fe756-6197-4637-cf3b-825a56631509"
      },
      "outputs": [
        {
          "output_type": "execute_result",
          "data": {
            "text/plain": [
              "Index([         'a',          'e',          'i',         'om',          'w',\n",
              "                'q',         'ad',      'per_y',   'data_arc', 'n_obs_used',\n",
              "         'diameter',       'moid',          'n',        'per',         'ma',\n",
              "              'APO',        'AST',        'ATE',        'CEN',        'IMB',\n",
              "              'MBA',        'MCA',        'OMB',        'TJN',          1.0,\n",
              "                2.0,          3.0,          4.0,          5.0,          6.0,\n",
              "                7.0,          8.0,          9.0],\n",
              "      dtype='object')"
            ]
          },
          "metadata": {},
          "execution_count": 19
        }
      ],
      "source": [
        "df3.columns"
      ]
    },
    {
      "cell_type": "markdown",
      "metadata": {
        "id": "UNpqSvfXg-b0"
      },
      "source": [
        "Model Selection\n"
      ]
    },
    {
      "cell_type": "code",
      "execution_count": 20,
      "metadata": {
        "id": "YbcN27sjyOVz"
      },
      "outputs": [],
      "source": [
        "X = df3.drop(\"diameter\",axis=1)\n",
        "y = df3[\"diameter\"]\n",
        "\n",
        "from sklearn.model_selection import train_test_split\n",
        "X_train, X_test, y_train, y_test = train_test_split(X, y, test_size = 0.3, random_state = 1)"
      ]
    },
    {
      "cell_type": "code",
      "execution_count": 21,
      "metadata": {
        "colab": {
          "base_uri": "https://localhost:8080/"
        },
        "id": "iD5hHcCDLPC2",
        "outputId": "0f4ea661-ed3e-4ebb-98b4-bacd30133b81"
      },
      "outputs": [
        {
          "output_type": "stream",
          "name": "stdout",
          "text": [
            "<class 'pandas.core.frame.DataFrame'>\n",
            "Int64Index: 40916 entries, 626652 to 233587\n",
            "Data columns (total 32 columns):\n",
            " #   Column      Non-Null Count  Dtype  \n",
            "---  ------      --------------  -----  \n",
            " 0   a           40916 non-null  float64\n",
            " 1   e           40916 non-null  float64\n",
            " 2   i           40916 non-null  float64\n",
            " 3   om          40916 non-null  float64\n",
            " 4   w           40916 non-null  float64\n",
            " 5   q           40916 non-null  float64\n",
            " 6   ad          40916 non-null  float64\n",
            " 7   per_y       40916 non-null  float64\n",
            " 8   data_arc    40916 non-null  float64\n",
            " 9   n_obs_used  40916 non-null  int64  \n",
            " 10  moid        40916 non-null  float64\n",
            " 11  n           40916 non-null  float64\n",
            " 12  per         40916 non-null  float64\n",
            " 13  ma          40916 non-null  float64\n",
            " 14  APO         40916 non-null  uint8  \n",
            " 15  AST         40916 non-null  uint8  \n",
            " 16  ATE         40916 non-null  uint8  \n",
            " 17  CEN         40916 non-null  uint8  \n",
            " 18  IMB         40916 non-null  uint8  \n",
            " 19  MBA         40916 non-null  uint8  \n",
            " 20  MCA         40916 non-null  uint8  \n",
            " 21  OMB         40916 non-null  uint8  \n",
            " 22  TJN         40916 non-null  uint8  \n",
            " 23  1.0         40916 non-null  uint8  \n",
            " 24  2.0         40916 non-null  uint8  \n",
            " 25  3.0         40916 non-null  uint8  \n",
            " 26  4.0         40916 non-null  uint8  \n",
            " 27  5.0         40916 non-null  uint8  \n",
            " 28  6.0         40916 non-null  uint8  \n",
            " 29  7.0         40916 non-null  uint8  \n",
            " 30  8.0         40916 non-null  uint8  \n",
            " 31  9.0         40916 non-null  uint8  \n",
            "dtypes: float64(13), int64(1), uint8(18)\n",
            "memory usage: 5.4 MB\n"
          ]
        }
      ],
      "source": [
        "X_test.info()"
      ]
    },
    {
      "cell_type": "code",
      "execution_count": 22,
      "metadata": {
        "id": "yJAeJTEiE5pB"
      },
      "outputs": [],
      "source": [
        "from sklearn.metrics import mean_squared_error"
      ]
    },
    {
      "cell_type": "code",
      "execution_count": 23,
      "metadata": {
        "id": "SFdSpz2PKAwG",
        "colab": {
          "base_uri": "https://localhost:8080/"
        },
        "outputId": "6585746c-5897-45a4-bfc3-f1a8a9c8f345"
      },
      "outputs": [
        {
          "output_type": "execute_result",
          "data": {
            "text/plain": [
              "45.33455571703317"
            ]
          },
          "metadata": {},
          "execution_count": 23
        }
      ],
      "source": [
        "from sklearn.linear_model import LinearRegression\n",
        "\n",
        "lr = LinearRegression()\n",
        "lr.fit(X_train,y_train)\n",
        "y_pred=lr.predict(X_train)\n",
        "train_error_linear = mean_squared_error(y_train,y_pred)\n",
        "y_test_pred=lr.predict(X_test)\n",
        "test_error_linear = mean_squared_error(y_test,y_test_pred)\n",
        "\n",
        "test_error_linear"
      ]
    },
    {
      "cell_type": "code",
      "source": [
        "from sklearn.ensemble import RandomForestRegressor\n",
        "\n",
        "rf_reg = RandomForestRegressor(n_estimators=400, max_features=5, max_depth=6)\n",
        "rf_reg.fit(X_train, y_train)\n",
        "pred = rf_reg.predict(X_test)\n",
        "pred"
      ],
      "metadata": {
        "colab": {
          "base_uri": "https://localhost:8080/"
        },
        "id": "WT5aBHtPxaRD",
        "outputId": "e52c610a-2790-475f-f1ba-5ca79b4ec4ed"
      },
      "execution_count": 24,
      "outputs": [
        {
          "output_type": "execute_result",
          "data": {
            "text/plain": [
              "array([2.74566017, 6.3000161 , 6.01589022, ..., 2.88622609, 3.90923402,\n",
              "       2.92776423])"
            ]
          },
          "metadata": {},
          "execution_count": 24
        }
      ]
    },
    {
      "cell_type": "code",
      "source": [
        "print('Training Accuracy : ' , rf_reg.score(X_train, y_train))\n",
        "print('Test Accuracy : ' , rf_reg.score(X_test, y_test))"
      ],
      "metadata": {
        "colab": {
          "base_uri": "https://localhost:8080/"
        },
        "id": "weZq3nY3xipq",
        "outputId": "73e44280-0edc-490e-ab3b-ea83b061e69d"
      },
      "execution_count": null,
      "outputs": [
        {
          "output_type": "stream",
          "name": "stdout",
          "text": [
            "Training Accuracy :  0.6482997066737823\n",
            "Test Accuracy :  0.6134339821870125\n"
          ]
        }
      ]
    },
    {
      "cell_type": "code",
      "execution_count": 16,
      "metadata": {
        "id": "Mw5S8qr2KAWq"
      },
      "outputs": [],
      "source": [
        "from sklearn.model_selection import RandomizedSearchCV\n",
        "def algorithm_pipeline(X_train_data, X_test_data, y_train_data, y_test_data, \n",
        "                       model, param_grid,n_candidates, cv=3, scoring_fit=None,\n",
        "                       do_probabilities = False,verbose=1 ):\n",
        "    rs = RandomizedSearchCV(\n",
        "        estimator=model,\n",
        "        param_distributions=param_grid, \n",
        "        n_iter=n_candidates,\n",
        "        cv=cv, \n",
        "        n_jobs=-1, \n",
        "        scoring=scoring_fit,\n",
        "        verbose=verbose\n",
        "    )\n",
        "    fitted_model = rs.fit(X_train_data, y_train_data)\n",
        "    \n",
        "    if do_probabilities:\n",
        "      pred = fitted_model.predict_proba(X_test_data)\n",
        "    else:\n",
        "      pred = fitted_model.predict(X_test_data)\n",
        "    \n",
        "    return fitted_model, pred"
      ]
    },
    {
      "cell_type": "code",
      "execution_count": 25,
      "metadata": {
        "id": "pCCdDEypKAOI",
        "colab": {
          "base_uri": "https://localhost:8080/"
        },
        "outputId": "b43ff0f3-a2ed-4f66-f2ed-ce34c30b0f31"
      },
      "outputs": [
        {
          "output_type": "stream",
          "name": "stdout",
          "text": [
            "[06:48:59] WARNING: /workspace/src/objective/regression_obj.cu:152: reg:linear is now deprecated in favor of reg:squarederror.\n"
          ]
        },
        {
          "output_type": "execute_result",
          "data": {
            "text/plain": [
              "XGBRegressor()"
            ]
          },
          "metadata": {},
          "execution_count": 25
        }
      ],
      "source": [
        "from xgboost import XGBRegressor\n",
        "XGBReg = XGBRegressor()\n",
        "\n",
        "eval_set=[(X_test,y_test)]\n",
        "XGBReg.fit(X_train, y_train,eval_metric=\"error\",eval_set=eval_set, early_stopping_rounds=10, verbose=0)"
      ]
    },
    {
      "cell_type": "code",
      "execution_count": 26,
      "metadata": {
        "id": "_GFzmLS3KAGQ",
        "colab": {
          "base_uri": "https://localhost:8080/"
        },
        "outputId": "7076ec43-3bc7-4a11-f3c2-42cae9363c7c"
      },
      "outputs": [
        {
          "output_type": "stream",
          "name": "stdout",
          "text": [
            "Training score: -0.1659789898538786\n",
            "Testing score: -0.14336371898329703\n",
            "\n",
            "Mean Squared Error: 91.08877731233693\n"
          ]
        }
      ],
      "source": [
        "print(f\"Training score: {XGBReg.score(X_train, y_train)}\")\n",
        "print(f\"Testing score: {XGBReg.score(X_test, y_test)}\")\n",
        "\n",
        "y_pred= XGBReg.predict(X_test)\n",
        "print(f'\\nMean Squared Error: {mean_squared_error(y_test, y_pred)}')"
      ]
    },
    {
      "cell_type": "code",
      "execution_count": 27,
      "metadata": {
        "id": "mbwkSB9sRpKs"
      },
      "outputs": [],
      "source": [
        "import tensorflow as tf\n",
        "from tensorflow import keras"
      ]
    },
    {
      "cell_type": "code",
      "source": [
        "# Creating model using the Sequential in tensorflow\n",
        "def build_sequential():\n",
        "  ANN= keras.Sequential([\n",
        "#input layer\n",
        "    keras.layers.Dense(40, input_dim=X_train.shape[1],activation=\"relu\"),\n",
        "#hidden layers\n",
        "    keras.layers.Dropout(0.4), \n",
        "    keras.layers.Dense(30,activation=\"relu\"),\n",
        "    keras.layers.Dropout(0.4), \n",
        "    keras.layers.Dense(20,activation=\"relu\"),\n",
        "    keras.layers.Dropout(0.3),  \n",
        "#output layer\n",
        "    keras.layers.Dense(1, activation='linear')\n",
        "])\n",
        "  return ANN\n",
        "# build the model\n",
        "ANN = build_sequential()"
      ],
      "metadata": {
        "id": "KKQOk_sFiljU"
      },
      "execution_count": 28,
      "outputs": []
    },
    {
      "cell_type": "code",
      "source": [
        "ANN.compile(loss=\"mean_squared_error\", optimizer='adam', metrics=[\"mse\"])"
      ],
      "metadata": {
        "id": "2CK4-qidioIT"
      },
      "execution_count": 29,
      "outputs": []
    },
    {
      "cell_type": "code",
      "source": [
        "##The model weights will be updated after each batch of 64 samples.\n",
        "ANN.fit(X_train, y_train, epochs=10, batch_size=64,validation_split=0.2)\n",
        "ANN.summary()"
      ],
      "metadata": {
        "colab": {
          "base_uri": "https://localhost:8080/"
        },
        "id": "ZiNEmP3qiqwM",
        "outputId": "52544f2e-6aa2-4010-9ecc-bafeb8c9e5ce"
      },
      "execution_count": 30,
      "outputs": [
        {
          "output_type": "stream",
          "name": "stdout",
          "text": [
            "Epoch 1/10\n",
            "1194/1194 [==============================] - 7s 3ms/step - loss: 65420.8242 - mse: 65420.8242 - val_loss: 78.1984 - val_mse: 78.1984\n",
            "Epoch 2/10\n",
            "1194/1194 [==============================] - 4s 3ms/step - loss: 1110.2312 - mse: 1110.2312 - val_loss: 73.0513 - val_mse: 73.0513\n",
            "Epoch 3/10\n",
            "1194/1194 [==============================] - 4s 3ms/step - loss: 388.2620 - mse: 388.2620 - val_loss: 72.7015 - val_mse: 72.7015\n",
            "Epoch 4/10\n",
            "1194/1194 [==============================] - 4s 3ms/step - loss: 253.1205 - mse: 253.1205 - val_loss: 68.6361 - val_mse: 68.6361\n",
            "Epoch 5/10\n",
            "1194/1194 [==============================] - 4s 3ms/step - loss: 121.1936 - mse: 121.1936 - val_loss: 65.7612 - val_mse: 65.7612\n",
            "Epoch 6/10\n",
            "1194/1194 [==============================] - 4s 3ms/step - loss: 106.5241 - mse: 106.5241 - val_loss: 55.0343 - val_mse: 55.0343\n",
            "Epoch 7/10\n",
            "1194/1194 [==============================] - 4s 3ms/step - loss: 80.2137 - mse: 80.2137 - val_loss: 61.4828 - val_mse: 61.4828\n",
            "Epoch 8/10\n",
            "1194/1194 [==============================] - 4s 3ms/step - loss: 78.5814 - mse: 78.5814 - val_loss: 62.9161 - val_mse: 62.9161\n",
            "Epoch 9/10\n",
            "1194/1194 [==============================] - 4s 3ms/step - loss: 72.0152 - mse: 72.0152 - val_loss: 56.3008 - val_mse: 56.3008\n",
            "Epoch 10/10\n",
            "1194/1194 [==============================] - 4s 3ms/step - loss: 71.1571 - mse: 71.1571 - val_loss: 59.1069 - val_mse: 59.1069\n",
            "Model: \"sequential\"\n",
            "_________________________________________________________________\n",
            " Layer (type)                Output Shape              Param #   \n",
            "=================================================================\n",
            " dense (Dense)               (None, 40)                1320      \n",
            "                                                                 \n",
            " dropout (Dropout)           (None, 40)                0         \n",
            "                                                                 \n",
            " dense_1 (Dense)             (None, 30)                1230      \n",
            "                                                                 \n",
            " dropout_1 (Dropout)         (None, 30)                0         \n",
            "                                                                 \n",
            " dense_2 (Dense)             (None, 20)                620       \n",
            "                                                                 \n",
            " dropout_2 (Dropout)         (None, 20)                0         \n",
            "                                                                 \n",
            " dense_3 (Dense)             (None, 1)                 21        \n",
            "                                                                 \n",
            "=================================================================\n",
            "Total params: 3,191\n",
            "Trainable params: 3,191\n",
            "Non-trainable params: 0\n",
            "_________________________________________________________________\n"
          ]
        }
      ]
    },
    {
      "cell_type": "code",
      "source": [
        "ANN.evaluate(X_test,y_test)"
      ],
      "metadata": {
        "colab": {
          "base_uri": "https://localhost:8080/"
        },
        "id": "HxJsc9qKitdg",
        "outputId": "01945278-93ef-4147-aba3-cde449d5e117"
      },
      "execution_count": 31,
      "outputs": [
        {
          "output_type": "stream",
          "name": "stdout",
          "text": [
            "1279/1279 [==============================] - 3s 2ms/step - loss: 70.0237 - mse: 70.0237\n"
          ]
        },
        {
          "output_type": "execute_result",
          "data": {
            "text/plain": [
              "[70.0236587524414, 70.0236587524414]"
            ]
          },
          "metadata": {},
          "execution_count": 31
        }
      ]
    },
    {
      "cell_type": "code",
      "source": [
        "from sklearn.metrics import r2_score"
      ],
      "metadata": {
        "id": "ak9pR4Iajap1"
      },
      "execution_count": 32,
      "outputs": []
    },
    {
      "cell_type": "code",
      "source": [
        "y_pred=ANN.predict(X_test)\n",
        "r2_score(y_test,y_pred)"
      ],
      "metadata": {
        "colab": {
          "base_uri": "https://localhost:8080/"
        },
        "id": "fAqbxUm-iwVI",
        "outputId": "cc75d87b-c122-410f-af8b-44fc5615f57d"
      },
      "execution_count": 33,
      "outputs": [
        {
          "output_type": "stream",
          "name": "stdout",
          "text": [
            "1279/1279 [==============================] - 2s 1ms/step\n"
          ]
        },
        {
          "output_type": "execute_result",
          "data": {
            "text/plain": [
              "0.12105041504687275"
            ]
          },
          "metadata": {},
          "execution_count": 33
        }
      ]
    },
    {
      "cell_type": "code",
      "source": [
        "from sklearn.neural_network import MLPRegressor\n",
        "mlpReg=MLPRegressor()\n",
        "mlpReg.fit(X_train,y_train)"
      ],
      "metadata": {
        "id": "1k1o-fDbGv_n",
        "colab": {
          "base_uri": "https://localhost:8080/"
        },
        "outputId": "faf138bf-5efd-4314-ec4e-362b0a3f0c4d"
      },
      "execution_count": 34,
      "outputs": [
        {
          "output_type": "execute_result",
          "data": {
            "text/plain": [
              "MLPRegressor()"
            ]
          },
          "metadata": {},
          "execution_count": 34
        }
      ]
    },
    {
      "cell_type": "code",
      "source": [
        "print(f\"Training score: {mlpReg.score(X_train, y_train)}\")\n",
        "print(f\"Testing score: {mlpReg.score(X_test, y_test)}\")\n",
        "\n",
        "y_pred= mlpReg.predict(X_test)\n",
        "print(f'\\nMean Squared Error: {mean_squared_error(y_test, y_pred)}')"
      ],
      "metadata": {
        "id": "fSGXplH0zZlQ",
        "colab": {
          "base_uri": "https://localhost:8080/"
        },
        "outputId": "ec7f9a0b-63e9-40f3-f5a4-1d7c1952de32"
      },
      "execution_count": 35,
      "outputs": [
        {
          "output_type": "stream",
          "name": "stdout",
          "text": [
            "Training score: 0.1770703300918257\n",
            "Testing score: 0.29288050449166225\n",
            "\n",
            "Mean Squared Error: 56.334348545575956\n"
          ]
        }
      ]
    },
    {
      "cell_type": "code",
      "source": [],
      "metadata": {
        "id": "rQllkboS08Is"
      },
      "execution_count": 35,
      "outputs": []
    },
    {
      "cell_type": "code",
      "source": [
        "drop_list = ['H','albedo','name','rot_per','spec_B',\n",
        "             'BV','spec_T','UB','G',\n",
        "             'extent','GM','IR','neo','pha']\n",
        "test_data.drop(drop_list, axis=1, inplace = True)\n",
        "\n",
        "categorical_column = ['class','condition_code']\n",
        "\n",
        "for i in categorical_column:\n",
        "  x = pd.get_dummies(test_data[i],drop_first = True)\n",
        "  test_data = pd.concat([test_data,x],axis=1)\n",
        "\n",
        "test_data.drop(categorical_column,axis=1, inplace = True)"
      ],
      "metadata": {
        "colab": {
          "base_uri": "https://localhost:8080/"
        },
        "id": "0uNByfYBJUb9",
        "outputId": "237fee44-d27d-4f55-ff29-a9eb47ede601"
      },
      "execution_count": 36,
      "outputs": [
        {
          "output_type": "stream",
          "name": "stderr",
          "text": [
            "/usr/local/lib/python3.7/dist-packages/pandas/core/frame.py:4913: SettingWithCopyWarning: \n",
            "A value is trying to be set on a copy of a slice from a DataFrame\n",
            "\n",
            "See the caveats in the documentation: https://pandas.pydata.org/pandas-docs/stable/user_guide/indexing.html#returning-a-view-versus-a-copy\n",
            "  errors=errors,\n"
          ]
        }
      ]
    },
    {
      "cell_type": "code",
      "source": [
        "mlpReg.predict(test_data)"
      ],
      "metadata": {
        "id": "Jj3Xc5C31GjU"
      },
      "execution_count": null,
      "outputs": []
    },
    {
      "cell_type": "code",
      "source": [],
      "metadata": {
        "id": "Vz0FwZXaJ-0T"
      },
      "execution_count": null,
      "outputs": []
    }
  ],
  "metadata": {
    "colab": {
      "collapsed_sections": [],
      "provenance": []
    },
    "gpuClass": "standard",
    "kernelspec": {
      "display_name": "Python 3",
      "name": "python3"
    },
    "language_info": {
      "name": "python"
    },
    "accelerator": "GPU"
  },
  "nbformat": 4,
  "nbformat_minor": 0
}